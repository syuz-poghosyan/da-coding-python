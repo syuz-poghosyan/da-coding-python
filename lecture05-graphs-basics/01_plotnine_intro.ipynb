{
 "cells": [
  {
   "cell_type": "markdown",
   "id": "6406a193",
   "metadata": {},
   "source": [
    "# Lecture 05\n",
    "                                      \n",
    "## plotnine             \n",
    "            \n",
    "- data import and filter\n",
    "- `ggplot` and `aes` – building blocks of graphs\n",
    "- themes\n",
    "- manipulating axis              \n",
    "- adding lines and annotations                  \n",
    "- other frequently used other plots:     \n",
    "    - bar, box, violin\n",
    "                                    \n",
    "#### Case study\n",
    "- Ch03B Comparing hotel prices in Europe: Vienna vs London     \n",
    "                                      \n",
    "#### Dataset used\n",
    "- hotels-europe       \n",
    "----"
   ]
  },
  {
   "cell_type": "markdown",
   "id": "6689c097",
   "metadata": {},
   "source": [
    "Import packages"
   ]
  },
  {
   "cell_type": "code",
   "execution_count": null,
   "id": "720ecc57",
   "metadata": {},
   "outputs": [],
   "source": [
    "import pandas as pd\n",
    "import numpy as np\n",
    "from plotnine import *\n",
    "import warnings\n",
    "\n",
    "%matplotlib inline\n",
    "warnings.filterwarnings(\"ignore\")"
   ]
  },
  {
   "cell_type": "markdown",
   "id": "a225d95e",
   "metadata": {},
   "source": [
    "### Data import and filter\n",
    "Use the london-vienna dataset to introduce different aspects of plotnine\n"
   ]
  },
  {
   "cell_type": "markdown",
   "id": "3b04dcdf",
   "metadata": {},
   "source": [
    "import the prices and features of hotels"
   ]
  },
  {
   "cell_type": "code",
   "execution_count": null,
   "id": "387c3b83",
   "metadata": {},
   "outputs": [],
   "source": [
    "hotels_europe_price = pd.read_csv(\"https://osf.io/p6tyr/download\")\n",
    "hotels_europe_features = pd.read_csv(\"https://osf.io/utwjs/download\")"
   ]
  },
  {
   "cell_type": "markdown",
   "id": "4be39f90",
   "metadata": {},
   "source": [
    "Join them by hotel_id"
   ]
  },
  {
   "cell_type": "code",
   "execution_count": null,
   "id": "7d7c39a3",
   "metadata": {},
   "outputs": [],
   "source": [
    "df = hotels_europe_price.merge(hotels_europe_features, on = \"hotel_id\")\n",
    "df.head()"
   ]
  },
  {
   "cell_type": "markdown",
   "id": "58d6b569",
   "metadata": {},
   "source": [
    "Filter"
   ]
  },
  {
   "cell_type": "code",
   "execution_count": null,
   "id": "44735869",
   "metadata": {},
   "outputs": [],
   "source": [
    "df = (\n",
    "    df.loc[(df[\"year\"] == 2017) & (df[\"month\"] == 11) & (df[\"weekend\"] == 0)]\n",
    "    .loc[\n",
    "        (df[\"city\"].isin([\"Vienna\", \"London\"]))\n",
    "        & (df[\"city_actual\"].isin([\"Vienna\", \"London\"]))\n",
    "    ]\n",
    "    .loc[df[\"accommodation_type\"] == \"Hotel\"]\n",
    "    .loc[(df[\"stars\"] >= 3) & (df[\"stars\"] <= 4)]\n",
    "    .loc[df[\"price\"] <= 600]\n",
    ")"
   ]
  },
  {
   "cell_type": "markdown",
   "id": "f41335b3",
   "metadata": {},
   "source": [
    "Delete unnecessary input files from memory"
   ]
  },
  {
   "cell_type": "code",
   "execution_count": null,
   "id": "8a5483fe",
   "metadata": {},
   "outputs": [],
   "source": [
    "del hotels_europe_features\n",
    "del hotels_europe_price"
   ]
  },
  {
   "cell_type": "markdown",
   "id": "11af2783",
   "metadata": {},
   "source": [
    "### Building Blocks of Graphs (`ggplot` and `aes`); Themes"
   ]
  },
  {
   "cell_type": "markdown",
   "id": "ff919034",
   "metadata": {},
   "source": [
    "We use the `plotnine` package for visualization in Python. This package relates to the ggplot package in R. \n",
    "\n",
    "plotnine always has a `ggplot()` function which we usually supply with the data and axis variables and a `geom_*type*()` function added, which decides the type of the graph we want to plot."
   ]
  },
  {
   "cell_type": "markdown",
   "id": "f0bcf9bf",
   "metadata": {},
   "source": [
    "Lets create a basic histogram in plotnine\n",
    "\n",
    "First, filter on the Vienna hotels"
   ]
  },
  {
   "cell_type": "code",
   "execution_count": null,
   "id": "d663bd00",
   "metadata": {},
   "outputs": [],
   "source": [
    "vienna_hotels = df.loc[df[\"city_actual\"] == \"Vienna\"]"
   ]
  },
  {
   "cell_type": "markdown",
   "id": "a5bf7765",
   "metadata": {},
   "source": [
    "Create the ggplot object, with data and specify the x-axis in the `aes()` function"
   ]
  },
  {
   "cell_type": "code",
   "execution_count": null,
   "id": "26003711",
   "metadata": {},
   "outputs": [],
   "source": [
    "ggplot(vienna_hotels, aes(x=\"price\"))"
   ]
  },
  {
   "cell_type": "markdown",
   "id": "3eb9c2fa",
   "metadata": {},
   "source": [
    "As you can see, plotnine recognised the range of the `price` variable, however since we did not supply a `geom_*type*()` it cannod decide what kind of plot we would like to see. \n",
    "\n",
    "Let's create a histogram, for which the corresponding function is called `geom_histogram()`"
   ]
  },
  {
   "cell_type": "code",
   "execution_count": null,
   "id": "124c2c63",
   "metadata": {},
   "outputs": [],
   "source": [
    "(\n",
    "    ggplot(vienna_hotels, aes(x=\"price\"))\n",
    "    + geom_histogram(\n",
    "        alpha=0.8, # alpha controls the transparency of bars\n",
    "        binwidth=20, # sets the width of bins (bars)\n",
    "        color=\"white\", # sets color for the contour of the bars\n",
    "        fill=\"blue\", # sets color for the fill of the bars\n",
    "    )\n",
    ")"
   ]
  },
  {
   "cell_type": "markdown",
   "id": "e6f6d536",
   "metadata": {},
   "source": [
    "Set the title of axises using the `labs` function"
   ]
  },
  {
   "cell_type": "code",
   "execution_count": null,
   "id": "a3d5dbee",
   "metadata": {},
   "outputs": [],
   "source": [
    "(\n",
    "    ggplot(vienna_hotels, aes(x=\"price\"))\n",
    "    + geom_histogram(alpha=0.8, binwidth=20, color=\"white\", fill=\"blue\")\n",
    "    + labs(x=\"Hotel Prices in  Vienna\", y=\"Density\")\n",
    ")"
   ]
  },
  {
   "cell_type": "markdown",
   "id": "a45760d1",
   "metadata": {},
   "source": [
    "You can try different themes in plotnine\n",
    "\n",
    " Mostly used: theme_bw(), theme_grey(), theme_gray(), theme_linedraw(), theme_light, theme_dark,            theme_minimal(), theme_classic(), theme_void()"
   ]
  },
  {
   "cell_type": "markdown",
   "id": "3ad4da04",
   "metadata": {},
   "source": [
    "___"
   ]
  },
  {
   "cell_type": "markdown",
   "id": "8319d2a2",
   "metadata": {},
   "source": [
    "theme_bw"
   ]
  },
  {
   "cell_type": "code",
   "execution_count": null,
   "id": "2965a62f",
   "metadata": {},
   "outputs": [],
   "source": [
    "(\n",
    "    ggplot(vienna_hotels, aes(x=\"price\"))\n",
    "    + geom_histogram(alpha=0.8, binwidth=20, color=\"white\", fill=\"blue\")\n",
    "    + labs(x=\"Hotel Prices in  Vienna\", y=\"Density\")\n",
    "    + theme_bw()\n",
    ")"
   ]
  },
  {
   "cell_type": "markdown",
   "id": "a89d3b4e",
   "metadata": {},
   "source": [
    "theme_classic"
   ]
  },
  {
   "cell_type": "code",
   "execution_count": null,
   "id": "01b17cab",
   "metadata": {},
   "outputs": [],
   "source": [
    "(\n",
    "    ggplot(vienna_hotels, aes(x=\"price\"))\n",
    "    + geom_histogram(alpha=0.8, binwidth=20, color=\"white\", fill=\"blue\")\n",
    "    + labs(x=\"Hotel Prices in  Vienna\", y=\"Density\")\n",
    "    + theme_classic()\n",
    ")"
   ]
  },
  {
   "cell_type": "markdown",
   "id": "94eaf904",
   "metadata": {},
   "source": [
    "theme_minimal"
   ]
  },
  {
   "cell_type": "code",
   "execution_count": null,
   "id": "4eed8602",
   "metadata": {},
   "outputs": [],
   "source": [
    "(\n",
    "    ggplot(vienna_hotels, aes(x=\"price\"))\n",
    "    + geom_histogram(alpha=0.8, binwidth=20, color=\"white\", fill=\"blue\")\n",
    "    + labs(x=\"Hotel Prices in  Vienna\", y=\"Density\")\n",
    "    + theme_minimal()\n",
    ")"
   ]
  },
  {
   "cell_type": "markdown",
   "id": "402b4dae",
   "metadata": {},
   "source": [
    "In the book, and in this class we usually use `theme_bw`"
   ]
  },
  {
   "cell_type": "markdown",
   "id": "09c8e6db",
   "metadata": {},
   "source": [
    "### Manipulating Axis"
   ]
  },
  {
   "cell_type": "markdown",
   "id": "ee977a95",
   "metadata": {},
   "source": [
    "Create a plotnine object"
   ]
  },
  {
   "cell_type": "code",
   "execution_count": null,
   "id": "e86ca436",
   "metadata": {},
   "outputs": [],
   "source": [
    "f1 = (\n",
    "    ggplot(vienna_hotels, aes(x=\"price\"))\n",
    "    + geom_histogram(alpha=0.8, binwidth=20, color=\"white\", fill=\"blue\")\n",
    "    + labs(x=\"Hotel Prices in  Vienna\", y=\"Density\")\n",
    "    + theme_bw()\n",
    ")\n",
    "f1 "
   ]
  },
  {
   "cell_type": "markdown",
   "id": "fcfea396",
   "metadata": {},
   "source": [
    "Set the axis: \n",
    "\n",
    "    1) if continuous variable: `scale_()_continuous`\n",
    "    2) if discrete/categorical variable: `scale_()_discrete`"
   ]
  },
  {
   "cell_type": "code",
   "execution_count": null,
   "id": "022fae14",
   "metadata": {},
   "outputs": [],
   "source": [
    "# a) limit -> changes the limit\n",
    "f1 + scale_x_continuous(limits=(0, 300))"
   ]
  },
  {
   "cell_type": "code",
   "execution_count": null,
   "id": "ab38c3bb",
   "metadata": {},
   "outputs": [],
   "source": []
  },
  {
   "cell_type": "code",
   "execution_count": null,
   "id": "92358c36",
   "metadata": {},
   "outputs": [],
   "source": [
    "# b) set tickers, called 'breaks'\n",
    "f1 + scale_x_continuous(limits=(0, 300), breaks=(0, 100, 150, 200, 250, 300))"
   ]
  },
  {
   "cell_type": "markdown",
   "id": "6ab83deb",
   "metadata": {},
   "source": [
    "#### Task: - use only one graph!\n",
    "\n",
    "  1) Set limits between 0  and 500 for x axis\\\n",
    "  2) Set the breaks with binwidth of 50 for X. Use `np.arange` function instead of typing in each of them!\\\n",
    "  3) set the limits for Y between 0 and 100\\\n",
    "  4) Set the breaks with binwidth of 10 for Y"
   ]
  },
  {
   "cell_type": "code",
   "execution_count": null,
   "id": "474117b5",
   "metadata": {},
   "outputs": [],
   "source": [
    "(\n",
    "    f1\n",
    "    + scale_x_continuous(limits=(0, 500), breaks=np.arange(0, 501, 50))\n",
    "    + scale_y_continuous(limits=(0, 100), breaks=np.arange(0, 101, 10))\n",
    ")"
   ]
  },
  {
   "cell_type": "markdown",
   "id": "e2d08810",
   "metadata": {},
   "source": [
    "Note: `np.arrange` returns evenly spaced values within a given interval.\n",
    "\n",
    "`np.arange` can be called with a varying number of positional arguments:\n",
    "\n",
    "- `np.arange(stop)` : Values are generated within the half-open interval `[0, stop)` (in other words, the interval including start but excluding stop).\n",
    "\n",
    "- `np.arange(start, stop)` : Values are generated within the half-open interval `[start, stop)`.\n",
    "\n",
    "- `np.arange(start, stop, step)` :  Values are generated within the half-open interval `[start, stop)`, with spacing between values given by step.\n",
    "\n",
    "For integer arguments the function is roughly equivalent to the Python built-in range, but returns an ndarray rather than a range instance."
   ]
  },
  {
   "cell_type": "markdown",
   "id": "52412699",
   "metadata": {},
   "source": [
    "### Adding lines, texts, ect. to your graph:"
   ]
  },
  {
   "cell_type": "markdown",
   "id": "4afa11e2",
   "metadata": {},
   "source": [
    "a) Add mean and median as lines and annotate them!\n",
    "\n",
    "add a line as the mean:"
   ]
  },
  {
   "cell_type": "code",
   "execution_count": null,
   "id": "fb17195a",
   "metadata": {},
   "outputs": [],
   "source": [
    "f1 = f1 + geom_segment(\n",
    "    aes(\n",
    "        x=vienna_hotels[\"price\"].mean(),\n",
    "        y=0,\n",
    "        xend=vienna_hotels[\"price\"].mean(),\n",
    "        yend=60,\n",
    "    ),\n",
    "    color=\"red\",\n",
    "    size=1,\n",
    ")\n",
    "f1"
   ]
  },
  {
   "cell_type": "markdown",
   "id": "9edf8665",
   "metadata": {},
   "source": [
    "add annotation which says it is the mean"
   ]
  },
  {
   "cell_type": "code",
   "execution_count": null,
   "id": "a671e796",
   "metadata": {},
   "outputs": [],
   "source": [
    "f1 = f1 + annotate(\n",
    "    \"text\", x=vienna_hotels[\"price\"].mean() + 20, y=55, label=\"Mean\", color=\"red\"\n",
    ")\n",
    "f1"
   ]
  },
  {
   "cell_type": "markdown",
   "id": "533b838e",
   "metadata": {},
   "source": [
    "Add the median as a vertical line to the graph"
   ]
  },
  {
   "cell_type": "code",
   "execution_count": null,
   "id": "83fd1b20",
   "metadata": {},
   "outputs": [],
   "source": [
    "median_price = vienna_hotels[\"price\"].median()"
   ]
  },
  {
   "cell_type": "code",
   "execution_count": null,
   "id": "4e5f7bfe",
   "metadata": {},
   "outputs": [],
   "source": [
    "f1 = (\n",
    "    f1\n",
    "    + annotate(\"text\", x=median_price + 10, y=65, label=\"Median\", color=\"green\")\n",
    "    + geom_segment(\n",
    "        aes(x=median_price, y=0, xend=median_price, yend=60), color=\"green\", size=1\n",
    "    )\n",
    ")\n",
    "f1"
   ]
  },
  {
   "cell_type": "markdown",
   "id": "701fdd7c",
   "metadata": {},
   "source": [
    "#### Task: \n",
    "\n",
    "add the 95th percentile to the figure\n",
    "\n",
    "    advice: create a new variable f2 when trying to write this code\n",
    "    here we have redefined the variable f1, however when developing a code\n",
    "    it has several drawbacks to redefine a variable! Discuss!"
   ]
  },
  {
   "cell_type": "code",
   "execution_count": null,
   "id": "57770481",
   "metadata": {},
   "outputs": [],
   "source": [
    "pctg95_price = vienna_hotels[\"price\"].quantile(q=0.95)"
   ]
  },
  {
   "cell_type": "code",
   "execution_count": null,
   "id": "403f7cc6",
   "metadata": {},
   "outputs": [],
   "source": [
    "f2 = (\n",
    "    f1\n",
    "    + annotate(\n",
    "        \"text\", x=pctg95_price + 50, y=55, label=\"95th percentile\", color=\"purple\"\n",
    "    )\n",
    "    + geom_segment(\n",
    "        aes(x=pctg95_price, y=0, xend=pctg95_price, yend=60), color=\"purple\", size=1\n",
    "    )\n",
    ")\n",
    "f2"
   ]
  },
  {
   "cell_type": "markdown",
   "id": "af2170d8",
   "metadata": {},
   "source": [
    "### Other frequently used plots"
   ]
  },
  {
   "cell_type": "markdown",
   "id": "becb6c87",
   "metadata": {},
   "source": [
    "#### a. bar graph\n",
    "\n",
    " Summarize hotels which are close/medium or far away from the city-center:\n",
    "\n",
    "Let create a new factor variable"
   ]
  },
  {
   "cell_type": "code",
   "execution_count": null,
   "id": "460d44ec",
   "metadata": {},
   "outputs": [],
   "source": [
    "df[\"distance_f\"] = pd.cut(df[\"distance\"], [-1, 2, 4, 100], labels=[\"close\", \"medium\", \"far\"])"
   ]
  },
  {
   "cell_type": "markdown",
   "id": "08ce03f5",
   "metadata": {},
   "source": [
    "We are curious about how these hotels distribute in the cities\\\n",
    "Summarize the number of close/medium/far hotels\n"
   ]
  },
  {
   "cell_type": "code",
   "execution_count": null,
   "id": "fc6de32a",
   "metadata": {},
   "outputs": [],
   "source": [
    "ds0 = df.groupby([\"city\",\"distance_f\"])[\"hotel_id\"].count().rename(\"N\").reset_index()\n",
    "ds0"
   ]
  },
  {
   "cell_type": "markdown",
   "id": "ccff002a",
   "metadata": {},
   "source": [
    "Do the plot:"
   ]
  },
  {
   "cell_type": "code",
   "execution_count": null,
   "id": "df08fc5f",
   "metadata": {},
   "outputs": [],
   "source": [
    "f3 = (\n",
    "    ggplot(ds0, aes(x=\"city\", y=\"N\", fill=\"distance_f\"))\n",
    "    + geom_bar(stat=\"identity\", position=\"dodge\", width=0.6, size=0.5)\n",
    "    + labs(x=\"Citys\", y=\"Number of hotels\", fill=\"Distance\")\n",
    "    + theme_bw()\n",
    ")\n",
    "f3"
   ]
  },
  {
   "cell_type": "markdown",
   "id": "41025d30",
   "metadata": {},
   "source": [
    "Make the legends more pretty: put to the top"
   ]
  },
  {
   "cell_type": "code",
   "execution_count": null,
   "id": "76257d50",
   "metadata": {},
   "outputs": [],
   "source": [
    "f3 = (\n",
    "    f3\n",
    "    + scale_fill_discrete(name=\"Distance from city center:\")\n",
    "    + theme(legend_position=\"top\")\n",
    ")\n",
    "f3"
   ]
  },
  {
   "cell_type": "markdown",
   "id": "84272ef6",
   "metadata": {},
   "source": [
    "For stacked bar, within the `geom_bar` function, set the `position` parameter to `stack`"
   ]
  },
  {
   "cell_type": "code",
   "execution_count": null,
   "id": "b76dbc2d",
   "metadata": {},
   "outputs": [],
   "source": [
    "(\n",
    "    ggplot(ds0, aes(x=\"city\", y=\"N\", fill=\"distance_f\"))\n",
    "    + geom_bar(stat=\"identity\", position=\"stack\", width=0.6, size=0.5)\n",
    "    + labs(x=\"Citys\", y=\"Number of hotels\", fill=\"Distance\")\n",
    "    + scale_fill_discrete(name=\"Distance from city center:\")\n",
    "    + theme_bw()\n",
    "    + theme(legend_position=\"top\")\n",
    ")"
   ]
  },
  {
   "cell_type": "markdown",
   "id": "70d698f8",
   "metadata": {},
   "source": [
    "Stacked bar with percentages: using `mizani` package"
   ]
  },
  {
   "cell_type": "code",
   "execution_count": null,
   "id": "84d454b6",
   "metadata": {},
   "outputs": [],
   "source": [
    "from mizani.formatters import percent_format"
   ]
  },
  {
   "cell_type": "code",
   "execution_count": null,
   "id": "10c1edb0",
   "metadata": {},
   "outputs": [],
   "source": [
    "(\n",
    "    ggplot(ds0, aes(x=\"city\", y=\"N\", fill=\"distance_f\"))\n",
    "    + geom_bar(stat=\"identity\", position=\"fill\", width=0.6, size=0.5)\n",
    "    + labs(x=\"Citys\", y=\"Number of hotels\", fill=\"Distance\")\n",
    "    + scale_y_continuous(labels=percent_format())\n",
    "    + scale_fill_discrete(name=\"Distance from city center:\")\n",
    "    + theme_bw()\n",
    "    + theme(legend_position=\"top\")\n",
    ")"
   ]
  },
  {
   "cell_type": "markdown",
   "id": "0a996229",
   "metadata": {},
   "source": [
    "#### b. Box-plot: great for describe the distribution of the variable in a compact way:\n",
    "   \n",
    "Remember: extreme values, lower/upper adjacent = 1.5*IQR, IQR(25%,75%) and median (NO MEAN!)\n"
   ]
  },
  {
   "cell_type": "code",
   "execution_count": null,
   "id": "c5113150",
   "metadata": {},
   "outputs": [],
   "source": [
    "f4 = (\n",
    "    ggplot(df, aes(y=\"price\", x=\"city\"))\n",
    "    + geom_boxplot(color=\"blue\", size=0.5, width=0.1, alpha=0.5)\n",
    "    + labs(x=\"Cities\", y=\"Price\")\n",
    "    + theme_bw()\n",
    ")\n",
    "f4"
   ]
  },
  {
   "cell_type": "markdown",
   "id": "3ee9ad71",
   "metadata": {},
   "source": [
    "Make it a bit more fancy by adding error-bars\n"
   ]
  },
  {
   "cell_type": "code",
   "execution_count": null,
   "id": "7c9a8846",
   "metadata": {},
   "outputs": [],
   "source": [
    "f4 = f4 + stat_boxplot(geom = \"errorbar\", width = 0.05,  size = 0.5, color = 'blue')\n",
    "f4\n"
   ]
  },
  {
   "cell_type": "markdown",
   "id": "4d924d04",
   "metadata": {},
   "source": [
    "Add the mean as a dot"
   ]
  },
  {
   "cell_type": "code",
   "execution_count": null,
   "id": "afa6d489",
   "metadata": {},
   "outputs": [],
   "source": [
    "f4 + stat_summary(fun_data=\"mean_se\", geom=\"point\", size=4, color=\"red\", fill=\"red\")"
   ]
  },
  {
   "cell_type": "markdown",
   "id": "6bb13193",
   "metadata": {},
   "source": [
    "#### c. Violin plot (+boxplot)\n",
    "\n",
    "violin plots adds a kernel density estimator to the boxplot in a neat way\n"
   ]
  },
  {
   "cell_type": "code",
   "execution_count": null,
   "id": "54c337e3",
   "metadata": {},
   "outputs": [],
   "source": [
    "(\n",
    "    ggplot(df, aes(y=\"price\", x=\"city\"))\n",
    "    + geom_violin(\n",
    "        size=1,\n",
    "        width=0.5,\n",
    "        color=\"blue\",\n",
    "        fill=\"lightblue\",\n",
    "        trim=True,\n",
    "        show_legend=False,\n",
    "        alpha=0.3,\n",
    "    )\n",
    "    + geom_boxplot(\n",
    "        color=\"black\", fill=\"lightblue\", size=0.5, width=0.1, alpha=0.5, outlier_alpha=0\n",
    "    )\n",
    "    + labs(x=\"Cities\", y=\"Price\")\n",
    "    + theme_bw()\n",
    ")"
   ]
  },
  {
   "cell_type": "markdown",
   "id": "82be97d2",
   "metadata": {},
   "source": [
    "Extra: can be an extra homework or good for demonstration of a conditional box-plot graph.\n",
    "\n",
    "#### Task:\n",
    "\n",
    "  1) Create a conditional box-plot for hotel prices, conditioning on the city\n",
    "  \n",
    "  2) Add error bars to box-plot\n",
    "  \n",
    "  3) Add conditional mean as dots\n",
    "  \n",
    "  4) Annotate everything with arrows:\n",
    "      `geom_segment(aes(x=,y=,xend=,yend=),arrow=arrow(),color=)`\n",
    "      \n",
    "  5) use theme_bw()\n",
    "  \n",
    "  6) Instead of using 'color = 'blue'', or other colors, use 'color = color[0]' or color[x]"
   ]
  },
  {
   "cell_type": "code",
   "execution_count": null,
   "id": "06b91107",
   "metadata": {},
   "outputs": [],
   "source": [
    "color = [\"#3D4D8AFF\", \"#43BF71FF\", \"#440154FF\", \"#FDE725FF\", \"#23888EFF\"] # these are the colors used in the book\n",
    "\n",
    "(\n",
    "    ggplot(df, aes(y=\"price\", x=\"city\"))\n",
    "    + geom_boxplot(color=color[0], size=0.5, width=0.1, alpha=0.3, outlier_alpha=0.3)\n",
    "    + labs(x=\"Cities\", y=\"Price\")\n",
    "    + stat_boxplot(geom=\"errorbar\", width=0.05, size=0.5)\n",
    "    + stat_summary(\n",
    "        fun_data=\"mean_se\", geom=\"point\", size=5, color=color[1], fill=color[1]\n",
    "    )\n",
    "    + annotate(\"text\", x=1.5, y=255, label=\"Conditional mean\")\n",
    "    + geom_segment(aes(x=1.5, y=240, xend=1.1, yend=210), arrow=arrow(), color=color[1])\n",
    "    + geom_segment(aes(x=1.5, y=240, xend=1.9, yend=120), arrow=arrow(), color=color[1])\n",
    "    + annotate(\"text\", x=1.5, y=70, label=\"Conditional median\")\n",
    "    + geom_segment(aes(x=1.5, y=80, xend=1.1, yend=180), arrow=arrow(), color=color[0])\n",
    "    + geom_segment(aes(x=1.5, y=80, xend=1.9, yend=100), arrow=arrow(), color=color[0])\n",
    "    + annotate(\"text\", x=0.7, y=100, label=\"25th percentile\")\n",
    "    + geom_segment(aes(x=0.7, y=110, xend=0.9, yend=130), arrow=arrow(), color=color[0])\n",
    "    + annotate(\"text\", x=0.7, y=300, label=\"75th percentile\")\n",
    "    + geom_segment(aes(x=0.7, y=280, xend=0.9, yend=260), arrow=arrow(), color=color[0])\n",
    "    + annotate(\"text\", x=1.5, y=510, label=\"Upper adjecent value:\")\n",
    "    + annotate(\"text\", x=1.5, y=490, label=\"75th percentile + 1.5*IQR\")\n",
    "    + geom_segment(aes(x=1.5, y=475, xend=1.1, yend=450), arrow=arrow(), color=color[2])\n",
    "    + theme_bw()\n",
    ")"
   ]
  },
  {
   "cell_type": "code",
   "execution_count": null,
   "id": "f6062426",
   "metadata": {},
   "outputs": [],
   "source": []
  }
 ],
 "metadata": {
  "kernelspec": {
   "display_name": "Python 3 (ipykernel)",
   "language": "python",
   "name": "python3"
  },
  "language_info": {
   "codemirror_mode": {
    "name": "ipython",
    "version": 3
   },
   "file_extension": ".py",
   "mimetype": "text/x-python",
   "name": "python",
   "nbconvert_exporter": "python",
   "pygments_lexer": "ipython3",
   "version": "3.9.12"
  }
 },
 "nbformat": 4,
 "nbformat_minor": 5
}
