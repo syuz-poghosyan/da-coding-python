{
 "cells": [
  {
   "cell_type": "markdown",
   "id": "a763d816",
   "metadata": {},
   "source": [
    "# Lecture 7\n",
    "\n",
    "## Data Exploration <a class=\"anchor\" id=\"TOC\"></a>\n",
    "\n",
    " - [Descriptive statistics with pandas:](#pandas)             \n",
    "   - use of groupby for descriptives        \n",
    "   - custom function                 \n",
    " - [Graphs with plotnine:](#graphs)                         \n",
    "   - histogram                       \n",
    "   - customize a plot              \n",
    "   - kernel density                  \n",
    "   - multiple geometries             \n",
    " - [Hypothesis testing with t.test](#ttest)  \n",
    " - [Association](#association)                      \n",
    "   - scatter plot                    \n",
    "   - bin-scatter:                    \n",
    "       - equal distance              \n",
    "       - equal number of obs         \n",
    "   - correlation and covariance      \n",
    "   - factors with ggplot             \n",
    "                                     \n",
    "Case-study:                           \n",
    "- Billion Price Project: Online and Offline prices           \n",
    "                                     \n",
    "Dataset:                              \n",
    "- billion-prices \n",
    "\n",
    "___"
   ]
  },
  {
   "cell_type": "markdown",
   "id": "97df78c3",
   "metadata": {},
   "source": [
    "Import packages"
   ]
  },
  {
   "cell_type": "code",
   "execution_count": 5,
   "id": "8973c90f",
   "metadata": {},
   "outputs": [
    {
     "ename": "ModuleNotFoundError",
     "evalue": "No module named 'plotnine'",
     "output_type": "error",
     "traceback": [
      "\u001b[1;31m---------------------------------------------------------------------------\u001b[0m",
      "\u001b[1;31mModuleNotFoundError\u001b[0m                       Traceback (most recent call last)",
      "Input \u001b[1;32mIn [5]\u001b[0m, in \u001b[0;36m<cell line: 5>\u001b[1;34m()\u001b[0m\n\u001b[0;32m      3\u001b[0m \u001b[38;5;28;01mimport\u001b[39;00m \u001b[38;5;21;01mnumpy\u001b[39;00m \u001b[38;5;28;01mas\u001b[39;00m \u001b[38;5;21;01mnp\u001b[39;00m\n\u001b[0;32m      4\u001b[0m \u001b[38;5;28;01mimport\u001b[39;00m \u001b[38;5;21;01mpandas\u001b[39;00m \u001b[38;5;28;01mas\u001b[39;00m \u001b[38;5;21;01mpd\u001b[39;00m\n\u001b[1;32m----> 5\u001b[0m \u001b[38;5;28;01mfrom\u001b[39;00m \u001b[38;5;21;01mplotnine\u001b[39;00m \u001b[38;5;28;01mimport\u001b[39;00m \u001b[38;5;241m*\u001b[39m\n\u001b[0;32m      6\u001b[0m \u001b[38;5;28;01mfrom\u001b[39;00m \u001b[38;5;21;01mskimpy\u001b[39;00m \u001b[38;5;28;01mimport\u001b[39;00m skim\n\u001b[0;32m      8\u001b[0m get_ipython()\u001b[38;5;241m.\u001b[39mrun_line_magic(\u001b[38;5;124m'\u001b[39m\u001b[38;5;124mmatplotlib\u001b[39m\u001b[38;5;124m'\u001b[39m, \u001b[38;5;124m'\u001b[39m\u001b[38;5;124minline\u001b[39m\u001b[38;5;124m'\u001b[39m)\n",
      "\u001b[1;31mModuleNotFoundError\u001b[0m: No module named 'plotnine'"
     ]
    }
   ],
   "source": [
    "import warnings\n",
    "\n",
    "import numpy as np\n",
    "import pandas as pd\n",
    "from plotnine import *\n",
    "from skimpy import skim\n",
    "\n",
    "%matplotlib inline\n",
    "warnings.filterwarnings(\"ignore\")"
   ]
  },
  {
   "cell_type": "markdown",
   "id": "e99e8bb0",
   "metadata": {},
   "source": [
    "Import data"
   ]
  },
  {
   "cell_type": "code",
   "execution_count": 3,
   "id": "dc42e358",
   "metadata": {},
   "outputs": [],
   "source": [
    "bpp_original = pd.read_csv(\"https://osf.io/yhbr5/download\", encoding=\"latin-1\")\n"
   ]
  },
  {
   "cell_type": "markdown",
   "id": "a74d2adb",
   "metadata": {},
   "source": [
    "Check variables"
   ]
  },
  {
   "cell_type": "code",
   "execution_count": 4,
   "id": "95f9dc40",
   "metadata": {},
   "outputs": [
    {
     "data": {
      "text/html": [
       "<div>\n",
       "<style scoped>\n",
       "    .dataframe tbody tr th:only-of-type {\n",
       "        vertical-align: middle;\n",
       "    }\n",
       "\n",
       "    .dataframe tbody tr th {\n",
       "        vertical-align: top;\n",
       "    }\n",
       "\n",
       "    .dataframe thead th {\n",
       "        text-align: right;\n",
       "    }\n",
       "</style>\n",
       "<table border=\"1\" class=\"dataframe\">\n",
       "  <thead>\n",
       "    <tr style=\"text-align: right;\">\n",
       "      <th></th>\n",
       "      <th>COUNTRY</th>\n",
       "      <th>retailer</th>\n",
       "      <th>retailer_s</th>\n",
       "      <th>date</th>\n",
       "      <th>day</th>\n",
       "      <th>month</th>\n",
       "      <th>year</th>\n",
       "      <th>id</th>\n",
       "      <th>price</th>\n",
       "      <th>price_online</th>\n",
       "      <th>...</th>\n",
       "      <th>DEVICEID</th>\n",
       "      <th>TIME</th>\n",
       "      <th>ZIPCODE</th>\n",
       "      <th>PHOTO</th>\n",
       "      <th>OTHERSKUITEM</th>\n",
       "      <th>COMMENTS</th>\n",
       "      <th>PRICETYPE</th>\n",
       "      <th>CODE</th>\n",
       "      <th>sale_online</th>\n",
       "      <th>country_s</th>\n",
       "    </tr>\n",
       "  </thead>\n",
       "  <tbody>\n",
       "    <tr>\n",
       "      <th>0</th>\n",
       "      <td>ARGENTINA</td>\n",
       "      <td>1</td>\n",
       "      <td>ARGENTINA_1</td>\n",
       "      <td>2015-03-19</td>\n",
       "      <td>19.0</td>\n",
       "      <td>3.0</td>\n",
       "      <td>2015.0</td>\n",
       "      <td>201209030113</td>\n",
       "      <td>429.0</td>\n",
       "      <td>429.0</td>\n",
       "      <td>...</td>\n",
       "      <td>891df49fb1b12aa0</td>\n",
       "      <td>21:03</td>\n",
       "      <td>8300</td>\n",
       "      <td>20150319_210351.jpg</td>\n",
       "      <td>NaN</td>\n",
       "      <td>NaN</td>\n",
       "      <td>NaN</td>\n",
       "      <td>124816.0</td>\n",
       "      <td>NaN</td>\n",
       "      <td>Argentina</td>\n",
       "    </tr>\n",
       "    <tr>\n",
       "      <th>1</th>\n",
       "      <td>ARGENTINA</td>\n",
       "      <td>1</td>\n",
       "      <td>ARGENTINA_1</td>\n",
       "      <td>2015-03-19</td>\n",
       "      <td>19.0</td>\n",
       "      <td>3.0</td>\n",
       "      <td>2015.0</td>\n",
       "      <td>4710268235965</td>\n",
       "      <td>189.0</td>\n",
       "      <td>189.0</td>\n",
       "      <td>...</td>\n",
       "      <td>891df49fb1b12aa0</td>\n",
       "      <td>21:26</td>\n",
       "      <td>8300</td>\n",
       "      <td>20150319_212653.jpg</td>\n",
       "      <td>NaN</td>\n",
       "      <td>NaN</td>\n",
       "      <td>NaN</td>\n",
       "      <td>124816.0</td>\n",
       "      <td>NaN</td>\n",
       "      <td>Argentina</td>\n",
       "    </tr>\n",
       "    <tr>\n",
       "      <th>2</th>\n",
       "      <td>ARGENTINA</td>\n",
       "      <td>1</td>\n",
       "      <td>ARGENTINA_1</td>\n",
       "      <td>2015-03-19</td>\n",
       "      <td>19.0</td>\n",
       "      <td>3.0</td>\n",
       "      <td>2015.0</td>\n",
       "      <td>4905524916874</td>\n",
       "      <td>6999.0</td>\n",
       "      <td>6999.0</td>\n",
       "      <td>...</td>\n",
       "      <td>891df49fb1b12aa0</td>\n",
       "      <td>21:19</td>\n",
       "      <td>8300</td>\n",
       "      <td>20150319_211929.jpg</td>\n",
       "      <td>NaN</td>\n",
       "      <td>NaN</td>\n",
       "      <td>NaN</td>\n",
       "      <td>124816.0</td>\n",
       "      <td>NaN</td>\n",
       "      <td>Argentina</td>\n",
       "    </tr>\n",
       "    <tr>\n",
       "      <th>3</th>\n",
       "      <td>ARGENTINA</td>\n",
       "      <td>1</td>\n",
       "      <td>ARGENTINA_1</td>\n",
       "      <td>2015-03-19</td>\n",
       "      <td>19.0</td>\n",
       "      <td>3.0</td>\n",
       "      <td>2015.0</td>\n",
       "      <td>4905524925784</td>\n",
       "      <td>1999.0</td>\n",
       "      <td>2099.0</td>\n",
       "      <td>...</td>\n",
       "      <td>891df49fb1b12aa0</td>\n",
       "      <td>21:08</td>\n",
       "      <td>8300</td>\n",
       "      <td>20150319_210847.jpg</td>\n",
       "      <td>NaN</td>\n",
       "      <td>NaN</td>\n",
       "      <td>NaN</td>\n",
       "      <td>124816.0</td>\n",
       "      <td>NaN</td>\n",
       "      <td>Argentina</td>\n",
       "    </tr>\n",
       "    <tr>\n",
       "      <th>4</th>\n",
       "      <td>ARGENTINA</td>\n",
       "      <td>1</td>\n",
       "      <td>ARGENTINA_1</td>\n",
       "      <td>2015-03-19</td>\n",
       "      <td>19.0</td>\n",
       "      <td>3.0</td>\n",
       "      <td>2015.0</td>\n",
       "      <td>4905524931310</td>\n",
       "      <td>2899.0</td>\n",
       "      <td>2899.0</td>\n",
       "      <td>...</td>\n",
       "      <td>891df49fb1b12aa0</td>\n",
       "      <td>21:06</td>\n",
       "      <td>8300</td>\n",
       "      <td>20150319_210627.jpg</td>\n",
       "      <td>NaN</td>\n",
       "      <td>NaN</td>\n",
       "      <td>NaN</td>\n",
       "      <td>124816.0</td>\n",
       "      <td>NaN</td>\n",
       "      <td>Argentina</td>\n",
       "    </tr>\n",
       "  </tbody>\n",
       "</table>\n",
       "<p>5 rows × 21 columns</p>\n",
       "</div>"
      ],
      "text/plain": [
       "     COUNTRY  retailer   retailer_s        date   day  month    year  \\\n",
       "0  ARGENTINA         1  ARGENTINA_1  2015-03-19  19.0    3.0  2015.0   \n",
       "1  ARGENTINA         1  ARGENTINA_1  2015-03-19  19.0    3.0  2015.0   \n",
       "2  ARGENTINA         1  ARGENTINA_1  2015-03-19  19.0    3.0  2015.0   \n",
       "3  ARGENTINA         1  ARGENTINA_1  2015-03-19  19.0    3.0  2015.0   \n",
       "4  ARGENTINA         1  ARGENTINA_1  2015-03-19  19.0    3.0  2015.0   \n",
       "\n",
       "              id   price  price_online  ...          DEVICEID   TIME ZIPCODE  \\\n",
       "0   201209030113   429.0         429.0  ...  891df49fb1b12aa0  21:03    8300   \n",
       "1  4710268235965   189.0         189.0  ...  891df49fb1b12aa0  21:26    8300   \n",
       "2  4905524916874  6999.0        6999.0  ...  891df49fb1b12aa0  21:19    8300   \n",
       "3  4905524925784  1999.0        2099.0  ...  891df49fb1b12aa0  21:08    8300   \n",
       "4  4905524931310  2899.0        2899.0  ...  891df49fb1b12aa0  21:06    8300   \n",
       "\n",
       "                 PHOTO OTHERSKUITEM COMMENTS PRICETYPE      CODE  sale_online  \\\n",
       "0  20150319_210351.jpg          NaN      NaN       NaN  124816.0          NaN   \n",
       "1  20150319_212653.jpg          NaN      NaN       NaN  124816.0          NaN   \n",
       "2  20150319_211929.jpg          NaN      NaN       NaN  124816.0          NaN   \n",
       "3  20150319_210847.jpg          NaN      NaN       NaN  124816.0          NaN   \n",
       "4  20150319_210627.jpg          NaN      NaN       NaN  124816.0          NaN   \n",
       "\n",
       "   country_s  \n",
       "0  Argentina  \n",
       "1  Argentina  \n",
       "2  Argentina  \n",
       "3  Argentina  \n",
       "4  Argentina  \n",
       "\n",
       "[5 rows x 21 columns]"
      ]
     },
     "execution_count": 4,
     "metadata": {},
     "output_type": "execute_result"
    }
   ],
   "source": [
    "bpp_original.head()\n"
   ]
  },
  {
   "cell_type": "markdown",
   "id": "41380afe",
   "metadata": {},
   "source": [
    "Create our key variable: price differences"
   ]
  },
  {
   "cell_type": "code",
   "execution_count": 6,
   "id": "88192cd9",
   "metadata": {},
   "outputs": [],
   "source": [
    "bpp_original[\"p_diff\"] = bpp_original[\"price_online\"] - bpp_original[\"price\"]\n"
   ]
  },
  {
   "cell_type": "markdown",
   "id": "9225e9c5",
   "metadata": {},
   "source": [
    "## Descriptive statistics <a class=\"anchor\" id=\"pandas\"></a>\n",
    "\n",
    "[back](#TOC)"
   ]
  },
  {
   "cell_type": "markdown",
   "id": "a7e06448",
   "metadata": {},
   "source": [
    "Check all the variables in DataFrame by a quick built-in summary statistics"
   ]
  },
  {
   "cell_type": "code",
   "execution_count": 7,
   "id": "d626aa11",
   "metadata": {},
   "outputs": [
    {
     "data": {
      "text/html": [
       "<div>\n",
       "<style scoped>\n",
       "    .dataframe tbody tr th:only-of-type {\n",
       "        vertical-align: middle;\n",
       "    }\n",
       "\n",
       "    .dataframe tbody tr th {\n",
       "        vertical-align: top;\n",
       "    }\n",
       "\n",
       "    .dataframe thead th {\n",
       "        text-align: right;\n",
       "    }\n",
       "</style>\n",
       "<table border=\"1\" class=\"dataframe\">\n",
       "  <thead>\n",
       "    <tr style=\"text-align: right;\">\n",
       "      <th></th>\n",
       "      <th>retailer</th>\n",
       "      <th>day</th>\n",
       "      <th>month</th>\n",
       "      <th>year</th>\n",
       "      <th>price</th>\n",
       "      <th>price_online</th>\n",
       "      <th>imputed</th>\n",
       "      <th>CODE</th>\n",
       "      <th>sale_online</th>\n",
       "      <th>p_diff</th>\n",
       "    </tr>\n",
       "  </thead>\n",
       "  <tbody>\n",
       "    <tr>\n",
       "      <th>count</th>\n",
       "      <td>45253.000000</td>\n",
       "      <td>44928.000000</td>\n",
       "      <td>44928.000000</td>\n",
       "      <td>44928.000000</td>\n",
       "      <td>4.525300e+04</td>\n",
       "      <td>45253.000000</td>\n",
       "      <td>22414.0</td>\n",
       "      <td>42233.000000</td>\n",
       "      <td>4144.0</td>\n",
       "      <td>4.525300e+04</td>\n",
       "    </tr>\n",
       "    <tr>\n",
       "      <th>mean</th>\n",
       "      <td>34.087751</td>\n",
       "      <td>15.743523</td>\n",
       "      <td>5.301126</td>\n",
       "      <td>2015.079817</td>\n",
       "      <td>1.737368e+04</td>\n",
       "      <td>353.416684</td>\n",
       "      <td>1.0</td>\n",
       "      <td>181441.070253</td>\n",
       "      <td>1.0</td>\n",
       "      <td>-1.702027e+04</td>\n",
       "    </tr>\n",
       "    <tr>\n",
       "      <th>std</th>\n",
       "      <td>19.149542</td>\n",
       "      <td>8.440930</td>\n",
       "      <td>3.440339</td>\n",
       "      <td>1.035976</td>\n",
       "      <td>2.671665e+06</td>\n",
       "      <td>5269.492998</td>\n",
       "      <td>0.0</td>\n",
       "      <td>158106.823327</td>\n",
       "      <td>0.0</td>\n",
       "      <td>2.671661e+06</td>\n",
       "    </tr>\n",
       "    <tr>\n",
       "      <th>min</th>\n",
       "      <td>1.000000</td>\n",
       "      <td>1.000000</td>\n",
       "      <td>1.000000</td>\n",
       "      <td>2000.000000</td>\n",
       "      <td>0.000000e+00</td>\n",
       "      <td>0.030000</td>\n",
       "      <td>1.0</td>\n",
       "      <td>112190.000000</td>\n",
       "      <td>1.0</td>\n",
       "      <td>-5.534910e+08</td>\n",
       "    </tr>\n",
       "    <tr>\n",
       "      <th>25%</th>\n",
       "      <td>16.000000</td>\n",
       "      <td>9.000000</td>\n",
       "      <td>3.000000</td>\n",
       "      <td>2015.000000</td>\n",
       "      <td>7.000000e+00</td>\n",
       "      <td>6.990000</td>\n",
       "      <td>1.0</td>\n",
       "      <td>124816.000000</td>\n",
       "      <td>1.0</td>\n",
       "      <td>0.000000e+00</td>\n",
       "    </tr>\n",
       "    <tr>\n",
       "      <th>50%</th>\n",
       "      <td>37.000000</td>\n",
       "      <td>16.000000</td>\n",
       "      <td>5.000000</td>\n",
       "      <td>2015.000000</td>\n",
       "      <td>1.999000e+01</td>\n",
       "      <td>19.990000</td>\n",
       "      <td>1.0</td>\n",
       "      <td>124816.000000</td>\n",
       "      <td>1.0</td>\n",
       "      <td>0.000000e+00</td>\n",
       "    </tr>\n",
       "    <tr>\n",
       "      <th>75%</th>\n",
       "      <td>50.000000</td>\n",
       "      <td>23.000000</td>\n",
       "      <td>8.000000</td>\n",
       "      <td>2015.000000</td>\n",
       "      <td>5.799000e+01</td>\n",
       "      <td>56.990000</td>\n",
       "      <td>1.0</td>\n",
       "      <td>124816.000000</td>\n",
       "      <td>1.0</td>\n",
       "      <td>0.000000e+00</td>\n",
       "    </tr>\n",
       "    <tr>\n",
       "      <th>max</th>\n",
       "      <td>62.000000</td>\n",
       "      <td>31.000000</td>\n",
       "      <td>12.000000</td>\n",
       "      <td>2016.000000</td>\n",
       "      <td>5.534910e+08</td>\n",
       "      <td>261690.000000</td>\n",
       "      <td>1.0</td>\n",
       "      <td>856681.000000</td>\n",
       "      <td>1.0</td>\n",
       "      <td>2.330700e+05</td>\n",
       "    </tr>\n",
       "  </tbody>\n",
       "</table>\n",
       "</div>"
      ],
      "text/plain": [
       "           retailer           day         month          year         price  \\\n",
       "count  45253.000000  44928.000000  44928.000000  44928.000000  4.525300e+04   \n",
       "mean      34.087751     15.743523      5.301126   2015.079817  1.737368e+04   \n",
       "std       19.149542      8.440930      3.440339      1.035976  2.671665e+06   \n",
       "min        1.000000      1.000000      1.000000   2000.000000  0.000000e+00   \n",
       "25%       16.000000      9.000000      3.000000   2015.000000  7.000000e+00   \n",
       "50%       37.000000     16.000000      5.000000   2015.000000  1.999000e+01   \n",
       "75%       50.000000     23.000000      8.000000   2015.000000  5.799000e+01   \n",
       "max       62.000000     31.000000     12.000000   2016.000000  5.534910e+08   \n",
       "\n",
       "        price_online  imputed           CODE  sale_online        p_diff  \n",
       "count   45253.000000  22414.0   42233.000000       4144.0  4.525300e+04  \n",
       "mean      353.416684      1.0  181441.070253          1.0 -1.702027e+04  \n",
       "std      5269.492998      0.0  158106.823327          0.0  2.671661e+06  \n",
       "min         0.030000      1.0  112190.000000          1.0 -5.534910e+08  \n",
       "25%         6.990000      1.0  124816.000000          1.0  0.000000e+00  \n",
       "50%        19.990000      1.0  124816.000000          1.0  0.000000e+00  \n",
       "75%        56.990000      1.0  124816.000000          1.0  0.000000e+00  \n",
       "max    261690.000000      1.0  856681.000000          1.0  2.330700e+05  "
      ]
     },
     "execution_count": 7,
     "metadata": {},
     "output_type": "execute_result"
    }
   ],
   "source": [
    "bpp_original.describe()\n"
   ]
  },
  {
   "cell_type": "markdown",
   "id": "003c12b6",
   "metadata": {},
   "source": [
    "Use skim, from the [`skimpy package`](https://aeturrell.github.io/skimpy/) for a nicer looking descriptive tabler"
   ]
  },
  {
   "cell_type": "code",
   "execution_count": 8,
   "id": "175f3f1f",
   "metadata": {},
   "outputs": [
    {
     "ename": "NameError",
     "evalue": "name 'skim' is not defined",
     "output_type": "error",
     "traceback": [
      "\u001b[1;31m---------------------------------------------------------------------------\u001b[0m",
      "\u001b[1;31mNameError\u001b[0m                                 Traceback (most recent call last)",
      "Input \u001b[1;32mIn [8]\u001b[0m, in \u001b[0;36m<cell line: 1>\u001b[1;34m()\u001b[0m\n\u001b[1;32m----> 1\u001b[0m \u001b[43mskim\u001b[49m(bpp_original)\n",
      "\u001b[1;31mNameError\u001b[0m: name 'skim' is not defined"
     ]
    }
   ],
   "source": [
    "skim(bpp_original)"
   ]
  },
  {
   "cell_type": "markdown",
   "id": "afefeaac",
   "metadata": {},
   "source": [
    "Compare key variables"
   ]
  },
  {
   "cell_type": "code",
   "execution_count": 9,
   "id": "f58e6e37",
   "metadata": {},
   "outputs": [
    {
     "data": {
      "text/html": [
       "<div>\n",
       "<style scoped>\n",
       "    .dataframe tbody tr th:only-of-type {\n",
       "        vertical-align: middle;\n",
       "    }\n",
       "\n",
       "    .dataframe tbody tr th {\n",
       "        vertical-align: top;\n",
       "    }\n",
       "\n",
       "    .dataframe thead th {\n",
       "        text-align: right;\n",
       "    }\n",
       "</style>\n",
       "<table border=\"1\" class=\"dataframe\">\n",
       "  <thead>\n",
       "    <tr style=\"text-align: right;\">\n",
       "      <th></th>\n",
       "      <th>price</th>\n",
       "      <th>price_online</th>\n",
       "      <th>p_diff</th>\n",
       "    </tr>\n",
       "  </thead>\n",
       "  <tbody>\n",
       "    <tr>\n",
       "      <th>count</th>\n",
       "      <td>4.525300e+04</td>\n",
       "      <td>45253.000000</td>\n",
       "      <td>4.525300e+04</td>\n",
       "    </tr>\n",
       "    <tr>\n",
       "      <th>mean</th>\n",
       "      <td>1.737368e+04</td>\n",
       "      <td>353.416684</td>\n",
       "      <td>-1.702027e+04</td>\n",
       "    </tr>\n",
       "    <tr>\n",
       "      <th>std</th>\n",
       "      <td>2.671665e+06</td>\n",
       "      <td>5269.492998</td>\n",
       "      <td>2.671661e+06</td>\n",
       "    </tr>\n",
       "    <tr>\n",
       "      <th>min</th>\n",
       "      <td>0.000000e+00</td>\n",
       "      <td>0.030000</td>\n",
       "      <td>-5.534910e+08</td>\n",
       "    </tr>\n",
       "    <tr>\n",
       "      <th>25%</th>\n",
       "      <td>7.000000e+00</td>\n",
       "      <td>6.990000</td>\n",
       "      <td>0.000000e+00</td>\n",
       "    </tr>\n",
       "    <tr>\n",
       "      <th>50%</th>\n",
       "      <td>1.999000e+01</td>\n",
       "      <td>19.990000</td>\n",
       "      <td>0.000000e+00</td>\n",
       "    </tr>\n",
       "    <tr>\n",
       "      <th>75%</th>\n",
       "      <td>5.799000e+01</td>\n",
       "      <td>56.990000</td>\n",
       "      <td>0.000000e+00</td>\n",
       "    </tr>\n",
       "    <tr>\n",
       "      <th>max</th>\n",
       "      <td>5.534910e+08</td>\n",
       "      <td>261690.000000</td>\n",
       "      <td>2.330700e+05</td>\n",
       "    </tr>\n",
       "  </tbody>\n",
       "</table>\n",
       "</div>"
      ],
      "text/plain": [
       "              price   price_online        p_diff\n",
       "count  4.525300e+04   45253.000000  4.525300e+04\n",
       "mean   1.737368e+04     353.416684 -1.702027e+04\n",
       "std    2.671665e+06    5269.492998  2.671661e+06\n",
       "min    0.000000e+00       0.030000 -5.534910e+08\n",
       "25%    7.000000e+00       6.990000  0.000000e+00\n",
       "50%    1.999000e+01      19.990000  0.000000e+00\n",
       "75%    5.799000e+01      56.990000  0.000000e+00\n",
       "max    5.534910e+08  261690.000000  2.330700e+05"
      ]
     },
     "execution_count": 9,
     "metadata": {},
     "output_type": "execute_result"
    }
   ],
   "source": [
    "bpp_original.filter([\"price\", \"price_online\", \"p_diff\"]).describe()\n"
   ]
  },
  {
   "cell_type": "markdown",
   "id": "f9466525",
   "metadata": {},
   "source": [
    "Put the descriptives into columns and variables into rows"
   ]
  },
  {
   "cell_type": "code",
   "execution_count": 10,
   "id": "2b07bc88",
   "metadata": {
    "scrolled": true
   },
   "outputs": [
    {
     "data": {
      "text/html": [
       "<div>\n",
       "<style scoped>\n",
       "    .dataframe tbody tr th:only-of-type {\n",
       "        vertical-align: middle;\n",
       "    }\n",
       "\n",
       "    .dataframe tbody tr th {\n",
       "        vertical-align: top;\n",
       "    }\n",
       "\n",
       "    .dataframe thead th {\n",
       "        text-align: right;\n",
       "    }\n",
       "</style>\n",
       "<table border=\"1\" class=\"dataframe\">\n",
       "  <thead>\n",
       "    <tr style=\"text-align: right;\">\n",
       "      <th></th>\n",
       "      <th>count</th>\n",
       "      <th>mean</th>\n",
       "      <th>std</th>\n",
       "      <th>min</th>\n",
       "      <th>25%</th>\n",
       "      <th>50%</th>\n",
       "      <th>75%</th>\n",
       "      <th>max</th>\n",
       "    </tr>\n",
       "  </thead>\n",
       "  <tbody>\n",
       "    <tr>\n",
       "      <th>price</th>\n",
       "      <td>45253.0</td>\n",
       "      <td>17373.683164</td>\n",
       "      <td>2.671665e+06</td>\n",
       "      <td>0.000000e+00</td>\n",
       "      <td>7.00</td>\n",
       "      <td>19.99</td>\n",
       "      <td>57.99</td>\n",
       "      <td>553490984.0</td>\n",
       "    </tr>\n",
       "    <tr>\n",
       "      <th>price_online</th>\n",
       "      <td>45253.0</td>\n",
       "      <td>353.416684</td>\n",
       "      <td>5.269493e+03</td>\n",
       "      <td>3.000000e-02</td>\n",
       "      <td>6.99</td>\n",
       "      <td>19.99</td>\n",
       "      <td>56.99</td>\n",
       "      <td>261690.0</td>\n",
       "    </tr>\n",
       "    <tr>\n",
       "      <th>p_diff</th>\n",
       "      <td>45253.0</td>\n",
       "      <td>-17020.266480</td>\n",
       "      <td>2.671661e+06</td>\n",
       "      <td>-5.534910e+08</td>\n",
       "      <td>0.00</td>\n",
       "      <td>0.00</td>\n",
       "      <td>0.00</td>\n",
       "      <td>233070.0</td>\n",
       "    </tr>\n",
       "  </tbody>\n",
       "</table>\n",
       "</div>"
      ],
      "text/plain": [
       "                count          mean           std           min   25%    50%  \\\n",
       "price         45253.0  17373.683164  2.671665e+06  0.000000e+00  7.00  19.99   \n",
       "price_online  45253.0    353.416684  5.269493e+03  3.000000e-02  6.99  19.99   \n",
       "p_diff        45253.0 -17020.266480  2.671661e+06 -5.534910e+08  0.00   0.00   \n",
       "\n",
       "                75%          max  \n",
       "price         57.99  553490984.0  \n",
       "price_online  56.99     261690.0  \n",
       "p_diff         0.00     233070.0  "
      ]
     },
     "execution_count": 10,
     "metadata": {},
     "output_type": "execute_result"
    }
   ],
   "source": [
    "bpp_original.filter([\"price\", \"price_online\", \"p_diff\"]).describe().transpose()\n"
   ]
  },
  {
   "cell_type": "code",
   "execution_count": 11,
   "id": "b80c9db0",
   "metadata": {},
   "outputs": [
    {
     "ename": "NameError",
     "evalue": "name 'skim' is not defined",
     "output_type": "error",
     "traceback": [
      "\u001b[1;31m---------------------------------------------------------------------------\u001b[0m",
      "\u001b[1;31mNameError\u001b[0m                                 Traceback (most recent call last)",
      "Input \u001b[1;32mIn [11]\u001b[0m, in \u001b[0;36m<cell line: 1>\u001b[1;34m()\u001b[0m\n\u001b[1;32m----> 1\u001b[0m \u001b[43mskim\u001b[49m(bpp_original\u001b[38;5;241m.\u001b[39mfilter([\u001b[38;5;124m\"\u001b[39m\u001b[38;5;124mprice\u001b[39m\u001b[38;5;124m\"\u001b[39m, \u001b[38;5;124m\"\u001b[39m\u001b[38;5;124mprice_online\u001b[39m\u001b[38;5;124m\"\u001b[39m, \u001b[38;5;124m\"\u001b[39m\u001b[38;5;124mp_diff\u001b[39m\u001b[38;5;124m\"\u001b[39m]))\n",
      "\u001b[1;31mNameError\u001b[0m: name 'skim' is not defined"
     ]
    }
   ],
   "source": [
    "skim(bpp_original.filter([\"price\", \"price_online\", \"p_diff\"]))"
   ]
  },
  {
   "cell_type": "markdown",
   "id": "1385c840",
   "metadata": {},
   "source": [
    "Next let us check the price differences for each countries.\n",
    "\n",
    "For this, you need to group the data and apply the required statistics to the appropriate columns"
   ]
  },
  {
   "cell_type": "code",
   "execution_count": 12,
   "id": "8ae05c40",
   "metadata": {},
   "outputs": [
    {
     "data": {
      "text/html": [
       "<div>\n",
       "<style scoped>\n",
       "    .dataframe tbody tr th:only-of-type {\n",
       "        vertical-align: middle;\n",
       "    }\n",
       "\n",
       "    .dataframe tbody tr th {\n",
       "        vertical-align: top;\n",
       "    }\n",
       "\n",
       "    .dataframe thead th {\n",
       "        text-align: right;\n",
       "    }\n",
       "</style>\n",
       "<table border=\"1\" class=\"dataframe\">\n",
       "  <thead>\n",
       "    <tr style=\"text-align: right;\">\n",
       "      <th></th>\n",
       "      <th>mean_price_diff</th>\n",
       "      <th>median_price_diff</th>\n",
       "    </tr>\n",
       "    <tr>\n",
       "      <th>COUNTRY</th>\n",
       "      <th></th>\n",
       "      <th></th>\n",
       "    </tr>\n",
       "  </thead>\n",
       "  <tbody>\n",
       "    <tr>\n",
       "      <th>ARGENTINA</th>\n",
       "      <td>-30399.085151</td>\n",
       "      <td>0.0</td>\n",
       "    </tr>\n",
       "    <tr>\n",
       "      <th>AUSTRALIA</th>\n",
       "      <td>-0.464439</td>\n",
       "      <td>0.0</td>\n",
       "    </tr>\n",
       "    <tr>\n",
       "      <th>BRAZIL</th>\n",
       "      <td>-37.924121</td>\n",
       "      <td>0.0</td>\n",
       "    </tr>\n",
       "    <tr>\n",
       "      <th>CANADA</th>\n",
       "      <td>0.588671</td>\n",
       "      <td>0.0</td>\n",
       "    </tr>\n",
       "    <tr>\n",
       "      <th>CHINA</th>\n",
       "      <td>-0.832808</td>\n",
       "      <td>0.0</td>\n",
       "    </tr>\n",
       "    <tr>\n",
       "      <th>GERMANY</th>\n",
       "      <td>4.577242</td>\n",
       "      <td>0.0</td>\n",
       "    </tr>\n",
       "    <tr>\n",
       "      <th>JAPAN</th>\n",
       "      <td>-586.881969</td>\n",
       "      <td>0.0</td>\n",
       "    </tr>\n",
       "    <tr>\n",
       "      <th>SOUTHAFRICA</th>\n",
       "      <td>-125.700372</td>\n",
       "      <td>0.0</td>\n",
       "    </tr>\n",
       "    <tr>\n",
       "      <th>UK</th>\n",
       "      <td>-0.067043</td>\n",
       "      <td>0.0</td>\n",
       "    </tr>\n",
       "    <tr>\n",
       "      <th>USA</th>\n",
       "      <td>-31950.531931</td>\n",
       "      <td>0.0</td>\n",
       "    </tr>\n",
       "  </tbody>\n",
       "</table>\n",
       "</div>"
      ],
      "text/plain": [
       "             mean_price_diff  median_price_diff\n",
       "COUNTRY                                        \n",
       "ARGENTINA      -30399.085151                0.0\n",
       "AUSTRALIA          -0.464439                0.0\n",
       "BRAZIL            -37.924121                0.0\n",
       "CANADA              0.588671                0.0\n",
       "CHINA              -0.832808                0.0\n",
       "GERMANY             4.577242                0.0\n",
       "JAPAN            -586.881969                0.0\n",
       "SOUTHAFRICA      -125.700372                0.0\n",
       "UK                 -0.067043                0.0\n",
       "USA            -31950.531931                0.0"
      ]
     },
     "execution_count": 12,
     "metadata": {},
     "output_type": "execute_result"
    }
   ],
   "source": [
    "bpp_original.groupby(\"COUNTRY\").agg(\n",
    "    mean_price_diff=(\"p_diff\", \"mean\"), median_price_diff=(\"p_diff\", \"median\")\n",
    ")\n"
   ]
  },
  {
   "cell_type": "markdown",
   "id": "7e07a663",
   "metadata": {},
   "source": [
    "Lets say we are interested in the prices as well for each countries."
   ]
  },
  {
   "cell_type": "code",
   "execution_count": 13,
   "id": "877366dd",
   "metadata": {},
   "outputs": [
    {
     "data": {
      "text/html": [
       "<div>\n",
       "<style scoped>\n",
       "    .dataframe tbody tr th:only-of-type {\n",
       "        vertical-align: middle;\n",
       "    }\n",
       "\n",
       "    .dataframe tbody tr th {\n",
       "        vertical-align: top;\n",
       "    }\n",
       "\n",
       "    .dataframe thead th {\n",
       "        text-align: right;\n",
       "    }\n",
       "</style>\n",
       "<table border=\"1\" class=\"dataframe\">\n",
       "  <thead>\n",
       "    <tr style=\"text-align: right;\">\n",
       "      <th></th>\n",
       "      <th></th>\n",
       "      <th>Mean</th>\n",
       "      <th>Median</th>\n",
       "    </tr>\n",
       "    <tr>\n",
       "      <th>COUNTRY</th>\n",
       "      <th>variable</th>\n",
       "      <th></th>\n",
       "      <th></th>\n",
       "    </tr>\n",
       "  </thead>\n",
       "  <tbody>\n",
       "    <tr>\n",
       "      <th rowspan=\"3\" valign=\"top\">ARGENTINA</th>\n",
       "      <th>p_diff</th>\n",
       "      <td>-30399.085151</td>\n",
       "      <td>0.00</td>\n",
       "    </tr>\n",
       "    <tr>\n",
       "      <th>price</th>\n",
       "      <td>31061.999723</td>\n",
       "      <td>54.95</td>\n",
       "    </tr>\n",
       "    <tr>\n",
       "      <th>price_online</th>\n",
       "      <td>662.914572</td>\n",
       "      <td>55.00</td>\n",
       "    </tr>\n",
       "    <tr>\n",
       "      <th rowspan=\"3\" valign=\"top\">AUSTRALIA</th>\n",
       "      <th>p_diff</th>\n",
       "      <td>-0.464439</td>\n",
       "      <td>0.00</td>\n",
       "    </tr>\n",
       "    <tr>\n",
       "      <th>price</th>\n",
       "      <td>22.126683</td>\n",
       "      <td>7.99</td>\n",
       "    </tr>\n",
       "    <tr>\n",
       "      <th>price_online</th>\n",
       "      <td>21.662243</td>\n",
       "      <td>8.00</td>\n",
       "    </tr>\n",
       "    <tr>\n",
       "      <th rowspan=\"3\" valign=\"top\">BRAZIL</th>\n",
       "      <th>p_diff</th>\n",
       "      <td>-37.924121</td>\n",
       "      <td>0.00</td>\n",
       "    </tr>\n",
       "    <tr>\n",
       "      <th>price</th>\n",
       "      <td>338.507332</td>\n",
       "      <td>69.90</td>\n",
       "    </tr>\n",
       "    <tr>\n",
       "      <th>price_online</th>\n",
       "      <td>300.583211</td>\n",
       "      <td>67.90</td>\n",
       "    </tr>\n",
       "    <tr>\n",
       "      <th rowspan=\"3\" valign=\"top\">CANADA</th>\n",
       "      <th>p_diff</th>\n",
       "      <td>0.588671</td>\n",
       "      <td>0.00</td>\n",
       "    </tr>\n",
       "    <tr>\n",
       "      <th>price</th>\n",
       "      <td>35.799147</td>\n",
       "      <td>17.98</td>\n",
       "    </tr>\n",
       "    <tr>\n",
       "      <th>price_online</th>\n",
       "      <td>36.387818</td>\n",
       "      <td>17.99</td>\n",
       "    </tr>\n",
       "    <tr>\n",
       "      <th rowspan=\"3\" valign=\"top\">CHINA</th>\n",
       "      <th>p_diff</th>\n",
       "      <td>-0.832808</td>\n",
       "      <td>0.00</td>\n",
       "    </tr>\n",
       "    <tr>\n",
       "      <th>price</th>\n",
       "      <td>141.923942</td>\n",
       "      <td>43.85</td>\n",
       "    </tr>\n",
       "    <tr>\n",
       "      <th>price_online</th>\n",
       "      <td>141.091135</td>\n",
       "      <td>43.90</td>\n",
       "    </tr>\n",
       "    <tr>\n",
       "      <th rowspan=\"3\" valign=\"top\">GERMANY</th>\n",
       "      <th>p_diff</th>\n",
       "      <td>4.577242</td>\n",
       "      <td>0.00</td>\n",
       "    </tr>\n",
       "    <tr>\n",
       "      <th>price</th>\n",
       "      <td>31.831955</td>\n",
       "      <td>14.99</td>\n",
       "    </tr>\n",
       "    <tr>\n",
       "      <th>price_online</th>\n",
       "      <td>36.409198</td>\n",
       "      <td>15.99</td>\n",
       "    </tr>\n",
       "    <tr>\n",
       "      <th rowspan=\"3\" valign=\"top\">JAPAN</th>\n",
       "      <th>p_diff</th>\n",
       "      <td>-586.881969</td>\n",
       "      <td>0.00</td>\n",
       "    </tr>\n",
       "    <tr>\n",
       "      <th>price</th>\n",
       "      <td>5508.326655</td>\n",
       "      <td>1180.00</td>\n",
       "    </tr>\n",
       "    <tr>\n",
       "      <th>price_online</th>\n",
       "      <td>4921.444686</td>\n",
       "      <td>973.00</td>\n",
       "    </tr>\n",
       "    <tr>\n",
       "      <th rowspan=\"3\" valign=\"top\">SOUTHAFRICA</th>\n",
       "      <th>p_diff</th>\n",
       "      <td>-125.700372</td>\n",
       "      <td>0.00</td>\n",
       "    </tr>\n",
       "    <tr>\n",
       "      <th>price</th>\n",
       "      <td>208.401621</td>\n",
       "      <td>39.99</td>\n",
       "    </tr>\n",
       "    <tr>\n",
       "      <th>price_online</th>\n",
       "      <td>82.701249</td>\n",
       "      <td>39.99</td>\n",
       "    </tr>\n",
       "    <tr>\n",
       "      <th rowspan=\"3\" valign=\"top\">UK</th>\n",
       "      <th>p_diff</th>\n",
       "      <td>-0.067043</td>\n",
       "      <td>0.00</td>\n",
       "    </tr>\n",
       "    <tr>\n",
       "      <th>price</th>\n",
       "      <td>7.841262</td>\n",
       "      <td>2.00</td>\n",
       "    </tr>\n",
       "    <tr>\n",
       "      <th>price_online</th>\n",
       "      <td>7.774219</td>\n",
       "      <td>2.00</td>\n",
       "    </tr>\n",
       "    <tr>\n",
       "      <th rowspan=\"3\" valign=\"top\">USA</th>\n",
       "      <th>p_diff</th>\n",
       "      <td>-31950.531931</td>\n",
       "      <td>0.00</td>\n",
       "    </tr>\n",
       "    <tr>\n",
       "      <th>price</th>\n",
       "      <td>31985.195144</td>\n",
       "      <td>14.99</td>\n",
       "    </tr>\n",
       "    <tr>\n",
       "      <th>price_online</th>\n",
       "      <td>34.663213</td>\n",
       "      <td>14.99</td>\n",
       "    </tr>\n",
       "  </tbody>\n",
       "</table>\n",
       "</div>"
      ],
      "text/plain": [
       "                                  Mean   Median\n",
       "COUNTRY     variable                           \n",
       "ARGENTINA   p_diff       -30399.085151     0.00\n",
       "            price         31061.999723    54.95\n",
       "            price_online    662.914572    55.00\n",
       "AUSTRALIA   p_diff           -0.464439     0.00\n",
       "            price            22.126683     7.99\n",
       "            price_online     21.662243     8.00\n",
       "BRAZIL      p_diff          -37.924121     0.00\n",
       "            price           338.507332    69.90\n",
       "            price_online    300.583211    67.90\n",
       "CANADA      p_diff            0.588671     0.00\n",
       "            price            35.799147    17.98\n",
       "            price_online     36.387818    17.99\n",
       "CHINA       p_diff           -0.832808     0.00\n",
       "            price           141.923942    43.85\n",
       "            price_online    141.091135    43.90\n",
       "GERMANY     p_diff            4.577242     0.00\n",
       "            price            31.831955    14.99\n",
       "            price_online     36.409198    15.99\n",
       "JAPAN       p_diff         -586.881969     0.00\n",
       "            price          5508.326655  1180.00\n",
       "            price_online   4921.444686   973.00\n",
       "SOUTHAFRICA p_diff         -125.700372     0.00\n",
       "            price           208.401621    39.99\n",
       "            price_online     82.701249    39.99\n",
       "UK          p_diff           -0.067043     0.00\n",
       "            price             7.841262     2.00\n",
       "            price_online      7.774219     2.00\n",
       "USA         p_diff       -31950.531931     0.00\n",
       "            price         31985.195144    14.99\n",
       "            price_online     34.663213    14.99"
      ]
     },
     "execution_count": 13,
     "metadata": {},
     "output_type": "execute_result"
    }
   ],
   "source": [
    "(\n",
    "    bpp_original.melt(\n",
    "        id_vars=[\"COUNTRY\"], value_vars=[\"price\", \"price_online\", \"p_diff\"]\n",
    "    )\n",
    "    .groupby([\"COUNTRY\", \"variable\"])\n",
    "    .agg(Mean=(\"value\", \"mean\"), Median=(\"value\", \"median\"))\n",
    ")\n"
   ]
  },
  {
   "cell_type": "markdown",
   "id": "475f13f0",
   "metadata": {},
   "source": [
    "#### Task\n",
    "1) filter the data to 2016 and check price difference the mean and median for each country"
   ]
  },
  {
   "cell_type": "code",
   "execution_count": 15,
   "id": "6baf5d13",
   "metadata": {},
   "outputs": [
    {
     "data": {
      "text/html": [
       "<div>\n",
       "<style scoped>\n",
       "    .dataframe tbody tr th:only-of-type {\n",
       "        vertical-align: middle;\n",
       "    }\n",
       "\n",
       "    .dataframe tbody tr th {\n",
       "        vertical-align: top;\n",
       "    }\n",
       "\n",
       "    .dataframe thead th {\n",
       "        text-align: right;\n",
       "    }\n",
       "</style>\n",
       "<table border=\"1\" class=\"dataframe\">\n",
       "  <thead>\n",
       "    <tr style=\"text-align: right;\">\n",
       "      <th></th>\n",
       "      <th>Mean</th>\n",
       "      <th>Median</th>\n",
       "    </tr>\n",
       "    <tr>\n",
       "      <th>COUNTRY</th>\n",
       "      <th></th>\n",
       "      <th></th>\n",
       "    </tr>\n",
       "  </thead>\n",
       "  <tbody>\n",
       "    <tr>\n",
       "      <th>BRAZIL</th>\n",
       "      <td>-0.030662</td>\n",
       "      <td>0.0</td>\n",
       "    </tr>\n",
       "    <tr>\n",
       "      <th>CHINA</th>\n",
       "      <td>-0.345833</td>\n",
       "      <td>0.0</td>\n",
       "    </tr>\n",
       "    <tr>\n",
       "      <th>GERMANY</th>\n",
       "      <td>-0.192795</td>\n",
       "      <td>0.0</td>\n",
       "    </tr>\n",
       "    <tr>\n",
       "      <th>JAPAN</th>\n",
       "      <td>-91.596026</td>\n",
       "      <td>0.0</td>\n",
       "    </tr>\n",
       "    <tr>\n",
       "      <th>SOUTHAFRICA</th>\n",
       "      <td>-31.412899</td>\n",
       "      <td>0.0</td>\n",
       "    </tr>\n",
       "    <tr>\n",
       "      <th>USA</th>\n",
       "      <td>-139.610604</td>\n",
       "      <td>0.0</td>\n",
       "    </tr>\n",
       "  </tbody>\n",
       "</table>\n",
       "</div>"
      ],
      "text/plain": [
       "                   Mean  Median\n",
       "COUNTRY                        \n",
       "BRAZIL        -0.030662     0.0\n",
       "CHINA         -0.345833     0.0\n",
       "GERMANY       -0.192795     0.0\n",
       "JAPAN        -91.596026     0.0\n",
       "SOUTHAFRICA  -31.412899     0.0\n",
       "USA         -139.610604     0.0"
      ]
     },
     "execution_count": 15,
     "metadata": {},
     "output_type": "execute_result"
    }
   ],
   "source": [
    "(\n",
    "    bpp_original.loc[bpp_original[\"year\"] == 2016]\n",
    "    .groupby(\"COUNTRY\")\n",
    "    .agg(Mean=(\"p_diff\", \"mean\"), Median=(\"p_diff\", \"median\"))\n",
    ")\n"
   ]
  },
  {
   "cell_type": "markdown",
   "id": "cef041d9",
   "metadata": {},
   "source": [
    "Add self created descriptive function to groupby().agg()"
   ]
  },
  {
   "cell_type": "markdown",
   "id": "cf97af51",
   "metadata": {},
   "source": [
    "Lets check the 'range' as an external function to the descriptive"
   ]
  },
  {
   "cell_type": "code",
   "execution_count": 16,
   "id": "b745c49c",
   "metadata": {},
   "outputs": [
    {
     "data": {
      "text/html": [
       "<div>\n",
       "<style scoped>\n",
       "    .dataframe tbody tr th:only-of-type {\n",
       "        vertical-align: middle;\n",
       "    }\n",
       "\n",
       "    .dataframe tbody tr th {\n",
       "        vertical-align: top;\n",
       "    }\n",
       "\n",
       "    .dataframe thead th {\n",
       "        text-align: right;\n",
       "    }\n",
       "</style>\n",
       "<table border=\"1\" class=\"dataframe\">\n",
       "  <thead>\n",
       "    <tr style=\"text-align: right;\">\n",
       "      <th></th>\n",
       "      <th>mean_price_diff</th>\n",
       "      <th>median_price_diff</th>\n",
       "      <th>range_price_diff</th>\n",
       "    </tr>\n",
       "    <tr>\n",
       "      <th>COUNTRY</th>\n",
       "      <th></th>\n",
       "      <th></th>\n",
       "      <th></th>\n",
       "    </tr>\n",
       "  </thead>\n",
       "  <tbody>\n",
       "    <tr>\n",
       "      <th>ARGENTINA</th>\n",
       "      <td>-30399.085151</td>\n",
       "      <td>0.0</td>\n",
       "      <td>1.111358e+08</td>\n",
       "    </tr>\n",
       "    <tr>\n",
       "      <th>AUSTRALIA</th>\n",
       "      <td>-0.464439</td>\n",
       "      <td>0.0</td>\n",
       "      <td>1.438310e+03</td>\n",
       "    </tr>\n",
       "    <tr>\n",
       "      <th>BRAZIL</th>\n",
       "      <td>-37.924121</td>\n",
       "      <td>0.0</td>\n",
       "      <td>3.429000e+03</td>\n",
       "    </tr>\n",
       "    <tr>\n",
       "      <th>CANADA</th>\n",
       "      <td>0.588671</td>\n",
       "      <td>0.0</td>\n",
       "      <td>5.250200e+02</td>\n",
       "    </tr>\n",
       "    <tr>\n",
       "      <th>CHINA</th>\n",
       "      <td>-0.832808</td>\n",
       "      <td>0.0</td>\n",
       "      <td>6.110900e+02</td>\n",
       "    </tr>\n",
       "    <tr>\n",
       "      <th>GERMANY</th>\n",
       "      <td>4.577242</td>\n",
       "      <td>0.0</td>\n",
       "      <td>1.098310e+03</td>\n",
       "    </tr>\n",
       "    <tr>\n",
       "      <th>JAPAN</th>\n",
       "      <td>-586.881969</td>\n",
       "      <td>0.0</td>\n",
       "      <td>4.155930e+05</td>\n",
       "    </tr>\n",
       "    <tr>\n",
       "      <th>SOUTHAFRICA</th>\n",
       "      <td>-125.700372</td>\n",
       "      <td>0.0</td>\n",
       "      <td>2.075375e+05</td>\n",
       "    </tr>\n",
       "    <tr>\n",
       "      <th>UK</th>\n",
       "      <td>-0.067043</td>\n",
       "      <td>0.0</td>\n",
       "      <td>5.446000e+01</td>\n",
       "    </tr>\n",
       "    <tr>\n",
       "      <th>USA</th>\n",
       "      <td>-31950.531931</td>\n",
       "      <td>0.0</td>\n",
       "      <td>5.534914e+08</td>\n",
       "    </tr>\n",
       "  </tbody>\n",
       "</table>\n",
       "</div>"
      ],
      "text/plain": [
       "             mean_price_diff  median_price_diff  range_price_diff\n",
       "COUNTRY                                                          \n",
       "ARGENTINA      -30399.085151                0.0      1.111358e+08\n",
       "AUSTRALIA          -0.464439                0.0      1.438310e+03\n",
       "BRAZIL            -37.924121                0.0      3.429000e+03\n",
       "CANADA              0.588671                0.0      5.250200e+02\n",
       "CHINA              -0.832808                0.0      6.110900e+02\n",
       "GERMANY             4.577242                0.0      1.098310e+03\n",
       "JAPAN            -586.881969                0.0      4.155930e+05\n",
       "SOUTHAFRICA      -125.700372                0.0      2.075375e+05\n",
       "UK                 -0.067043                0.0      5.446000e+01\n",
       "USA            -31950.531931                0.0      5.534914e+08"
      ]
     },
     "execution_count": 16,
     "metadata": {},
     "output_type": "execute_result"
    }
   ],
   "source": [
    "def range_function(x):\n",
    "    return x.max() - x.min()\n",
    "\n",
    "\n",
    "bpp_original.groupby(\"COUNTRY\").agg(\n",
    "    mean_price_diff=(\"p_diff\", \"mean\"),\n",
    "    median_price_diff=(\"p_diff\", \"median\"),\n",
    "    range_price_diff=(\"p_diff\", range_function),\n",
    ")\n"
   ]
  },
  {
   "cell_type": "markdown",
   "id": "9b0e210e",
   "metadata": {},
   "source": [
    "Later we will discuss functions more in details!"
   ]
  },
  {
   "cell_type": "markdown",
   "id": "b3185828",
   "metadata": {},
   "source": [
    "### Graphs With plotnine <a class=\"anchor\" id=\"graphs\"></a>\n",
    "\n",
    "[back](#TOC)"
   ]
  },
  {
   "cell_type": "markdown",
   "id": "e276d038",
   "metadata": {},
   "source": [
    "We use the plotnine package for visualization in Python. This package relates to the ggplot package in R. "
   ]
  },
  {
   "cell_type": "markdown",
   "id": "3efec448",
   "metadata": {},
   "source": [
    "plotnine always has a `ggplot()` function and a `geom_*type*()` function added."
   ]
  },
  {
   "cell_type": "markdown",
   "id": "323e2540",
   "metadata": {},
   "source": [
    "___"
   ]
  },
  {
   "cell_type": "markdown",
   "id": "95b7c355",
   "metadata": {},
   "source": [
    "Check the empirical distribution:  histogram.\n",
    "\n",
    "Before building a nice looking graph using plotnine, its worth to look at the histogram using thew built in pandas `hist()` function"
   ]
  },
  {
   "cell_type": "code",
   "execution_count": null,
   "id": "c6cdf72f",
   "metadata": {},
   "outputs": [],
   "source": [
    "bpp_original.price.hist()\n"
   ]
  },
  {
   "cell_type": "markdown",
   "id": "cb923a4a",
   "metadata": {},
   "source": [
    "It is clear: need to filter out some data!"
   ]
  },
  {
   "cell_type": "code",
   "execution_count": null,
   "id": "2348a7d0",
   "metadata": {},
   "outputs": [],
   "source": [
    "bpp = (\n",
    "    bpp_original.loc[bpp_original[\"sale_online\"].isnull()]\n",
    "    .loc[bpp_original[\"price\"].notnull()]\n",
    "    .loc[bpp_original[\"price_online\"].notnull()]\n",
    "    .loc[bpp_original[\"PRICETYPE\"] == \"Regular Price\"]\n",
    ")\n"
   ]
  },
  {
   "cell_type": "markdown",
   "id": "23bb1e52",
   "metadata": {},
   "source": [
    "Check our newly created data:"
   ]
  },
  {
   "cell_type": "code",
   "execution_count": null,
   "id": "b0f58c1a",
   "metadata": {},
   "outputs": [],
   "source": [
    "bpp.filter([\"price\", \"price_online\", \"p_diff\"]).describe()\n"
   ]
  },
  {
   "cell_type": "markdown",
   "id": "addc0112",
   "metadata": {},
   "source": [
    "Drop obvious errors: price is larger than $1000"
   ]
  },
  {
   "cell_type": "code",
   "execution_count": null,
   "id": "dd00f2d4",
   "metadata": {},
   "outputs": [],
   "source": [
    "bpp = bpp.loc[bpp[\"price\"] < 1000]\n"
   ]
  },
  {
   "cell_type": "code",
   "execution_count": null,
   "id": "3d2654ac",
   "metadata": {},
   "outputs": [],
   "source": [
    "bpp.filter([\"price\", \"price_online\", \"p_diff\"]).describe()\n"
   ]
  },
  {
   "cell_type": "code",
   "execution_count": null,
   "id": "7c63a1ef",
   "metadata": {},
   "outputs": [],
   "source": [
    "bpp.price.hist()\n"
   ]
  },
  {
   "cell_type": "markdown",
   "id": "1ef0fc16",
   "metadata": {},
   "source": [
    "Make a nice histogram using plotnine"
   ]
  },
  {
   "cell_type": "code",
   "execution_count": null,
   "id": "0e61f54a",
   "metadata": {},
   "outputs": [],
   "source": [
    "(\n",
    "    ggplot(data=bpp)\n",
    "    + geom_histogram(aes(x=\"price\"), bins=50, fill=\"blue\")\n",
    "    + labs(x=\"Price\", y=\"Count\")\n",
    ")\n"
   ]
  },
  {
   "cell_type": "markdown",
   "id": "9ed4a5cf",
   "metadata": {},
   "source": [
    "#### Role of number of bins (or binwidth)\n",
    "\n",
    "Play with the number of Bins:"
   ]
  },
  {
   "cell_type": "code",
   "execution_count": null,
   "id": "80852d80",
   "metadata": {},
   "outputs": [],
   "source": [
    "# 1) approx ok\n",
    "(\n",
    "    ggplot(data=bpp)\n",
    "    + geom_histogram(aes(x=\"price\"), bins=50, fill=\"blue\")\n",
    "    + labs(x=\"Price\", y=\"Count\")\n",
    ")\n"
   ]
  },
  {
   "cell_type": "code",
   "execution_count": null,
   "id": "682e4907",
   "metadata": {},
   "outputs": [],
   "source": [
    "# 2) too many\n",
    "(\n",
    "    ggplot(data=bpp)\n",
    "    + geom_histogram(aes(x=\"price\"), bins=150, fill=\"blue\")\n",
    "    + labs(x=\"Price\", y=\"Count\")\n",
    ")\n"
   ]
  },
  {
   "cell_type": "code",
   "execution_count": null,
   "id": "e1f3a4ea",
   "metadata": {},
   "outputs": [],
   "source": [
    "# 3) too few\n",
    "(\n",
    "    ggplot(data=bpp)\n",
    "    + geom_histogram(aes(x=\"price\"), bins=5, fill=\"blue\")\n",
    "    + labs(x=\"Price\", y=\"Count\")\n",
    ")\n"
   ]
  },
  {
   "cell_type": "markdown",
   "id": "01d0a496",
   "metadata": {},
   "source": [
    "#### Task:\n",
    " Play with the binwidth - instead of `bins=`, use `binwidth=`\n",
    " \n",
    " create 3 graphs: 1) approx ok, 2) too large binwidth, 3) too narrow binwidth\n",
    " \n",
    " discuss, what is the relation between bins and binwidth!"
   ]
  },
  {
   "cell_type": "code",
   "execution_count": null,
   "id": "119361ec",
   "metadata": {},
   "outputs": [],
   "source": [
    "# 1) approx ok\n",
    "(\n",
    "    ggplot(data=bpp)\n",
    "    + geom_histogram(aes(x=\"price\"), binwidth=20, fill=\"blue\")\n",
    "    + labs(x=\"Price\", y=\"Count\")\n",
    ")\n"
   ]
  },
  {
   "cell_type": "code",
   "execution_count": null,
   "id": "bdb88839",
   "metadata": {},
   "outputs": [],
   "source": [
    "# 2) too many\n",
    "(\n",
    "    ggplot(data=bpp)\n",
    "    + geom_histogram(aes(x=\"price\"), binwidth=200, fill=\"blue\")\n",
    "    + labs(x=\"Price\", y=\"Count\")\n",
    ")\n"
   ]
  },
  {
   "cell_type": "code",
   "execution_count": null,
   "id": "59f5ce46",
   "metadata": {},
   "outputs": [],
   "source": [
    "# 3) too few\n",
    "(\n",
    "    ggplot(data=bpp)\n",
    "    + geom_histogram(aes(x=\"price\"), binwidth=2, fill=\"blue\")\n",
    "    + labs(x=\"Price\", y=\"Count\")\n",
    ")\n"
   ]
  },
  {
   "cell_type": "markdown",
   "id": "a3318e06",
   "metadata": {},
   "source": [
    " Relation: they are inversely proportional"
   ]
  },
  {
   "cell_type": "markdown",
   "id": "7971124b",
   "metadata": {},
   "source": [
    "___"
   ]
  },
  {
   "cell_type": "markdown",
   "id": "fcf6a8ec",
   "metadata": {},
   "source": [
    "#### Count vs. Relative Frequency\n",
    "\n",
    "Until now we have used count (counted the number of observations in each bin)\n",
    "\n",
    "The other possibility is to use relative frequency instead:\n",
    "\n",
    "You need to add `y = after_stat('density')` to the aesthetics:"
   ]
  },
  {
   "cell_type": "code",
   "execution_count": null,
   "id": "07507076",
   "metadata": {},
   "outputs": [],
   "source": [
    "(\n",
    "    ggplot(data=bpp)\n",
    "    + geom_histogram(aes(x=\"price\", y=after_stat(\"density\")), binwidth=20, fill=\"blue\")\n",
    "    + labs(x=\"Price\", y=\"Relative Frequency\")\n",
    ")\n"
   ]
  },
  {
   "cell_type": "markdown",
   "id": "61f6628b",
   "metadata": {},
   "source": [
    "#### Kernel density\n",
    "\n",
    " Histogram or kernel density? Kernel is the smooth line instead of using bars.\n",
    " \n",
    " Now, let us name our ggplot:"
   ]
  },
  {
   "cell_type": "code",
   "execution_count": null,
   "id": "1343ab30",
   "metadata": {},
   "outputs": [],
   "source": [
    "my_graph = (\n",
    "    ggplot(data=bpp)\n",
    "    + geom_density(aes(x=\"price\"), fill=\"red\", alpha=0.1, bw=20)\n",
    "    + labs(x=\"Price\", y=\"Relative Frequency\")\n",
    ")\n"
   ]
  },
  {
   "cell_type": "markdown",
   "id": "97dae5c4",
   "metadata": {},
   "source": [
    "to make it visible we need to call it"
   ]
  },
  {
   "cell_type": "code",
   "execution_count": null,
   "id": "9e0ed499",
   "metadata": {},
   "outputs": [],
   "source": [
    "my_graph\n"
   ]
  },
  {
   "cell_type": "markdown",
   "id": "05351396",
   "metadata": {},
   "source": [
    "Cool stuff about plotnine, is that we can add (later as well) new geometric object to it.\n",
    "\n",
    "e.g. we can add a histogram:"
   ]
  },
  {
   "cell_type": "code",
   "execution_count": null,
   "id": "d0efcfcf",
   "metadata": {},
   "outputs": [],
   "source": [
    "my_graph + geom_histogram(\n",
    "    aes(x=\"price\", y=after_stat(\"density\")), binwidth=20, fill=\"blue\", alpha=0.4\n",
    ")\n"
   ]
  },
  {
   "cell_type": "markdown",
   "id": "46b453e2",
   "metadata": {},
   "source": [
    "#### Task\n",
    "1) Do the same kernel density and histogram, but now with the price differences!\n",
    "\n",
    "2) Add xlim(-5,5) command to ggplot! What changed?"
   ]
  },
  {
   "cell_type": "code",
   "execution_count": null,
   "id": "fdc6344a",
   "metadata": {},
   "outputs": [],
   "source": [
    "(\n",
    "    ggplot(data=bpp)\n",
    "    + geom_density(aes(x=\"p_diff\"), fill=\"red\", alpha=0.1, bw=0.2)\n",
    "    + geom_histogram(\n",
    "        aes(x=\"p_diff\", y=after_stat(\"density\")), binwidth=0.2, fill=\"blue\", alpha=0.4\n",
    "    )\n",
    "    + xlim(-5, 5)\n",
    "    + labs(x=\"Price Difference\", y=\"Relative Frequency\")\n",
    ")\n"
   ]
  },
  {
   "cell_type": "markdown",
   "id": "eb893f46",
   "metadata": {},
   "source": [
    "Check for high price differences"
   ]
  },
  {
   "cell_type": "code",
   "execution_count": null,
   "id": "6e86dc63",
   "metadata": {},
   "outputs": [],
   "source": [
    "bpp.loc[(bpp[\"p_diff\"] > 500) | (bpp[\"p_diff\"] < -500)]\n"
   ]
  },
  {
   "cell_type": "markdown",
   "id": "a52e1509",
   "metadata": {},
   "source": [
    "Remove them"
   ]
  },
  {
   "cell_type": "code",
   "execution_count": null,
   "id": "3616f347",
   "metadata": {},
   "outputs": [],
   "source": [
    "bpp = bpp.loc[(bpp[\"p_diff\"] < 500) & (bpp[\"p_diff\"] > -500)]\n"
   ]
  },
  {
   "cell_type": "markdown",
   "id": "35bd1a49",
   "metadata": {},
   "source": [
    "#### Comparing different countries via graphs\n",
    "\n",
    "Create plot for each countries - histogram:\n",
    "\n",
    "Note: \n",
    "\n",
    "  1) if you only use one type of x or y, you can put it into the `aes()` of the ggplot. Otherwise not. \\\n",
    "  2) use 'fill=' in `aes()`, to define different groups. "
   ]
  },
  {
   "cell_type": "code",
   "execution_count": null,
   "id": "a678ec89",
   "metadata": {},
   "outputs": [],
   "source": [
    "(\n",
    "    ggplot(bpp, aes(x=\"p_diff\", fill=\"COUNTRY\"))\n",
    "    + geom_histogram(aes(y=after_stat(\"density\")), bins=15, alpha=0.4)\n",
    "    + xlim(-4, 4)\n",
    "    + labs(x=\"Price Difference\", y=\"Relative Frequency\")\n",
    ")\n"
   ]
  },
  {
   "cell_type": "markdown",
   "id": "d199ba0c",
   "metadata": {},
   "source": [
    "Use the extra command `facet_wrap(~COUNTRY)` to create multiple plots for each country at once!"
   ]
  },
  {
   "cell_type": "code",
   "execution_count": null,
   "id": "5eb9f881",
   "metadata": {},
   "outputs": [],
   "source": [
    "(\n",
    "    ggplot(bpp, aes(x=\"p_diff\", fill=\"COUNTRY\"))\n",
    "    + geom_histogram(aes(y=after_stat(\"density\")), bins=15, alpha=0.4)\n",
    "    + xlim(-4, 4)\n",
    "    + labs(x=\"Price Difference\", y=\"Relative Frequency\")\n",
    "    + facet_wrap(\"~COUNTRY\")\n",
    ")\n"
   ]
  },
  {
   "cell_type": "markdown",
   "id": "ddf4c791",
   "metadata": {},
   "source": [
    "#### Task \n",
    "1) You can also use  'color=' or 'group=' instead of 'fill='.\\\n",
    "Compare! What is the difference?"
   ]
  },
  {
   "cell_type": "markdown",
   "id": "3ef7aa35",
   "metadata": {},
   "source": [
    "Use color instead"
   ]
  },
  {
   "cell_type": "code",
   "execution_count": null,
   "id": "ed6505e7",
   "metadata": {},
   "outputs": [],
   "source": [
    "(\n",
    "    ggplot(bpp, aes(x=\"p_diff\", color=\"COUNTRY\"))\n",
    "    + geom_histogram(aes(y=after_stat(\"density\")), bins=15, alpha=0.4)\n",
    "    + xlim(-4, 4)\n",
    "    + labs(x=\"Price Difference\", y=\"Relative Frequency\")\n",
    "    + facet_wrap(\"~COUNTRY\")\n",
    ")\n"
   ]
  },
  {
   "cell_type": "markdown",
   "id": "aad5b5d8",
   "metadata": {},
   "source": [
    "Use group instead"
   ]
  },
  {
   "cell_type": "code",
   "execution_count": null,
   "id": "7a8c42cb",
   "metadata": {},
   "outputs": [],
   "source": [
    "(\n",
    "    ggplot(bpp, aes(x=\"p_diff\", group=\"COUNTRY\"))\n",
    "    + geom_histogram(aes(y=after_stat(\"density\")), bins=15, alpha=0.4)\n",
    "    + xlim(-4, 4)\n",
    "    + labs(x=\"Price Difference\", y=\"Relative Frequency\")\n",
    "    + facet_wrap(\"~COUNTRY\")\n",
    ")\n"
   ]
  },
  {
   "cell_type": "markdown",
   "id": "73fed2a6",
   "metadata": {},
   "source": [
    "#### Task\n",
    "\n",
    "1) Do the same, but use geom_density instead of geom_histogram! \\\n",
    "    You may play around with the xlim!\\\n",
    "2) Drop the `facet_wrap` command! What happens? Which graph would you use to tell your story in this case?\\\n",
    "What if instead of `fill` you use `color` or `group`\\"
   ]
  },
  {
   "cell_type": "markdown",
   "id": "a71f4b59",
   "metadata": {},
   "source": [
    " 1) Density with multiple graphs"
   ]
  },
  {
   "cell_type": "code",
   "execution_count": null,
   "id": "abcc545b",
   "metadata": {},
   "outputs": [],
   "source": [
    "(\n",
    "    ggplot(bpp, aes(x=\"p_diff\", fill=\"COUNTRY\"))\n",
    "    + geom_density(alpha=0.4, bw=0.03)\n",
    "    + xlim(-1, 1)\n",
    "    + labs(x=\"Price Difference\", y=\"Relative Frequency\")\n",
    "    + facet_wrap(\"~COUNTRY\")\n",
    ")\n"
   ]
  },
  {
   "cell_type": "markdown",
   "id": "9d24527c",
   "metadata": {},
   "source": [
    "2) Density with single graphs:"
   ]
  },
  {
   "cell_type": "code",
   "execution_count": null,
   "id": "4200526a",
   "metadata": {},
   "outputs": [],
   "source": [
    "# fill\n",
    "(\n",
    "    ggplot(bpp, aes(x=\"p_diff\", fill=\"COUNTRY\"))\n",
    "    + geom_density(alpha=0.4, bw=0.03)\n",
    "    + xlim(-1, 1)\n",
    "    + labs(x=\"Price Difference\", y=\"Relative Frequency\")\n",
    ")\n"
   ]
  },
  {
   "cell_type": "code",
   "execution_count": null,
   "id": "070035d0",
   "metadata": {},
   "outputs": [],
   "source": [
    "# color\n",
    "(\n",
    "    ggplot(bpp, aes(x=\"p_diff\", color=\"COUNTRY\"))\n",
    "    + geom_density(alpha=0.4, bw=0.03)\n",
    "    + xlim(-1, 1)\n",
    "    + labs(x=\"Price Difference\", y=\"Relative Frequency\")\n",
    ")\n"
   ]
  },
  {
   "cell_type": "code",
   "execution_count": null,
   "id": "8a12e54c",
   "metadata": {},
   "outputs": [],
   "source": [
    "# group\n",
    "(\n",
    "    ggplot(bpp, aes(x=\"p_diff\", group=\"COUNTRY\"))\n",
    "    + geom_density(alpha=0.4, bw=0.03)\n",
    "    + xlim(-1, 1)\n",
    "    + labs(x=\"Price Difference\", y=\"Relative Frequency\")\n",
    ")\n"
   ]
  },
  {
   "cell_type": "markdown",
   "id": "3481bd52",
   "metadata": {},
   "source": [
    "Which graph to use: I would definitely use single density graph with color. \\\n",
    "    It tells the story best: there are differences between countries!"
   ]
  },
  {
   "cell_type": "markdown",
   "id": "5efdf7ff",
   "metadata": {},
   "source": [
    "### Hypothesis testing <a class=\"anchor\" id=\"ttest\"></a>\n",
    "\n",
    "[back](#TOC)"
   ]
  },
  {
   "cell_type": "markdown",
   "id": "4d709170",
   "metadata": {},
   "source": [
    "Test 1: \n",
    "\n",
    "H0: the average price difference between price_online - price = 0 \\\n",
    "HA: the avg price diff is non 0."
   ]
  },
  {
   "cell_type": "code",
   "execution_count": null,
   "id": "68f16ef1",
   "metadata": {},
   "outputs": [],
   "source": [
    "from scipy import stats\n"
   ]
  },
  {
   "cell_type": "code",
   "execution_count": null,
   "id": "d3c2da8a",
   "metadata": {},
   "outputs": [],
   "source": [
    "stats.ttest_1samp(bpp[\"p_diff\"], 0)\n"
   ]
  },
  {
   "cell_type": "markdown",
   "id": "59312ddf",
   "metadata": {},
   "source": [
    "Test 2: The online prices are smaller or equal to offline prices\n",
    "  \n",
    "H0: price_online - price = 0 \\\n",
    "HA: price_online - price >  0"
   ]
  },
  {
   "cell_type": "code",
   "execution_count": null,
   "id": "91099dad",
   "metadata": {},
   "outputs": [],
   "source": [
    "stats.ttest_1samp(bpp[\"p_diff\"], 0, alternative=\"greater\")\n"
   ]
  },
  {
   "cell_type": "markdown",
   "id": "0354dc2b",
   "metadata": {},
   "source": [
    "Test 3: The online prices are larger or equal to offline prices\n",
    "    \n",
    "  H0: price_online - price = 0 \\\n",
    "  HA: price_online - price <  0"
   ]
  },
  {
   "cell_type": "code",
   "execution_count": null,
   "id": "ffaf9a27",
   "metadata": {},
   "outputs": [],
   "source": [
    "stats.ttest_1samp(bpp[\"p_diff\"], 0, alternative=\"less\")\n"
   ]
  },
  {
   "cell_type": "markdown",
   "id": "d01a08d3",
   "metadata": {},
   "source": [
    "Let us create multiple hypothesis tests: \\\n",
    "Check the hypothesis that online prices are the same as offline for each country!"
   ]
  },
  {
   "cell_type": "code",
   "execution_count": null,
   "id": "557ac0c7",
   "metadata": {},
   "outputs": [],
   "source": [
    "testing = bpp.groupby(\"COUNTRY\").agg(\n",
    "    mean_pdiff=(\"p_diff\", \"mean\"),\n",
    "    se_pdiff=(\"p_diff\", \"sem\"),\n",
    "    num_obs=(\"p_diff\", \"count\"),\n",
    ")\n",
    "testing\n"
   ]
  },
  {
   "cell_type": "markdown",
   "id": "364c8ef1",
   "metadata": {},
   "source": [
    "Testing is easy if one understands the theory! \\\n",
    "t_stat: with this H0 and t-test: "
   ]
  },
  {
   "cell_type": "code",
   "execution_count": null,
   "id": "96cef82e",
   "metadata": {},
   "outputs": [],
   "source": [
    "testing[\"t_stat\"] = testing[\"mean_pdiff\"] / testing[\"se_pdiff\"]\n",
    "\n",
    "testing\n"
   ]
  },
  {
   "cell_type": "markdown",
   "id": "7b0715f8",
   "metadata": {},
   "source": [
    "Calculate p-values"
   ]
  },
  {
   "cell_type": "code",
   "execution_count": null,
   "id": "379e0a95",
   "metadata": {},
   "outputs": [],
   "source": [
    "testing[\"p_val\"] = stats.t.sf(abs(testing[\"t_stat\"]), df=testing[\"num_obs\"] - 1)\n",
    "\n",
    "testing\n"
   ]
  },
  {
   "cell_type": "markdown",
   "id": "d2b84f5f",
   "metadata": {},
   "source": [
    "Round it to 4 digits"
   ]
  },
  {
   "cell_type": "code",
   "execution_count": null,
   "id": "04c7a583",
   "metadata": {},
   "outputs": [],
   "source": [
    "testing[\"p_val\"] = testing[\"p_val\"].round(4)\n",
    "testing\n"
   ]
  },
  {
   "cell_type": "markdown",
   "id": "aa960dd6",
   "metadata": {},
   "source": [
    "Interpret the results for each country! \\\n",
    "What are the possible dangers of multiple hypothesis testing?"
   ]
  },
  {
   "cell_type": "markdown",
   "id": "12a7805b",
   "metadata": {},
   "source": [
    "### Association<a class=\"anchor\" id=\"association\"></a>\n",
    "\n",
    "[back](#TOC)\n",
    "\n",
    "Relation between two variables"
   ]
  },
  {
   "cell_type": "markdown",
   "id": "69f03d77",
   "metadata": {},
   "source": [
    "Association between online and retail prices: geom_point() will add dots to the graph"
   ]
  },
  {
   "cell_type": "code",
   "execution_count": null,
   "id": "1e761e40",
   "metadata": {},
   "outputs": [],
   "source": [
    "(\n",
    "    ggplot(bpp, aes(x=\"price_online\", y=\"price\"))\n",
    "    + geom_point(color=\"red\")\n",
    "    + labs(x=\"Price online\", y=\"Price retail\")\n",
    ")\n"
   ]
  },
  {
   "cell_type": "markdown",
   "id": "b2eb1bed",
   "metadata": {},
   "source": [
    "You can add a line (regression line to be specific),\\\n",
    "  by `geom_smooth()` function. It is a great function, \\\n",
    "     we now focus on `method=lm` which says it is a linear relation (linear model) \\\n",
    "     and formula, which identifies y and x. We will discuss these more in details later."
   ]
  },
  {
   "cell_type": "code",
   "execution_count": null,
   "id": "9e2154e2",
   "metadata": {},
   "outputs": [],
   "source": [
    "(\n",
    "    ggplot(bpp, aes(x=\"price_online\", y=\"price\"))\n",
    "    + geom_point(color=\"red\")\n",
    "    + geom_smooth(method=\"lm\", formula=\"y ~ x\", color=\"blue\")\n",
    "    + labs(x=\"Price online\", y=\"Price retail\")\n",
    ")\n"
   ]
  },
  {
   "cell_type": "markdown",
   "id": "88903edf",
   "metadata": {},
   "source": [
    "#### Bin-scatter:\n",
    "\n",
    "In many case there are too many observations for a simple graph \\\n",
    "  and it does not tells the story we would like to. \\\n",
    "One solution is to do a `bin-scatter`, which put observations into bins. \\\n",
    "  The simplest way to do is use \"equal distances\": cut x-variable's range into k equally sized bins \\\n",
    "    and then calculate the same observations' y-variable e.g. mean (or median). \\ \n",
    "    - this is great: simple and intuitive (similar to histogram), \\\n",
    "      BUT it hides, how many observations are in each bin. \\\n",
    "        E.g. it can happen in the lowest valued bin there are many observations \\\n",
    "            and in the highest there is only one. \\\n",
    "       \n",
    "  The second option is use the same number of observations in each bin. \\\n",
    "    This will ensure that no such problem will rise. On the other hand it is harder to compute, \\\n",
    "     and the width of the bins will vary along x.\\"
   ]
  },
  {
   "cell_type": "markdown",
   "id": "1796e063",
   "metadata": {},
   "source": [
    "1) 'easy way': using equal distances and calculate mean for y\n",
    "   use `stat_summary_bin()`"
   ]
  },
  {
   "cell_type": "code",
   "execution_count": null,
   "id": "1a1855a6",
   "metadata": {},
   "outputs": [],
   "source": [
    "ggplot(bpp, aes(x=\"price_online\", y=\"price\")) + stat_summary_bin(\n",
    "    fun_data=\"mean_se\", bins=10, geom=\"point\", color=\"red\", size=2\n",
    ")\n"
   ]
  },
  {
   "cell_type": "markdown",
   "id": "cd28aa00",
   "metadata": {},
   "source": [
    "2) 'easy way': using equal distances\n",
    "   group by countries, explain facet_wrap additional inputs!"
   ]
  },
  {
   "cell_type": "code",
   "execution_count": null,
   "id": "69d74bd1",
   "metadata": {},
   "outputs": [],
   "source": [
    "(\n",
    "    ggplot(bpp, aes(x=\"price_online\", y=\"price\", color=\"COUNTRY\"))\n",
    "    + stat_summary_bin(fun_data=\"mean_se\", bins=10, geom=\"point\", size=2)\n",
    "    + labs(x=\"Price online\", y=\"Price offline\", color=\"Country\")\n",
    "    + facet_wrap(\"~COUNTRY\", scales=\"free\", ncol=2)\n",
    "    + theme(legend_position=\"none\")\n",
    "    + geom_smooth(method=\"lm\", formula=\"y~x\", se=False)\n",
    ")\n"
   ]
  },
  {
   "cell_type": "markdown",
   "id": "840ffbb5",
   "metadata": {},
   "source": [
    "#### Bin-scatter 2 \n",
    "\n",
    "Using percentiles instead of equally sized bins to ensure same number of observations!"
   ]
  },
  {
   "cell_type": "markdown",
   "id": "d79861b9",
   "metadata": {},
   "source": [
    "As there is no built-in function for this, we need to do some work:"
   ]
  },
  {
   "cell_type": "markdown",
   "id": "7bf5679c",
   "metadata": {},
   "source": [
    "First, cut the y variable into 10 equally sized categories"
   ]
  },
  {
   "cell_type": "code",
   "execution_count": null,
   "id": "68914aa0",
   "metadata": {},
   "outputs": [],
   "source": [
    "bpp[\"price_online_10b\"] = pd.qcut(bpp[\"price_online\"], 10).values\n"
   ]
  },
  {
   "cell_type": "markdown",
   "id": "07a4cf84",
   "metadata": {},
   "source": [
    "Select these new intervals and the y-variable \\\n",
    "then group by the intervals and calculate some descriptive statistics! \\\n",
    "from these descriptive statistics we can choose which to show on the y-axis!"
   ]
  },
  {
   "cell_type": "code",
   "execution_count": null,
   "id": "85a317d2",
   "metadata": {},
   "outputs": [],
   "source": [
    "bpp.groupby(\"price_online_10b\").agg(\n",
    "    p_min=(\"price\", \"min\"),\n",
    "    p_max=(\"price\", \"max\"),\n",
    "    p_mean=(\"price\", \"mean\"),\n",
    "    p_median=(\"price\", \"median\"),\n",
    "    p_sd=(\"price\", \"std\"),\n",
    "    p_num_obs=(\"price\", \"count\"),\n",
    ")\n"
   ]
  },
  {
   "cell_type": "markdown",
   "id": "96c8ad83",
   "metadata": {},
   "source": [
    "Get mean of each category for x axis labels"
   ]
  },
  {
   "cell_type": "code",
   "execution_count": null,
   "id": "7f1d8d51",
   "metadata": {},
   "outputs": [],
   "source": [
    "bpp[\"mid_point\"] = bpp.groupby(\"price_online_10b\")[\"price_online\"].transform(\"mean\")\n"
   ]
  },
  {
   "cell_type": "markdown",
   "id": "11006fa3",
   "metadata": {},
   "source": [
    "Now, calculate mean price for each midpoint"
   ]
  },
  {
   "cell_type": "code",
   "execution_count": null,
   "id": "1eecc50c",
   "metadata": {},
   "outputs": [],
   "source": [
    "bs_summary = bpp.groupby(\"mid_point\")[\"price\"].mean().reset_index()\n"
   ]
  },
  {
   "cell_type": "code",
   "execution_count": null,
   "id": "617fb146",
   "metadata": {},
   "outputs": [],
   "source": [
    "bs_summary\n"
   ]
  },
  {
   "cell_type": "code",
   "execution_count": null,
   "id": "c28909cc",
   "metadata": {},
   "outputs": [],
   "source": [
    "(\n",
    "    ggplot(bs_summary, aes(x=\"mid_point\", y=\"price\"))\n",
    "    + geom_point()\n",
    "    + geom_point(size=2, color=\"red\")\n",
    "    + labs(x=\"Online prices\", y=\"Retail prices\")\n",
    ")\n"
   ]
  },
  {
   "cell_type": "markdown",
   "id": "10b0af15",
   "metadata": {},
   "source": [
    "Add x and y limits to check smaller values"
   ]
  },
  {
   "cell_type": "code",
   "execution_count": null,
   "id": "cf18c886",
   "metadata": {},
   "outputs": [],
   "source": [
    "(\n",
    "    ggplot(bs_summary, aes(x=\"mid_point\", y=\"price\"))\n",
    "    + geom_point()\n",
    "    + geom_point(size=2, color=\"red\")\n",
    "    + labs(x=\"Online prices\", y=\"Retail prices\")\n",
    "    + xlim(0, 100)\n",
    "    + ylim(0, 100)\n",
    ")\n"
   ]
  },
  {
   "cell_type": "markdown",
   "id": "1e73d3f2",
   "metadata": {},
   "source": [
    "#### Correlation and plots with factors"
   ]
  },
  {
   "cell_type": "markdown",
   "id": "b37e029c",
   "metadata": {},
   "source": [
    "Often we would like to measure an association: \\\n",
    "covariance and correlation for mean-dependence"
   ]
  },
  {
   "cell_type": "markdown",
   "id": "4e977ea2",
   "metadata": {},
   "source": [
    "Covariance matrix"
   ]
  },
  {
   "cell_type": "code",
   "execution_count": null,
   "id": "a39b0424",
   "metadata": {},
   "outputs": [],
   "source": [
    "bpp.filter([\"price\", \"price_online\"]).cov()\n"
   ]
  },
  {
   "cell_type": "markdown",
   "id": "a2c0ab06",
   "metadata": {},
   "source": [
    "Correlation"
   ]
  },
  {
   "cell_type": "code",
   "execution_count": null,
   "id": "519658db",
   "metadata": {},
   "outputs": [],
   "source": [
    "bpp.filter([\"price\", \"price_online\"]).corr()\n"
   ]
  },
  {
   "cell_type": "markdown",
   "id": "2527b8c7",
   "metadata": {},
   "source": [
    "Make a correlation table, including correlation for each country"
   ]
  },
  {
   "cell_type": "code",
   "execution_count": null,
   "id": "e1fcdb1b",
   "metadata": {},
   "outputs": [],
   "source": [
    "corr_table = (\n",
    "    bpp.groupby(\"COUNTRY\")[\"price\"]\n",
    "    .corr(bpp[\"price_online\"])\n",
    "    .rename(\"correlation\")\n",
    "    .reset_index()\n",
    ")\n",
    "\n",
    "corr_table\n"
   ]
  },
  {
   "cell_type": "markdown",
   "id": "5d69629e",
   "metadata": {},
   "source": [
    "Graph to show the correlation pattern by each country: \\\n",
    "\"reorder\" will reorder the countries by their correlation"
   ]
  },
  {
   "cell_type": "code",
   "execution_count": null,
   "id": "b0b3750a",
   "metadata": {},
   "outputs": [],
   "source": [
    "(\n",
    "    ggplot(corr_table, aes(x=\"correlation\", y=\"reorder(COUNTRY, correlation)\"))\n",
    "    + geom_point(color=\"red\", size=2)\n",
    "    + labs(y=\"Countries\", x=\"Correlation\")\n",
    ")\n"
   ]
  },
  {
   "cell_type": "markdown",
   "id": "c8833feb",
   "metadata": {},
   "source": [
    "#### Task\n",
    "\n",
    "Check the same for years and countries to check how the pattern altered!\n",
    "\n",
    "Note: \\\n",
    "    1) use color for prettier output with factor \\\n",
    "    2) You can alter the legend labels with `color=`"
   ]
  },
  {
   "cell_type": "code",
   "execution_count": null,
   "id": "35c92281",
   "metadata": {},
   "outputs": [],
   "source": [
    "corr_table2 = (\n",
    "    bpp.groupby([\"year\", \"COUNTRY\"])[\"price\"]\n",
    "    .corr(bpp[\"price_online\"])\n",
    "    .rename(\"correlation\")\n",
    "    .reset_index()\n",
    ")\n",
    "\n",
    "corr_table2\n"
   ]
  },
  {
   "cell_type": "code",
   "execution_count": null,
   "id": "516ab95f",
   "metadata": {},
   "outputs": [],
   "source": [
    "(\n",
    "    ggplot(\n",
    "        corr_table2,\n",
    "        aes(x=\"correlation\", y=\"reorder(COUNTRY, correlation)\", color=\"factor(year)\"),\n",
    "    )\n",
    "    + geom_point(size=2)\n",
    "    + labs(y=\"Countries\", x=\"Correlation\", color=\"Year\")\n",
    ")\n"
   ]
  },
  {
   "cell_type": "code",
   "execution_count": null,
   "id": "d2102a87",
   "metadata": {},
   "outputs": [],
   "source": []
  }
 ],
 "metadata": {
  "kernelspec": {
   "display_name": "Python 3 (ipykernel)",
   "language": "python",
   "name": "python3"
  },
  "language_info": {
   "codemirror_mode": {
    "name": "ipython",
    "version": 3
   },
   "file_extension": ".py",
   "mimetype": "text/x-python",
   "name": "python",
   "nbconvert_exporter": "python",
   "pygments_lexer": "ipython3",
   "version": "3.9.12"
  },
  "vscode": {
   "interpreter": {
    "hash": "02379600d2c1f831ab2aaa73197210a962cfb04f271ff099e74c1844ff770bad"
   }
  }
 },
 "nbformat": 4,
 "nbformat_minor": 5
}
