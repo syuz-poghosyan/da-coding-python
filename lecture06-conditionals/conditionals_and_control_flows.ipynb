{
 "cells": [
  {
   "cell_type": "markdown",
   "id": "6bd65ab7-b72f-46b2-b0f1-c66d477e93a0",
   "metadata": {},
   "source": [
    "# Lecture 6\n",
    "\n",
    "## Conditional statements\n",
    "- the [if statement](#conditionals)\n",
    "\n",
    "## Control Flows\n",
    "- the [for loop](#for)\n",
    "- the [while loop](#while)\n",
    "- using for loops for [list comprehension](#comprehension)\n",
    "---"
   ]
  },
  {
   "cell_type": "markdown",
   "id": "386d4659-98e0-4764-b66c-145d57e04bc6",
   "metadata": {},
   "source": [
    "## Conditional Statements <a class=\"anchor\" id=\"conditionals\"></a>"
   ]
  },
  {
   "cell_type": "markdown",
   "id": "0a62d10e-f954-4283-b2f7-be6ededd84dd",
   "metadata": {},
   "source": [
    "Conditional statments is the `if`-`else` structure. The program performs an operation (or more) if certain conditions are met, and - optionally - performs some other if those conditions are not fulfilled."
   ]
  },
  {
   "cell_type": "code",
   "execution_count": 1,
   "id": "1c6be79a-9e10-4cec-b14b-7b583090c826",
   "metadata": {},
   "outputs": [],
   "source": [
    "import random"
   ]
  },
  {
   "cell_type": "markdown",
   "id": "c61ec38f-229b-4411-8e13-b972af8fa3dc",
   "metadata": {},
   "source": [
    "Condtional statements are controlled by ***indentation***. Each new embedded condition needs to be shifted one tab right. (Other languages, like Java or JavaScript, use curly braces.)"
   ]
  },
  {
   "cell_type": "code",
   "execution_count": 2,
   "id": "5ba3b5fd-acee-4e54-9512-038c8df28a05",
   "metadata": {},
   "outputs": [
    {
     "name": "stdout",
     "output_type": "stream",
     "text": [
      "32\n",
      "A large number!\n"
     ]
    }
   ],
   "source": [
    "r = random.randint(20,34)\n",
    "print(r)\n",
    "if r < 25:\n",
    "    print('A small number!')\n",
    "elif r < 30:\n",
    "    print('A moderately high number.')\n",
    "else:\n",
    "    print('A large number!')"
   ]
  },
  {
   "cell_type": "markdown",
   "id": "0653ae7a-a29a-49f7-889b-b182a31db17f",
   "metadata": {},
   "source": [
    "Conditional statements do not have to have an `else` branch. If the condition is not met the program can also stay idle. "
   ]
  },
  {
   "cell_type": "code",
   "execution_count": 8,
   "id": "2e27f14d-1e50-45b9-ba48-d1112e4d0997",
   "metadata": {},
   "outputs": [
    {
     "name": "stdout",
     "output_type": "stream",
     "text": [
      "a: 12\n",
      "b: 12\n",
      "'a' is large\n"
     ]
    }
   ],
   "source": [
    "a = random.randint(1,12)\n",
    "b = random.randint(1,16)\n",
    "\n",
    "print('a:', a)\n",
    "print('b:', b)\n",
    "\n",
    "if a > 6:\n",
    "    print(\"'a' is large\")\n",
    "    if b > a:\n",
    "        print('Both numbers are large.')\n",
    "        print('Result: b is larger than a.')"
   ]
  },
  {
   "cell_type": "markdown",
   "id": "a14665d2-279f-43a6-8133-9e10c9c30e0e",
   "metadata": {},
   "source": [
    "## Control Flows"
   ]
  },
  {
   "cell_type": "markdown",
   "id": "0255d90b-a436-4823-b370-649226a85aa9",
   "metadata": {},
   "source": [
    "### The _'for'_ Loop <a class=\"anchor\" id=\"for\"></a>"
   ]
  },
  {
   "cell_type": "code",
   "execution_count": 9,
   "id": "f0018cea-cd2a-4add-a308-891592cd7769",
   "metadata": {},
   "outputs": [
    {
     "name": "stdout",
     "output_type": "stream",
     "text": [
      "Number 0 is even.\n",
      "Number 1 is odd.\n",
      "Number 2 is even.\n",
      "Number 3 is odd.\n",
      "Number 4 is even.\n",
      "Number 5 is odd.\n",
      "Number 6 is even.\n",
      "Number 7 is odd.\n",
      "Number 8 is even.\n",
      "Number 9 is odd.\n",
      "Number 10 is even.\n",
      "Number 11 is odd.\n",
      "Number 12 is even.\n",
      "Number 13 is odd.\n",
      "Number 14 is even.\n",
      "Number 15 is odd.\n",
      "Number 16 is even.\n",
      "Number 17 is odd.\n",
      "Number 18 is even.\n",
      "Number 19 is odd.\n"
     ]
    }
   ],
   "source": [
    "for i in range(20): # Remember: 20 is not included in the range! \n",
    "    if i%2 == 0: # The 'modulo' operator returns the integer part left after an integer division.\n",
    "        print('Number %d is even.'% i)\n",
    "    else:\n",
    "        print('Number %d is odd.'% i)"
   ]
  },
  {
   "cell_type": "code",
   "execution_count": 10,
   "id": "e1ba7e8a-e47f-467c-8ab4-4496215e8b42",
   "metadata": {},
   "outputs": [
    {
     "name": "stdout",
     "output_type": "stream",
     "text": [
      "Business 8\n",
      "analytics 9\n",
      "with 4\n",
      "Python 6\n"
     ]
    }
   ],
   "source": [
    "for word in ['Business', 'analytics', 'with', 'Python']:\n",
    "    print(word, len(word)) # functions can also be print inputs"
   ]
  },
  {
   "cell_type": "code",
   "execution_count": 14,
   "id": "0834b4d6-7041-495d-9c14-83fd5c5b2cfc",
   "metadata": {},
   "outputs": [
    {
     "name": "stdout",
     "output_type": "stream",
     "text": [
      "['A']\n",
      "['A', 'B']\n",
      "['A', 'B', 'C']\n",
      "['A', 'B', 'C', 'D']\n",
      "['A', 'B', 'C', 'D', 'E']\n",
      "['A', 'B', 'C', 'D', 'E', 'F']\n",
      "['A', 'B', 'C', 'D', 'E', 'F', 'G']\n",
      "['A', 'B', 'C', 'D', 'E', 'F', 'G', 'H']\n",
      "['A', 'B', 'C', 'D', 'E', 'F', 'G', 'H', 'I']\n",
      "['A', 'B', 'C', 'D', 'E', 'F', 'G', 'H', 'I', 'J']\n",
      "['A', 'B', 'C', 'D', 'E', 'F', 'G', 'H', 'I', 'J', 'K']\n",
      "['A', 'B', 'C', 'D', 'E', 'F', 'G', 'H', 'I', 'J', 'K', 'L']\n",
      "['A', 'B', 'C', 'D', 'E', 'F', 'G', 'H', 'I', 'J', 'K', 'L', 'M']\n",
      "['A', 'B', 'C', 'D', 'E', 'F', 'G', 'H', 'I', 'J', 'K', 'L', 'M', 'N']\n",
      "['A', 'B', 'C', 'D', 'E', 'F', 'G', 'H', 'I', 'J', 'K', 'L', 'M', 'N', 'O']\n",
      "['A', 'B', 'C', 'D', 'E', 'F', 'G', 'H', 'I', 'J', 'K', 'L', 'M', 'N', 'O', 'P']\n",
      "['A', 'B', 'C', 'D', 'E', 'F', 'G', 'H', 'I', 'J', 'K', 'L', 'M', 'N', 'O', 'P', 'Q']\n",
      "['A', 'B', 'C', 'D', 'E', 'F', 'G', 'H', 'I', 'J', 'K', 'L', 'M', 'N', 'O', 'P', 'Q', 'R']\n",
      "['A', 'B', 'C', 'D', 'E', 'F', 'G', 'H', 'I', 'J', 'K', 'L', 'M', 'N', 'O', 'P', 'Q', 'R', 'S']\n",
      "['A', 'B', 'C', 'D', 'E', 'F', 'G', 'H', 'I', 'J', 'K', 'L', 'M', 'N', 'O', 'P', 'Q', 'R', 'S', 'T']\n",
      "['A', 'B', 'C', 'D', 'E', 'F', 'G', 'H', 'I', 'J', 'K', 'L', 'M', 'N', 'O', 'P', 'Q', 'R', 'S', 'T', 'U']\n",
      "['A', 'B', 'C', 'D', 'E', 'F', 'G', 'H', 'I', 'J', 'K', 'L', 'M', 'N', 'O', 'P', 'Q', 'R', 'S', 'T', 'U', 'V']\n",
      "['A', 'B', 'C', 'D', 'E', 'F', 'G', 'H', 'I', 'J', 'K', 'L', 'M', 'N', 'O', 'P', 'Q', 'R', 'S', 'T', 'U', 'V', 'W']\n",
      "['A', 'B', 'C', 'D', 'E', 'F', 'G', 'H', 'I', 'J', 'K', 'L', 'M', 'N', 'O', 'P', 'Q', 'R', 'S', 'T', 'U', 'V', 'W', 'X']\n",
      "['A', 'B', 'C', 'D', 'E', 'F', 'G', 'H', 'I', 'J', 'K', 'L', 'M', 'N', 'O', 'P', 'Q', 'R', 'S', 'T', 'U', 'V', 'W', 'X', 'Y']\n",
      "['A', 'B', 'C', 'D', 'E', 'F', 'G', 'H', 'I', 'J', 'K', 'L', 'M', 'N', 'O', 'P', 'Q', 'R', 'S', 'T', 'U', 'V', 'W', 'X', 'Y', 'Z']\n"
     ]
    }
   ],
   "source": [
    "list_capitals = []\n",
    "for i in range(65,91):\n",
    "    list_capitals.append(chr(i))\n",
    "    print(list_capitals)"
   ]
  },
  {
   "cell_type": "markdown",
   "id": "2114f1f2-7cf1-45f2-b66e-c8300953123f",
   "metadata": {},
   "source": [
    "The `enumerate` function helps you get a counter. "
   ]
  },
  {
   "cell_type": "code",
   "execution_count": 15,
   "id": "ee9d72f3-9656-4e3e-8189-e5285a675ec0",
   "metadata": {},
   "outputs": [
    {
     "name": "stdout",
     "output_type": "stream",
     "text": [
      "0 A\n",
      "1 B\n",
      "2 C\n",
      "3 D\n",
      "4 E\n",
      "5 F\n",
      "6 G\n",
      "7 H\n",
      "8 I\n",
      "9 J\n",
      "10 K\n",
      "11 L\n",
      "12 M\n",
      "13 N\n",
      "14 O\n",
      "15 P\n",
      "16 Q\n",
      "17 R\n",
      "18 S\n",
      "19 T\n",
      "20 U\n",
      "21 V\n",
      "22 W\n",
      "23 X\n",
      "24 Y\n",
      "25 Z\n"
     ]
    }
   ],
   "source": [
    "for k, v in enumerate(list_capitals):\n",
    "    print(k, v)"
   ]
  },
  {
   "cell_type": "markdown",
   "id": "4f01fb95-cf0b-462a-86b7-5b8aa63678b4",
   "metadata": {},
   "source": [
    "Add some simple formatting: right-adjust k, the counter. This is what the `.rjust()` function does. This, however, is a *string function*, so we need to *cast* our 'k' variable, which an integer, into string. For this we use the `str()` function."
   ]
  },
  {
   "cell_type": "code",
   "execution_count": 13,
   "id": "d54c539d-edd9-415a-8e17-a46edcc5ce67",
   "metadata": {},
   "outputs": [
    {
     "name": "stdout",
     "output_type": "stream",
     "text": [
      " 0:  A\n",
      " 1:  B\n",
      " 2:  C\n",
      " 3:  D\n",
      " 4:  E\n",
      " 5:  F\n",
      " 6:  G\n",
      " 7:  H\n",
      " 8:  I\n",
      " 9:  J\n",
      "10:  K\n",
      "11:  L\n",
      "12:  M\n",
      "13:  N\n",
      "14:  O\n",
      "15:  P\n",
      "16:  Q\n",
      "17:  R\n",
      "18:  S\n",
      "19:  T\n",
      "20:  U\n",
      "21:  V\n",
      "22:  W\n",
      "23:  X\n",
      "24:  Y\n",
      "25:  Z\n"
     ]
    }
   ],
   "source": [
    "for k, v in enumerate(list_capitals):\n",
    "    print(str(k).rjust(2)+': ', v)"
   ]
  },
  {
   "cell_type": "markdown",
   "id": "c61e2222-0ef3-419c-b4cb-bbdbd31e7db4",
   "metadata": {},
   "source": [
    "### The *'while'* Loop <a class=\"anchor\" id=\"while\"></a>"
   ]
  },
  {
   "cell_type": "code",
   "execution_count": 18,
   "id": "c9b5d1f0-b39c-48a5-bcb5-3b05cc74cc28",
   "metadata": {},
   "outputs": [
    {
     "name": "stdout",
     "output_type": "stream",
     "text": [
      "Number 0 is even.\n",
      "Number 1 is odd.\n",
      "Number 2 is even.\n",
      "Number 3 is odd.\n",
      "Number 4 is even.\n",
      "Number 5 is odd.\n",
      "Number 6 is even.\n",
      "Number 7 is odd.\n",
      "Number 8 is even.\n",
      "Number 9 is odd.\n",
      "Number 10 is even.\n",
      "Number 11 is odd.\n",
      "Number 12 is even.\n",
      "Number 13 is odd.\n",
      "Number 14 is even.\n",
      "Number 15 is odd.\n",
      "Number 16 is even.\n",
      "Number 17 is odd.\n",
      "Number 18 is even.\n",
      "Number 19 is odd.\n",
      "\n",
      "Done.\n"
     ]
    }
   ],
   "source": [
    "i = 0 # the counter\n",
    "while i < 20:\n",
    "    if i%2 == 0:\n",
    "        print('Number %d is even.'% i)\n",
    "    else:\n",
    "        print('Number %d is odd.'% i)\n",
    "    i += 1 # increment in Python (same as i++ in Java)\n",
    "print('\\nDone.') # Indented so that it will only print at the end."
   ]
  },
  {
   "cell_type": "markdown",
   "id": "e6de1e59-4666-4b8e-ae85-9f697f2ec97d",
   "metadata": {},
   "source": [
    "<font color = 'red'>**Caution!!!**</font> If you don't increment the counter, the loop will never stop!"
   ]
  },
  {
   "cell_type": "markdown",
   "id": "28d1f43c-fba5-4080-afd2-4c866eb7ed73",
   "metadata": {},
   "source": [
    "If you use '*True*' in the `while` condition the script runs until manual interruption. "
   ]
  },
  {
   "cell_type": "code",
   "execution_count": null,
   "id": "32ea677f-3873-407d-82e2-5048f7d146bb",
   "metadata": {},
   "outputs": [],
   "source": [
    "from IPython.display import clear_output\n",
    "import time\n",
    "\n",
    "i = 1\n",
    "while True: # This syntax makes it run forever, or untill manual interruption. \n",
    "    print(i)\n",
    "    i += 1\n",
    "    time.sleep(1)\n",
    "    clear_output()"
   ]
  },
  {
   "cell_type": "markdown",
   "id": "709db49c-ac70-4f7f-bf6a-316bdc74ca14",
   "metadata": {},
   "source": [
    "To interrupt the script in a code cell click in the cell and then click &#9632; (the black rectangle icon) on the notebook's menu bar. "
   ]
  },
  {
   "cell_type": "markdown",
   "id": "fb2e7251-a6ea-428e-b258-a16f550b42d3",
   "metadata": {},
   "source": [
    "### List Comprehension <a class=\"anchor\" id=\"comprehension\"></a>"
   ]
  },
  {
   "cell_type": "markdown",
   "id": "07617a0b-a3cd-4e98-9131-778999da6c47",
   "metadata": {},
   "source": [
    "List comprehension is a logical construct to create a list from another lists or from an iterable, or to modify an existing list *in place*. "
   ]
  },
  {
   "cell_type": "code",
   "execution_count": null,
   "id": "8eb7bcef-9b0a-42a6-971c-b36f4b030289",
   "metadata": {},
   "outputs": [],
   "source": [
    "L = [x**2 for x in range(0,10)]\n",
    "L"
   ]
  },
  {
   "cell_type": "markdown",
   "id": "cef71af7-5a4c-4306-bda2-3eeaade310a4",
   "metadata": {},
   "source": [
    "You can also combine it with conditional statements. For example:"
   ]
  },
  {
   "cell_type": "code",
   "execution_count": null,
   "id": "357b3dc6-f4e9-467d-a039-7b9754741d60",
   "metadata": {},
   "outputs": [],
   "source": [
    "[x for x in L if x%2 == 1]"
   ]
  },
  {
   "cell_type": "markdown",
   "id": "9c7b8eab-2b45-4347-8d52-fcb18c713fca",
   "metadata": {},
   "source": [
    "You can also use an ``if else`` statement"
   ]
  },
  {
   "cell_type": "code",
   "execution_count": null,
   "id": "b0db5a8f-fe3b-48c3-992a-039fe1bb1325",
   "metadata": {},
   "outputs": [],
   "source": [
    "['even' if x%2 == 0 else 'odd' for x in L]"
   ]
  },
  {
   "cell_type": "code",
   "execution_count": null,
   "id": "251e6732",
   "metadata": {},
   "outputs": [],
   "source": []
  }
 ],
 "metadata": {
  "kernelspec": {
   "display_name": "Python 3 (ipykernel)",
   "language": "python",
   "name": "python3"
  },
  "language_info": {
   "codemirror_mode": {
    "name": "ipython",
    "version": 3
   },
   "file_extension": ".py",
   "mimetype": "text/x-python",
   "name": "python",
   "nbconvert_exporter": "python",
   "pygments_lexer": "ipython3",
   "version": "3.9.12"
  }
 },
 "nbformat": 4,
 "nbformat_minor": 5
}
