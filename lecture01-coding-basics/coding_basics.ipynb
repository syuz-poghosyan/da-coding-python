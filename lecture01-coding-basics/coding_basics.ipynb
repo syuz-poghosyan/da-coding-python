{
 "cells": [
  {
   "cell_type": "markdown",
   "id": "0ef1d90a",
   "metadata": {},
   "source": [
    "## Coding 101\n",
    "\n",
    "Always keep in mind you write your code not only for the computer or for\n",
    "some specific goal, but for the future of yourself or for your colleges.\n",
    "Therefore it is highly advised to develop good coding habits that result\n",
    "in an easy-to-read code. Here are some tips to achieve that:\n",
    "\n",
    "### Name your variable properly\n",
    "\n",
    "Variable names in Python can contain alphanumerical characters \n",
    "`a-z`, `A-Z`, `0-9` and some special characters such as `_`. \n",
    "Normal variable names must start with a letter. \n",
    "\n",
    "\n",
    "Naming convention in programming broadly speaking has two big branches.\n",
    "One is utilizing capital letters, the other one the underscore. Both of\n",
    "them are good but try not to mix them. You are completely free to use\n",
    "any variable name, but always keep in mind the three requirements:\n",
    "\n",
    "\n",
    "1.  human-readable:\n",
    "\n",
    "-   good: `message_world` refers to a variable that includes a probably\n",
    "    string message.\n",
    "-   bad: `messageWorld` is not preferred (called camelCase). It is\n",
    "    rather an old school convention which is now rarely used. `m3st96k`\n",
    "    does not reveal much about the possible content\n",
    "\n",
    "2.  computer-readable:\n",
    "\n",
    "-   good: `messageWorld`\n",
    "-   bad: `message-to-world!` as it uses invalid characters. E.g. never\n",
    "    start with a number and avoid special characters such as\n",
    "    -,.!\\~=&^%$, etc.\n",
    "\n",
    "3.  (+1) try to avoid already defined *function names* or already\n",
    "    *existing variables*. We will see what are they and it is always\n",
    "    advised not to re-define variables. It is just a source of confusion\n",
    "    and will make debugging much harder. \n",
    "    There are a number of Python keywords **that cannot be used as variable names**. \n",
    "    These keywords are:\n",
    "\n",
    "   `and, as, assert, break, class, continue, def, del, elif, else, except, \n",
    "    exec, finally, for, from, global, if, import, in, is, lambda, not, or,\n",
    "    pass, print, raise, return, try, while, with, yield`\n",
    "\n",
    "\n",
    "### Commenting your script\n",
    "\n",
    "Commenting is always helpful, especially in the beginning. In Python (or R) you can\n",
    "use the `#` mark to tell Python it is not a command, but comment and do not\n",
    "run that part.\n",
    "\n",
    "Commenting has two purposes:\n",
    "\n",
    "1.  Tell future yourself or to college what the command in the next line\n",
    "    does (or intended to do…)\n",
    "2.  You have a command that is useful for some purpose (e.g. you develop\n",
    "    a code and are not sure which command to use as there are different\n",
    "    options), but you do not want to run it. Then you can uncomment that\n",
    "    line.\n",
    "\n",
    "Commenting and uncommenting a line or selection of lines has the hotkey\n",
    "of `cmd+shift+c` (mac) or `ctrl+shift+c` (windows).\n",
    "\n",
    "**Tip:** as you advance in programming you will use less commenting for\n",
    "the codes as you will start to be able to read the commands as it would\n",
    "be plain English, which is pretty cool. However, if you are working with\n",
    "others, always keep in mind that their level might be different. This\n",
    "course material will use extensive commenting to make sure that the\n",
    "material is learned even if in some cases it would be unnecessary.\n",
    "Finally, always make sure that the code does what it is said to be doing\n",
    "as it is really frustrating and leads to potential misunderstanding.\n",
    "\n",
    "### Spacing and formatting your code\n",
    "\n",
    "Finally, how you structure your code indeed matters a lot. Here is some\n",
    "guidance on how to format your code:\n",
    "\n",
    "1.  Use spacing as you learn Python. It will make your code much more\n",
    "    readable. E.g. as we will see functions use parenthesis `()`,\n",
    "    indexing brackets `[]`, conditionals and loops curly brackets `{}`.\n",
    "    It is a good practice to use a space after an input of a function,\n",
    "    index or element of a list that we will discuss later this lecture.\n",
    "2.  You can break your code into multiple lines. Use these line\n",
    "    breaks to make your code more easily readable.\n",
    "3.  In the future we will see many embedded commands, meaning you use a\n",
    "    command within a command. If it is rather complex use spacing and\n",
    "    line break together to make it easier to follow.\n",
    "4.  If you are using functions, conditionals, or loops it is advised to\n",
    "    increase the indent accordingly.\n",
    "\n",
    "**Note:** too much formatting will increase the chance of making a\n",
    "coding error and your commands will not run or even worse, it will run,\n",
    "but not as you wish. Try to keep a good balance!\n",
    "\n",
    "**Tip:** use a code formatter, eg. [black](https://black.readthedocs.io/en/stable/) which will do all above with a single click. Running these commands gets you black installed and activated on Jupyter Notebooks. To format code in a notebook, click on <i class=\"fa-legal fa\" > Black"
   ]
  },
  {
   "cell_type": "code",
   "execution_count": null,
   "id": "929c3ece",
   "metadata": {},
   "outputs": [],
   "source": [
    "!jupyter contrib nbextension install --user\n",
    "!jupyter nbextension install https://github.com/drillan/jupyter-black/archive/master.zip --user\n",
    "!jupyter nbextension enable jupyter-black-master/jupyter-black"
   ]
  },
  {
   "cell_type": "markdown",
   "id": "3a2db6b0",
   "metadata": {},
   "source": [
    "## Variables and types\n",
    "### Symbol names \n",
    "Variable names in Python can contain alphanumerical characters `a-z`, `A-Z`, `0-9` and some special characters such as `_`. Normal variable names must start with a letter. \n",
    "\n",
    "By convention, variable names start with a lower-case letter, and Class names start with a capital letter. \n",
    "\n",
    "In addition, there are a number of Python keywords **that cannot be used as variable names**. These keywords are:\n",
    "\n",
    "    and, as, assert, break, class, continue, def, del, elif, else, except, \n",
    "    exec, finally, for, from, global, if, import, in, is, lambda, not, or,\n",
    "    pass, print, raise, return, try, while, with, yield\n",
    "\n",
    "Note: Be aware of the keyword `lambda`, which could easily be a natural variable name in a scientific program. But being a keyword, it cannot be used as a variable name.\n",
    "### Assignment"
   ]
  },
  {
   "cell_type": "markdown",
   "id": "357dbff6",
   "metadata": {},
   "source": [
    "The assignment operator in Python is `=`. Python is a dynamically typed language, so we do not need to specify the type of a variable when we create one.\n",
    "\n",
    "Assigning a value to a new variable creates the variable:"
   ]
  },
  {
   "cell_type": "code",
   "execution_count": 3,
   "id": "9622ef12",
   "metadata": {},
   "outputs": [],
   "source": [
    "a = 3"
   ]
  },
  {
   "cell_type": "code",
   "execution_count": 4,
   "id": "c60d3e81",
   "metadata": {},
   "outputs": [
    {
     "data": {
      "text/plain": [
       "int"
      ]
     },
     "execution_count": 4,
     "metadata": {},
     "output_type": "execute_result"
    }
   ],
   "source": [
    "type(a)"
   ]
  },
  {
   "cell_type": "code",
   "execution_count": 5,
   "id": "838d6f1a",
   "metadata": {},
   "outputs": [],
   "source": [
    "b = 1.2"
   ]
  },
  {
   "cell_type": "code",
   "execution_count": 6,
   "id": "caee3a71",
   "metadata": {},
   "outputs": [
    {
     "data": {
      "text/plain": [
       "float"
      ]
     },
     "execution_count": 6,
     "metadata": {},
     "output_type": "execute_result"
    }
   ],
   "source": [
    "type(b)"
   ]
  },
  {
   "cell_type": "code",
   "execution_count": 7,
   "id": "4ca27f42",
   "metadata": {},
   "outputs": [],
   "source": [
    "c = 'a'"
   ]
  },
  {
   "cell_type": "code",
   "execution_count": 8,
   "id": "6bb0176a",
   "metadata": {},
   "outputs": [
    {
     "data": {
      "text/plain": [
       "str"
      ]
     },
     "execution_count": 8,
     "metadata": {},
     "output_type": "execute_result"
    }
   ],
   "source": [
    "type(c)"
   ]
  },
  {
   "cell_type": "code",
   "execution_count": 9,
   "id": "cd31076d",
   "metadata": {},
   "outputs": [],
   "source": [
    "d = 'abc'"
   ]
  },
  {
   "cell_type": "code",
   "execution_count": 10,
   "id": "54886885",
   "metadata": {},
   "outputs": [
    {
     "data": {
      "text/plain": [
       "str"
      ]
     },
     "execution_count": 10,
     "metadata": {},
     "output_type": "execute_result"
    }
   ],
   "source": [
    "type(d)"
   ]
  },
  {
   "cell_type": "markdown",
   "id": "4b03de2b",
   "metadata": {},
   "source": [
    "Variables can easily be casted into other types."
   ]
  },
  {
   "cell_type": "code",
   "execution_count": 15,
   "id": "5cbf0a16",
   "metadata": {},
   "outputs": [
    {
     "data": {
      "text/plain": [
       "1.3"
      ]
     },
     "execution_count": 15,
     "metadata": {},
     "output_type": "execute_result"
    }
   ],
   "source": [
    "float(a)"
   ]
  },
  {
   "cell_type": "code",
   "execution_count": 12,
   "id": "7c904d8e",
   "metadata": {},
   "outputs": [
    {
     "data": {
      "text/plain": [
       "'3'"
      ]
     },
     "execution_count": 12,
     "metadata": {},
     "output_type": "execute_result"
    }
   ],
   "source": [
    "str(a)"
   ]
  },
  {
   "cell_type": "code",
   "execution_count": 13,
   "id": "52011a5e",
   "metadata": {},
   "outputs": [
    {
     "data": {
      "text/plain": [
       "1"
      ]
     },
     "execution_count": 13,
     "metadata": {},
     "output_type": "execute_result"
    }
   ],
   "source": [
    "int(b)"
   ]
  },
  {
   "cell_type": "markdown",
   "id": "8dc85b8a",
   "metadata": {},
   "source": [
    "When reassigned with a new value, its type can change. "
   ]
  },
  {
   "cell_type": "code",
   "execution_count": 14,
   "id": "ea26bd20",
   "metadata": {},
   "outputs": [
    {
     "data": {
      "text/plain": [
       "float"
      ]
     },
     "execution_count": 14,
     "metadata": {},
     "output_type": "execute_result"
    }
   ],
   "source": [
    "a = 1.3\n",
    "type(a)"
   ]
  },
  {
   "cell_type": "markdown",
   "id": "812f0bef",
   "metadata": {},
   "source": [
    "All characters have a respective number by which they are referred to. "
   ]
  },
  {
   "cell_type": "code",
   "execution_count": 16,
   "id": "613a450d",
   "metadata": {},
   "outputs": [
    {
     "data": {
      "text/plain": [
       "'<'"
      ]
     },
     "execution_count": 16,
     "metadata": {},
     "output_type": "execute_result"
    }
   ],
   "source": [
    "chr(60)"
   ]
  },
  {
   "cell_type": "markdown",
   "id": "963a890e",
   "metadata": {},
   "source": [
    "### Fundamental types"
   ]
  },
  {
   "cell_type": "code",
   "execution_count": 17,
   "id": "6219d656",
   "metadata": {},
   "outputs": [
    {
     "data": {
      "text/plain": [
       "int"
      ]
     },
     "execution_count": 17,
     "metadata": {},
     "output_type": "execute_result"
    }
   ],
   "source": [
    "# integers\n",
    "x = 1\n",
    "type(x)"
   ]
  },
  {
   "cell_type": "code",
   "execution_count": 18,
   "id": "b16d1269",
   "metadata": {},
   "outputs": [
    {
     "data": {
      "text/plain": [
       "float"
      ]
     },
     "execution_count": 18,
     "metadata": {},
     "output_type": "execute_result"
    }
   ],
   "source": [
    "# float\n",
    "x = 1.0\n",
    "type(x)"
   ]
  },
  {
   "cell_type": "code",
   "execution_count": 19,
   "id": "3f9ffa3e",
   "metadata": {},
   "outputs": [
    {
     "data": {
      "text/plain": [
       "bool"
      ]
     },
     "execution_count": 19,
     "metadata": {},
     "output_type": "execute_result"
    }
   ],
   "source": [
    "# boolean\n",
    "b1 = True\n",
    "b2 = False\n",
    "\n",
    "type(b1)"
   ]
  },
  {
   "cell_type": "code",
   "execution_count": 20,
   "id": "efcf29f5",
   "metadata": {},
   "outputs": [
    {
     "data": {
      "text/plain": [
       "complex"
      ]
     },
     "execution_count": 20,
     "metadata": {},
     "output_type": "execute_result"
    }
   ],
   "source": [
    "# complex numbers: note the use of `j` to specify the imaginary part\n",
    "x = 1.0 - 1.0j\n",
    "type(x)"
   ]
  },
  {
   "cell_type": "code",
   "execution_count": 21,
   "id": "192a0723",
   "metadata": {},
   "outputs": [
    {
     "name": "stdout",
     "output_type": "stream",
     "text": [
      "(1-1j)\n"
     ]
    }
   ],
   "source": [
    "print(x)"
   ]
  },
  {
   "cell_type": "code",
   "execution_count": 22,
   "id": "5838a14b",
   "metadata": {},
   "outputs": [
    {
     "name": "stdout",
     "output_type": "stream",
     "text": [
      "1.0 -1.0\n"
     ]
    }
   ],
   "source": [
    "print(x.real, x.imag)"
   ]
  },
  {
   "cell_type": "markdown",
   "id": "5f85527b",
   "metadata": {},
   "source": [
    "### Operators"
   ]
  },
  {
   "cell_type": "markdown",
   "id": "e6d47707",
   "metadata": {},
   "source": [
    "Arithmetic"
   ]
  },
  {
   "cell_type": "code",
   "execution_count": 23,
   "id": "8923fb4e",
   "metadata": {},
   "outputs": [
    {
     "data": {
      "text/plain": [
       "(3, -1, 2, 0.5)"
      ]
     },
     "execution_count": 23,
     "metadata": {},
     "output_type": "execute_result"
    }
   ],
   "source": [
    "1 + 2, 1 - 2, 1 * 2, 1 / 2"
   ]
  },
  {
   "cell_type": "markdown",
   "id": "742578de",
   "metadata": {},
   "source": [
    "Integer division of float numbers"
   ]
  },
  {
   "cell_type": "code",
   "execution_count": 24,
   "id": "52daa16d",
   "metadata": {},
   "outputs": [
    {
     "data": {
      "text/plain": [
       "1.0"
      ]
     },
     "execution_count": 24,
     "metadata": {},
     "output_type": "execute_result"
    }
   ],
   "source": [
    "3.0 // 2.0"
   ]
  },
  {
   "cell_type": "markdown",
   "id": "ce06f07a",
   "metadata": {},
   "source": [
    "Power is ** not ^"
   ]
  },
  {
   "cell_type": "code",
   "execution_count": 25,
   "id": "f21694d6",
   "metadata": {},
   "outputs": [
    {
     "data": {
      "text/plain": [
       "8"
      ]
     },
     "execution_count": 25,
     "metadata": {},
     "output_type": "execute_result"
    }
   ],
   "source": [
    "2**3"
   ]
  },
  {
   "cell_type": "markdown",
   "id": "c96487b2",
   "metadata": {},
   "source": [
    "/ always results in floats"
   ]
  },
  {
   "cell_type": "code",
   "execution_count": 26,
   "id": "78aa7e97",
   "metadata": {},
   "outputs": [
    {
     "data": {
      "text/plain": [
       "2.0"
      ]
     },
     "execution_count": 26,
     "metadata": {},
     "output_type": "execute_result"
    }
   ],
   "source": [
    "2 / 1"
   ]
  },
  {
   "cell_type": "markdown",
   "id": "0592200a",
   "metadata": {},
   "source": [
    "if you need intergers use integer division instead"
   ]
  },
  {
   "cell_type": "code",
   "execution_count": 27,
   "id": "b08aaff4",
   "metadata": {},
   "outputs": [
    {
     "data": {
      "text/plain": [
       "2"
      ]
     },
     "execution_count": 27,
     "metadata": {},
     "output_type": "execute_result"
    }
   ],
   "source": [
    "2 // 1"
   ]
  },
  {
   "cell_type": "markdown",
   "id": "6b98ed3d",
   "metadata": {},
   "source": [
    " Modulo"
   ]
  },
  {
   "cell_type": "code",
   "execution_count": 28,
   "id": "53c56380",
   "metadata": {},
   "outputs": [
    {
     "data": {
      "text/plain": [
       "1"
      ]
     },
     "execution_count": 28,
     "metadata": {},
     "output_type": "execute_result"
    }
   ],
   "source": [
    "7%3"
   ]
  },
  {
   "cell_type": "markdown",
   "id": "a4cfe0ed",
   "metadata": {},
   "source": [
    "boolean"
   ]
  },
  {
   "cell_type": "code",
   "execution_count": 29,
   "id": "01818551",
   "metadata": {},
   "outputs": [
    {
     "data": {
      "text/plain": [
       "False"
      ]
     },
     "execution_count": 29,
     "metadata": {},
     "output_type": "execute_result"
    }
   ],
   "source": [
    "True and False"
   ]
  },
  {
   "cell_type": "code",
   "execution_count": 30,
   "id": "796315d9",
   "metadata": {},
   "outputs": [
    {
     "data": {
      "text/plain": [
       "True"
      ]
     },
     "execution_count": 30,
     "metadata": {},
     "output_type": "execute_result"
    }
   ],
   "source": [
    "not False"
   ]
  },
  {
   "cell_type": "code",
   "execution_count": 31,
   "id": "634be05b",
   "metadata": {},
   "outputs": [
    {
     "data": {
      "text/plain": [
       "True"
      ]
     },
     "execution_count": 31,
     "metadata": {},
     "output_type": "execute_result"
    }
   ],
   "source": [
    "True or False"
   ]
  },
  {
   "cell_type": "markdown",
   "id": "41fc2d92",
   "metadata": {},
   "source": [
    "comparison"
   ]
  },
  {
   "cell_type": "code",
   "execution_count": 32,
   "id": "edbc2e7d",
   "metadata": {},
   "outputs": [],
   "source": [
    "a = 2\n",
    "b = 3\n",
    "c = 3"
   ]
  },
  {
   "cell_type": "code",
   "execution_count": 33,
   "id": "57b75547",
   "metadata": {},
   "outputs": [
    {
     "data": {
      "text/plain": [
       "False"
      ]
     },
     "execution_count": 33,
     "metadata": {},
     "output_type": "execute_result"
    }
   ],
   "source": [
    "a > b"
   ]
  },
  {
   "cell_type": "code",
   "execution_count": 34,
   "id": "6514733b",
   "metadata": {},
   "outputs": [
    {
     "data": {
      "text/plain": [
       "True"
      ]
     },
     "execution_count": 34,
     "metadata": {},
     "output_type": "execute_result"
    }
   ],
   "source": [
    "b == c"
   ]
  },
  {
   "cell_type": "code",
   "execution_count": 35,
   "id": "e4efbe17",
   "metadata": {},
   "outputs": [
    {
     "data": {
      "text/plain": [
       "True"
      ]
     },
     "execution_count": 35,
     "metadata": {},
     "output_type": "execute_result"
    }
   ],
   "source": [
    "b is c"
   ]
  },
  {
   "cell_type": "code",
   "execution_count": 36,
   "id": "856e62c1",
   "metadata": {},
   "outputs": [
    {
     "data": {
      "text/plain": [
       "True"
      ]
     },
     "execution_count": 36,
     "metadata": {},
     "output_type": "execute_result"
    }
   ],
   "source": [
    "True == 1"
   ]
  },
  {
   "cell_type": "code",
   "execution_count": 37,
   "id": "85839720",
   "metadata": {},
   "outputs": [
    {
     "data": {
      "text/plain": [
       "False"
      ]
     },
     "execution_count": 37,
     "metadata": {},
     "output_type": "execute_result"
    }
   ],
   "source": [
    "True == 0"
   ]
  },
  {
   "cell_type": "markdown",
   "id": "ea739089",
   "metadata": {},
   "source": [
    "### Strings\n",
    "\n",
    "**Intro**"
   ]
  },
  {
   "cell_type": "code",
   "execution_count": 38,
   "id": "92200fd5",
   "metadata": {},
   "outputs": [],
   "source": [
    "s = 'Hello Monty!'"
   ]
  },
  {
   "cell_type": "code",
   "execution_count": 39,
   "id": "a6cc1317",
   "metadata": {
    "scrolled": true
   },
   "outputs": [
    {
     "data": {
      "text/plain": [
       "'Hello Monty!'"
      ]
     },
     "execution_count": 39,
     "metadata": {},
     "output_type": "execute_result"
    }
   ],
   "source": [
    "s"
   ]
  },
  {
   "cell_type": "code",
   "execution_count": 40,
   "id": "24972abe",
   "metadata": {},
   "outputs": [
    {
     "name": "stdout",
     "output_type": "stream",
     "text": [
      "Hello Monty!\n"
     ]
    }
   ],
   "source": [
    "print(s)"
   ]
  },
  {
   "cell_type": "markdown",
   "id": "bdb242a0",
   "metadata": {},
   "source": [
    "Double quotes work as well. However, they are still not treated the same. (See later.)"
   ]
  },
  {
   "cell_type": "code",
   "execution_count": 41,
   "id": "362095db",
   "metadata": {},
   "outputs": [
    {
     "data": {
      "text/plain": [
       "'Hello Monthy!'"
      ]
     },
     "execution_count": 41,
     "metadata": {},
     "output_type": "execute_result"
    }
   ],
   "source": [
    "s2 = \"Hello Monthy!\"\n",
    "s2"
   ]
  },
  {
   "cell_type": "code",
   "execution_count": 42,
   "id": "f4c01c6f",
   "metadata": {},
   "outputs": [
    {
     "data": {
      "text/plain": [
       "12"
      ]
     },
     "execution_count": 42,
     "metadata": {},
     "output_type": "execute_result"
    }
   ],
   "source": [
    "len(s) # get length"
   ]
  },
  {
   "cell_type": "code",
   "execution_count": 43,
   "id": "cef96da9",
   "metadata": {},
   "outputs": [
    {
     "name": "stdout",
     "output_type": "stream",
     "text": [
      "Hello Python!\n"
     ]
    }
   ],
   "source": [
    "print(s.replace('Monty', 'Python'))"
   ]
  },
  {
   "cell_type": "markdown",
   "id": "fe9c7a18",
   "metadata": {},
   "source": [
    "*Indexing* starts at 0 in Python. "
   ]
  },
  {
   "cell_type": "code",
   "execution_count": 44,
   "id": "74606e4c",
   "metadata": {},
   "outputs": [
    {
     "data": {
      "text/plain": [
       "'Hello'"
      ]
     },
     "execution_count": 44,
     "metadata": {},
     "output_type": "execute_result"
    }
   ],
   "source": [
    "s[0:5]"
   ]
  },
  {
   "cell_type": "code",
   "execution_count": 45,
   "id": "f1a24a7a",
   "metadata": {},
   "outputs": [
    {
     "data": {
      "text/plain": [
       "'Monty!'"
      ]
     },
     "execution_count": 45,
     "metadata": {},
     "output_type": "execute_result"
    }
   ],
   "source": [
    "s[-6:]"
   ]
  },
  {
   "cell_type": "code",
   "execution_count": 46,
   "id": "efd9125e",
   "metadata": {},
   "outputs": [
    {
     "data": {
      "text/plain": [
       "'el o'"
      ]
     },
     "execution_count": 46,
     "metadata": {},
     "output_type": "execute_result"
    }
   ],
   "source": [
    "s[1:9:2] # start, stop, step"
   ]
  },
  {
   "cell_type": "code",
   "execution_count": 47,
   "id": "5b040873",
   "metadata": {},
   "outputs": [
    {
     "data": {
      "text/plain": [
       "'HloMny'"
      ]
     },
     "execution_count": 47,
     "metadata": {},
     "output_type": "execute_result"
    }
   ],
   "source": [
    "s[::2] # start and stop are missing so we are stepping along the whole string"
   ]
  },
  {
   "cell_type": "markdown",
   "id": "22d223de",
   "metadata": {},
   "source": [
    "**Manipulate and print**"
   ]
  },
  {
   "cell_type": "code",
   "execution_count": 48,
   "id": "ec3a8e67",
   "metadata": {},
   "outputs": [],
   "source": [
    "s = 'Hello Monty Python!'"
   ]
  },
  {
   "cell_type": "markdown",
   "id": "133fc2c9",
   "metadata": {},
   "source": [
    "split() splits the text to a complex variable called *list*. "
   ]
  },
  {
   "cell_type": "code",
   "execution_count": 49,
   "id": "e2f71314",
   "metadata": {},
   "outputs": [
    {
     "data": {
      "text/plain": [
       "['Hello', 'Monty', 'Python!']"
      ]
     },
     "execution_count": 49,
     "metadata": {},
     "output_type": "execute_result"
    }
   ],
   "source": [
    "s.split(' ')"
   ]
  },
  {
   "cell_type": "code",
   "execution_count": 50,
   "id": "55ea664f",
   "metadata": {},
   "outputs": [
    {
     "data": {
      "text/plain": [
       "'Monty'"
      ]
     },
     "execution_count": 50,
     "metadata": {},
     "output_type": "execute_result"
    }
   ],
   "source": [
    "s.split(' ')[1]"
   ]
  },
  {
   "cell_type": "markdown",
   "id": "e69cd82d",
   "metadata": {},
   "source": [
    "Functions can directly be applied to the text itself. "
   ]
  },
  {
   "cell_type": "code",
   "execution_count": 51,
   "id": "52b9e464",
   "metadata": {},
   "outputs": [
    {
     "data": {
      "text/plain": [
       "'Monty'"
      ]
     },
     "execution_count": 51,
     "metadata": {},
     "output_type": "execute_result"
    }
   ],
   "source": [
    "'Hello Monty Python!'.split(' ')[1]"
   ]
  },
  {
   "cell_type": "markdown",
   "id": "7e31a5c2",
   "metadata": {},
   "source": [
    "Combine \" and ' to print quotation marks. "
   ]
  },
  {
   "cell_type": "code",
   "execution_count": 52,
   "id": "98f52265",
   "metadata": {},
   "outputs": [
    {
     "name": "stdout",
     "output_type": "stream",
     "text": [
      "Hello Monty 'Holy Grail' Python!\n"
     ]
    }
   ],
   "source": [
    "s = \"Hello Monty 'Holy Grail' Python!\"\n",
    "print(s)"
   ]
  },
  {
   "cell_type": "markdown",
   "id": "e8baa4af",
   "metadata": {},
   "source": [
    "Special characters: \\n, \\t and alike. "
   ]
  },
  {
   "cell_type": "code",
   "execution_count": 53,
   "id": "60985fc5",
   "metadata": {},
   "outputs": [
    {
     "name": "stdout",
     "output_type": "stream",
     "text": [
      "Hello \n",
      " Monthy!\n"
     ]
    }
   ],
   "source": [
    "s = 'Hello \\n Monthy!'\n",
    "print(s)"
   ]
  },
  {
   "cell_type": "markdown",
   "id": "ec281d9c",
   "metadata": {},
   "source": [
    "Use another backslash (\\\\) to escape the escape character."
   ]
  },
  {
   "cell_type": "code",
   "execution_count": 54,
   "id": "4d4b302d",
   "metadata": {},
   "outputs": [
    {
     "name": "stdout",
     "output_type": "stream",
     "text": [
      "Hello \\n Monthy!\n"
     ]
    }
   ],
   "source": [
    "s = 'Hello \\\\n Monthy!'\n",
    "print(s)"
   ]
  },
  {
   "cell_type": "markdown",
   "id": "8fa329fc",
   "metadata": {},
   "source": [
    "Start strings with the letter <font color= 'magenta'>**r**</font> to define *raw strings*. Raw strings are printed and interpreted as they are. "
   ]
  },
  {
   "cell_type": "code",
   "execution_count": 55,
   "id": "13787fb1",
   "metadata": {},
   "outputs": [
    {
     "name": "stdout",
     "output_type": "stream",
     "text": [
      "Hello \t Monthy!\n",
      "Hello \\t Monthy!\n"
     ]
    }
   ],
   "source": [
    "print('Hello \\t Monthy!') # plain\n",
    "print(r'Hello \\t Monthy!') # raw"
   ]
  },
  {
   "cell_type": "markdown",
   "id": "e99fa8b7",
   "metadata": {},
   "source": [
    "Raw strings are espcially useful when defining Windows paths. (Not an issue in Linux & Mac.)"
   ]
  },
  {
   "cell_type": "code",
   "execution_count": null,
   "id": "47504938",
   "metadata": {},
   "outputs": [],
   "source": [
    "print('C:\\Users')"
   ]
  },
  {
   "cell_type": "code",
   "execution_count": null,
   "id": "30ba75cb",
   "metadata": {},
   "outputs": [],
   "source": [
    "print(r'C:\\Users')"
   ]
  },
  {
   "cell_type": "markdown",
   "id": "d63d5d9f",
   "metadata": {},
   "source": [
    "\"\\\\\" is the *escape character* that's why it creates a mess in strings. You can also escpate the escape character with an escape character."
   ]
  },
  {
   "cell_type": "code",
   "execution_count": null,
   "id": "9c5afbdf",
   "metadata": {},
   "outputs": [],
   "source": [
    "print('C:\\\\Users') # Not an optimal solution in case of long paths. "
   ]
  },
  {
   "cell_type": "markdown",
   "id": "4ba14b61",
   "metadata": {},
   "source": [
    "Concatenating"
   ]
  },
  {
   "cell_type": "code",
   "execution_count": 57,
   "id": "976b47f0",
   "metadata": {},
   "outputs": [
    {
     "data": {
      "text/plain": [
       "'MonthyPython'"
      ]
     },
     "execution_count": 57,
     "metadata": {},
     "output_type": "execute_result"
    }
   ],
   "source": [
    "'Monthy' + 'Python'"
   ]
  },
  {
   "cell_type": "code",
   "execution_count": 58,
   "id": "78281803",
   "metadata": {},
   "outputs": [
    {
     "data": {
      "text/plain": [
       "'MonthyPython'"
      ]
     },
     "execution_count": 58,
     "metadata": {},
     "output_type": "execute_result"
    }
   ],
   "source": [
    "''.join(['Monthy', 'Python'])"
   ]
  },
  {
   "cell_type": "code",
   "execution_count": 59,
   "id": "63216107",
   "metadata": {},
   "outputs": [
    {
     "data": {
      "text/plain": [
       "'Monthy Python'"
      ]
     },
     "execution_count": 59,
     "metadata": {},
     "output_type": "execute_result"
    }
   ],
   "source": [
    "' '.join(['Monthy', 'Python']) # Note the space between the parenthesis. "
   ]
  },
  {
   "cell_type": "markdown",
   "id": "765d0628",
   "metadata": {},
   "source": [
    "**Some more tweaking and formatting**"
   ]
  },
  {
   "cell_type": "markdown",
   "id": "86c5b827",
   "metadata": {},
   "source": [
    "Use special characters to include variables in text.\n",
    "- %s: strings\n",
    "- %f: floats\n",
    "- %d: integers"
   ]
  },
  {
   "cell_type": "code",
   "execution_count": 60,
   "id": "d4dc1dca",
   "metadata": {},
   "outputs": [
    {
     "name": "stdout",
     "output_type": "stream",
     "text": [
      "Hello, I am Jenny, I have been working for here for 2.500000 years and this is Python Class 1.\n"
     ]
    }
   ],
   "source": [
    "print('Hello, I am %s, I have been working for here for %f years and this is Python Class %d.'% ('Jenny', 2.5, 1))"
   ]
  },
  {
   "cell_type": "code",
   "execution_count": 61,
   "id": "0006ff3e",
   "metadata": {},
   "outputs": [
    {
     "name": "stdout",
     "output_type": "stream",
     "text": [
      "Hello, I am Jenny, I have been working here for 2.5 years and this is Python Class 1.\n",
      "Hello, I am Jenny, I have been working here for 2 years and this is Python Class 1.\n"
     ]
    }
   ],
   "source": [
    "# What if we replace %f with %s or %d?\n",
    "print('Hello, I am %s, I have been working here for %s years and this is Python Class %d.'% ('Jenny', 2.5, 1))\n",
    "print('Hello, I am %s, I have been working here for %d years and this is Python Class %d.'% ('Jenny', 2.5, 1))"
   ]
  },
  {
   "cell_type": "markdown",
   "id": "c2424db9",
   "metadata": {},
   "source": [
    "We can even format the numbers."
   ]
  },
  {
   "cell_type": "code",
   "execution_count": 62,
   "id": "ac745f90",
   "metadata": {},
   "outputs": [
    {
     "name": "stdout",
     "output_type": "stream",
     "text": [
      "Hello, I am Jenny, I have been working here for 2.50 years and this is Python Class 1.\n"
     ]
    }
   ],
   "source": [
    "print('Hello, I am %s, I have been working here for %.2f years and this is Python Class %d.'% ('Jenny', 2.5, 1))"
   ]
  },
  {
   "cell_type": "markdown",
   "id": "3ff2e6c3",
   "metadata": {},
   "source": [
    "The other way is use *f-strings*."
   ]
  },
  {
   "cell_type": "code",
   "execution_count": 63,
   "id": "6d181105",
   "metadata": {},
   "outputs": [
    {
     "name": "stdout",
     "output_type": "stream",
     "text": [
      "Hello, I am Jenny and this is Python class 1.\n"
     ]
    }
   ],
   "source": [
    "name = 'Jenny'\n",
    "classnumber = 1\n",
    "print(f'Hello, I am {name} and this is Python class {classnumber}.')"
   ]
  },
  {
   "cell_type": "markdown",
   "id": "d948346b",
   "metadata": {},
   "source": [
    "Use *f-strings* in your scripts to write queries."
   ]
  },
  {
   "cell_type": "code",
   "execution_count": null,
   "id": "bf293380",
   "metadata": {},
   "outputs": [],
   "source": [
    "database = 'SALES'\n",
    "table = 'WEBSHOP_SALES'\n",
    "month = '8'\n",
    "day = 20 # both strings and integers will work\n",
    "\n",
    "query = f\"\"\"\n",
    "SELECT *\n",
    "FROM {database}.{table}\n",
    "WHERE month = {month}\n",
    "AND day = {day}\n",
    "\"\"\"\n",
    "\n",
    "print(query)"
   ]
  },
  {
   "cell_type": "code",
   "execution_count": null,
   "id": "8ac8ed51",
   "metadata": {},
   "outputs": [],
   "source": [
    "database = 'SALES'\n",
    "table = 'WEBSHOP_SALES'\n",
    "month = 'April' # this will lead a query to error! \n",
    "day = 20 # both strings and integers will work\n",
    "\n",
    "query = f\"\"\"\n",
    "SELECT *\n",
    "FROM {database}.{table}\n",
    "WHERE month = {month}\n",
    "AND day = {day}\n",
    "\"\"\"\n",
    "\n",
    "print(query)"
   ]
  },
  {
   "cell_type": "code",
   "execution_count": null,
   "id": "f66143bb",
   "metadata": {},
   "outputs": [],
   "source": [
    "database = 'SALES'\n",
    "table = 'WEBSHOP_SALES'\n",
    "month = 'April'\n",
    "day = 20 # both strings and integers will work\n",
    "\n",
    "query = f\"\"\"\n",
    "SELECT *\n",
    "FROM {database}.{table}\n",
    "WHERE month = '{month}'\n",
    "AND day = {day}\n",
    "\"\"\"\n",
    "\n",
    "print(query)"
   ]
  },
  {
   "cell_type": "markdown",
   "id": "c2f8e464",
   "metadata": {},
   "source": [
    "And of course there are even more ways to format text."
   ]
  },
  {
   "cell_type": "code",
   "execution_count": null,
   "id": "6af0af71",
   "metadata": {},
   "outputs": [],
   "source": [
    "print('{} divided by {} is {}.'.format(2000,1500,2000/1500))"
   ]
  },
  {
   "cell_type": "markdown",
   "id": "faaf595d",
   "metadata": {},
   "source": [
    "Some fancier formatting. "
   ]
  },
  {
   "cell_type": "code",
   "execution_count": null,
   "id": "def9f655",
   "metadata": {},
   "outputs": [],
   "source": [
    "print('{:,d} divided by {:,.0f} is {:.2f}.'.format(2000,1500,2000/1500))"
   ]
  },
  {
   "cell_type": "code",
   "execution_count": null,
   "id": "c63a6104",
   "metadata": {},
   "outputs": [],
   "source": [
    "print('{:8.2f}'.format(10/3))\n",
    "print('{:8.2f}'.format(100/3))\n",
    "print('{:8.2f}'.format(1000/3))\n",
    "print('{:8.2f}'.format(10000/3))\n",
    "print('{:8.2f}'.format(100000/3))\n",
    "print('{:8.2f}'.format(1000000/3))"
   ]
  },
  {
   "cell_type": "code",
   "execution_count": null,
   "id": "2c2ff02f",
   "metadata": {},
   "outputs": [],
   "source": [
    "print('{:8,.2f}'.format(100000/3)) # Add a thousand separator."
   ]
  },
  {
   "cell_type": "markdown",
   "id": "105141a8",
   "metadata": {},
   "source": [
    "**Logical operations with strings**"
   ]
  },
  {
   "cell_type": "code",
   "execution_count": null,
   "id": "992e66ae",
   "metadata": {},
   "outputs": [],
   "source": [
    "s = 'Java, C++, COBOL '\n",
    "'Python' in s"
   ]
  },
  {
   "cell_type": "code",
   "execution_count": null,
   "id": "625aa303",
   "metadata": {},
   "outputs": [],
   "source": [
    "s = 'Monthy Python'\n",
    "'Python' in s"
   ]
  },
  {
   "cell_type": "code",
   "execution_count": null,
   "id": "6257e756",
   "metadata": {},
   "outputs": [],
   "source": []
  }
 ],
 "metadata": {
  "kernelspec": {
   "display_name": "Python 3 (ipykernel)",
   "language": "python",
   "name": "python3"
  },
  "language_info": {
   "codemirror_mode": {
    "name": "ipython",
    "version": 3
   },
   "file_extension": ".py",
   "mimetype": "text/x-python",
   "name": "python",
   "nbconvert_exporter": "python",
   "pygments_lexer": "ipython3",
   "version": "3.9.12"
  }
 },
 "nbformat": 4,
 "nbformat_minor": 5
}
