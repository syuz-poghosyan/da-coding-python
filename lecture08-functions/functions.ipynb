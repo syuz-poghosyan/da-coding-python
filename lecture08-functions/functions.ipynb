{
 "cells": [
  {
   "cell_type": "markdown",
   "id": "9909070d-84b3-4484-8a73-49666a8c7dcc",
   "metadata": {},
   "source": [
    "# Lecture 8\n",
    "\n",
    "## Writing Functions\n",
    "- User-Defined [Functions](#UDF) (UDFs)\n",
    "- [lambda](#lambda) functions\n",
    "\n",
    "---"
   ]
  },
  {
   "cell_type": "markdown",
   "id": "64cf5f6f-84ca-4224-96e1-ba0a4d158564",
   "metadata": {},
   "source": [
    "## User-defined Functions <a class='anchor' id=\"UDF\"></a>"
   ]
  },
  {
   "cell_type": "markdown",
   "id": "6f6446a6-9255-477a-b928-3d4a273a2808",
   "metadata": {},
   "source": [
    "A function is a block of organized, reusable code that is used to perform a single, related action. Functions provide better modularity for your application and a high degree of code reusing.\n",
    "\n",
    "You can define functions to provide the required functionality. Here are simple rules to define a function in Python.\n",
    "\n",
    "* Function blocks begin with the keyword ```def``` followed by the function name and parentheses ```( )```.\n",
    "\n",
    "* Any input parameters or arguments should be placed within these parentheses. You can also define parameters inside these parentheses.\n",
    "\n",
    "* The first statement of a function can be an optional statement - the documentation string of the function or docstring.\n",
    "\n",
    "* The code block within every function starts with a colon (```:```) and is **indented**.\n",
    "\n",
    "* The statement ```return``` [expression] returns a value, or a serious of values, a list, a dictionary, .... A return statement with no arguments is the same as return None."
   ]
  },
  {
   "cell_type": "code",
   "execution_count": 1,
   "id": "e264b08d-0fc3-4fdd-b8a7-3b660d353884",
   "metadata": {},
   "outputs": [],
   "source": [
    "def add_one(number):\n",
    "    x = number + 1\n",
    "    return x"
   ]
  },
  {
   "cell_type": "code",
   "execution_count": 2,
   "id": "71379516-7976-488a-8073-ef572c8ad946",
   "metadata": {},
   "outputs": [
    {
     "data": {
      "text/plain": [
       "21"
      ]
     },
     "execution_count": 2,
     "metadata": {},
     "output_type": "execute_result"
    }
   ],
   "source": [
    "add_one(20)"
   ]
  },
  {
   "cell_type": "markdown",
   "id": "6ef54f7a-6379-4f6b-831f-3a0c1bc964e1",
   "metadata": {},
   "source": [
    "You can return more than one object from a single function. "
   ]
  },
  {
   "cell_type": "code",
   "execution_count": 3,
   "id": "dad4db6d-6289-43d4-8a42-f421294c8382",
   "metadata": {},
   "outputs": [],
   "source": [
    "def add_one_and_return_both(number):\n",
    "    x = number\n",
    "    y = x + 1\n",
    "    return x, y"
   ]
  },
  {
   "cell_type": "code",
   "execution_count": 4,
   "id": "2c2690e9-3ff2-4b92-9f7e-b55f428a2b2c",
   "metadata": {},
   "outputs": [
    {
     "name": "stdout",
     "output_type": "stream",
     "text": [
      "23\n",
      "24\n"
     ]
    }
   ],
   "source": [
    "x, y = add_one_and_return_both(23)\n",
    "print(x)\n",
    "print(y)"
   ]
  },
  {
   "cell_type": "markdown",
   "id": "e927412f-55ba-40c6-a1b1-661942b6fd2a",
   "metadata": {},
   "source": [
    "Function arguments can have default values."
   ]
  },
  {
   "cell_type": "code",
   "execution_count": 5,
   "id": "bd1def85-514c-482f-aa17-e3b301c03eda",
   "metadata": {},
   "outputs": [],
   "source": [
    "def number_to_the_power(number, exponent = 2):\n",
    "    return number ** exponent"
   ]
  },
  {
   "cell_type": "code",
   "execution_count": 6,
   "id": "7d4dcb2a-aadc-46ce-b253-12d3e83b991f",
   "metadata": {},
   "outputs": [
    {
     "data": {
      "text/plain": [
       "25"
      ]
     },
     "execution_count": 6,
     "metadata": {},
     "output_type": "execute_result"
    }
   ],
   "source": [
    "number_to_the_power(5)"
   ]
  },
  {
   "cell_type": "code",
   "execution_count": 7,
   "id": "d1734ec5-1097-4d3a-8b56-3ee9f0fd5122",
   "metadata": {},
   "outputs": [
    {
     "data": {
      "text/plain": [
       "125"
      ]
     },
     "execution_count": 7,
     "metadata": {},
     "output_type": "execute_result"
    }
   ],
   "source": [
    "number_to_the_power(5, 3)"
   ]
  },
  {
   "cell_type": "markdown",
   "id": "02a7f46d-2fc1-427a-a7d7-a5aa60d1d94f",
   "metadata": {},
   "source": [
    "Return objects can be of any type. Also, `docstrings` help you document your function. More on docstrings [here](https://www.datacamp.com/community/tutorials/docstrings-python)."
   ]
  },
  {
   "cell_type": "code",
   "execution_count": 9,
   "id": "8dc06669-ca6b-4ad8-9493-74e3d7d360af",
   "metadata": {},
   "outputs": [],
   "source": [
    "def cast_listitems_to_string(list):\n",
    "    \"\"\"\n",
    "    Casts list of various elements to string. \n",
    "    \n",
    "    The function cast elements in a list to string,\n",
    "    whatever their original type is.\n",
    "    \n",
    "    Parameters\n",
    "    ----------\n",
    "    list: list \n",
    "        A list of various data types.\n",
    "        \n",
    "    Returns\n",
    "    -------\n",
    "    list: list\n",
    "        A list of strings, cast from the original elements.\n",
    "    \"\"\"\n",
    "    for i in range(len(list)):\n",
    "        list[i] = str(list[i]) # remember: lists are mutable\n",
    "    return list"
   ]
  },
  {
   "cell_type": "markdown",
   "id": "cd7e75b0-fa2d-4a1a-bb66-384a15e03099",
   "metadata": {},
   "source": [
    "Docstrings are returned when you call the `help()` function on your UDF. This is especially helpful when you import your function from a module in a complex solution. "
   ]
  },
  {
   "cell_type": "code",
   "execution_count": 10,
   "id": "e568ac74-5c5a-4ad4-b3a1-3c7d23406e03",
   "metadata": {},
   "outputs": [
    {
     "name": "stdout",
     "output_type": "stream",
     "text": [
      "Help on function cast_listitems_to_string in module __main__:\n",
      "\n",
      "cast_listitems_to_string(list)\n",
      "    Casts list of various elements to string. \n",
      "    \n",
      "    The function cast elements in a list to string,\n",
      "    whatever their original type is.\n",
      "    \n",
      "    Parameters\n",
      "    ----------\n",
      "    list: list \n",
      "        A list of various data types.\n",
      "        \n",
      "    Returns\n",
      "    -------\n",
      "    list: list\n",
      "        A list of strings, cast from the original elements.\n",
      "\n"
     ]
    }
   ],
   "source": [
    "help(cast_listitems_to_string)"
   ]
  },
  {
   "cell_type": "code",
   "execution_count": 11,
   "id": "4c4a7080-bbb8-4787-95b5-163eb3ce8719",
   "metadata": {},
   "outputs": [],
   "source": [
    "import math \n",
    "\n",
    "ls_convertable = [1,2, 'a', math.cos(math.pi / 3)]"
   ]
  },
  {
   "cell_type": "code",
   "execution_count": 12,
   "id": "bee0d780-184d-418e-9dd9-da19f9624be7",
   "metadata": {},
   "outputs": [
    {
     "data": {
      "text/plain": [
       "[1, 2, 'a', 0.5000000000000001]"
      ]
     },
     "execution_count": 12,
     "metadata": {},
     "output_type": "execute_result"
    }
   ],
   "source": [
    "ls_convertable"
   ]
  },
  {
   "cell_type": "code",
   "execution_count": 13,
   "id": "19f1dac0-1a56-4f2b-be45-b8c6c78e4fa3",
   "metadata": {},
   "outputs": [],
   "source": [
    "ls_converted = cast_listitems_to_string(ls_convertable)"
   ]
  },
  {
   "cell_type": "code",
   "execution_count": 14,
   "id": "d4e6dfe2-7cbc-41ea-ac4e-af8e51c33dc5",
   "metadata": {},
   "outputs": [
    {
     "data": {
      "text/plain": [
       "['1', '2', 'a', '0.5000000000000001']"
      ]
     },
     "execution_count": 14,
     "metadata": {},
     "output_type": "execute_result"
    }
   ],
   "source": [
    "ls_converted"
   ]
  },
  {
   "cell_type": "markdown",
   "id": "318ca855-a546-4a00-b694-6fdca2ae1bcd",
   "metadata": {},
   "source": [
    "## Lambda Functions <a class=\"anchor\" id=\"lambda\"></a>"
   ]
  },
  {
   "cell_type": "markdown",
   "id": "d974ef34-2a6b-4297-8b4b-f16ee634b9f2",
   "metadata": {},
   "source": [
    "A lambda function is a small anonymous function. A lambda function can take any number of arguments, but can only have one expression. It is created using the `lambda` keyword."
   ]
  },
  {
   "cell_type": "code",
   "execution_count": 15,
   "id": "b73341b4-ac29-4fe3-b424-f7197d0116ab",
   "metadata": {},
   "outputs": [],
   "source": [
    "square = lambda x: x ** 2"
   ]
  },
  {
   "cell_type": "code",
   "execution_count": 16,
   "id": "f731ca49-31ca-47f8-9846-ed45c8254849",
   "metadata": {},
   "outputs": [
    {
     "data": {
      "text/plain": [
       "4"
      ]
     },
     "execution_count": 16,
     "metadata": {},
     "output_type": "execute_result"
    }
   ],
   "source": [
    "square(2)"
   ]
  },
  {
   "cell_type": "markdown",
   "id": "2ef41ded-502e-4699-91fb-ed316f69d510",
   "metadata": {},
   "source": [
    "We use lambda to simplify our code, to create temporary definitions, which are used only once. The same can be achieved with a normal definiton:"
   ]
  },
  {
   "cell_type": "code",
   "execution_count": 17,
   "id": "bc234107-fac9-4c5a-987d-7429ace83fe1",
   "metadata": {},
   "outputs": [],
   "source": [
    "def square_def(x): \n",
    "    return x ** 2"
   ]
  },
  {
   "cell_type": "code",
   "execution_count": 18,
   "id": "c4648bd8-426d-4e96-9557-af69fcd04c56",
   "metadata": {},
   "outputs": [
    {
     "data": {
      "text/plain": [
       "4"
      ]
     },
     "execution_count": 18,
     "metadata": {},
     "output_type": "execute_result"
    }
   ],
   "source": [
    "square_def(2)"
   ]
  },
  {
   "cell_type": "markdown",
   "id": "3542957c-9b5f-4ca0-ba95-7c967e3e5028",
   "metadata": {},
   "source": [
    "You can combine `lambda` functions with *list comprehension*. "
   ]
  },
  {
   "cell_type": "code",
   "execution_count": null,
   "id": "3dafcdf7-9726-41b8-bd94-48e8b5086d65",
   "metadata": {},
   "outputs": [],
   "source": [
    "ls_numbers = list(range(10))"
   ]
  },
  {
   "cell_type": "code",
   "execution_count": null,
   "id": "a75a8ef2-986a-4cf4-a136-c2858721c524",
   "metadata": {},
   "outputs": [],
   "source": [
    "ls_numbers"
   ]
  },
  {
   "cell_type": "markdown",
   "id": "970486fc-a0e4-40c7-90a1-557e5c4280fb",
   "metadata": {},
   "source": [
    "Let's square all the values from the list and add 1 to each element"
   ]
  },
  {
   "cell_type": "code",
   "execution_count": null,
   "id": "668c2e5c-37c4-4c91-bce1-d86d9294bdd3",
   "metadata": {},
   "outputs": [],
   "source": [
    "f = lambda x: x**2 + 1\n",
    "[f(x) for x in ls_numbers]"
   ]
  },
  {
   "cell_type": "markdown",
   "id": "b3fb2d74-1ea1-4d88-933b-a3285dc4a6ff",
   "metadata": {},
   "source": [
    "Let's square and add one to each even number in the list"
   ]
  },
  {
   "cell_type": "code",
   "execution_count": null,
   "id": "c73d8160-6160-42cb-8cfe-452ddf92500e",
   "metadata": {},
   "outputs": [],
   "source": [
    "[f(x) for x in ls_numbers if x%2 == 0 ]"
   ]
  },
  {
   "cell_type": "markdown",
   "id": "8561c4c4-c82a-40cb-986f-50b92553335f",
   "metadata": {},
   "source": [
    "Square and add one to each even number in the list but return the odd numbers without transformation"
   ]
  },
  {
   "cell_type": "code",
   "execution_count": null,
   "id": "b6952703-dc5c-45b8-b985-16ebe95a27fa",
   "metadata": {},
   "outputs": [],
   "source": [
    "[f(x) if x%2 == 0 else x for x in ls_numbers]"
   ]
  },
  {
   "cell_type": "markdown",
   "id": "0136d6c4-f121-4d6a-a733-6b8ca8313930",
   "metadata": {},
   "source": [
    "You can also handle errors with lambda functions and conditional list comprehension."
   ]
  },
  {
   "cell_type": "code",
   "execution_count": null,
   "id": "bce0f8e9-0975-497e-8faa-5f2aceeb07bd",
   "metadata": {},
   "outputs": [],
   "source": [
    "replace_comma = lambda x: x.replace(',', '.')"
   ]
  },
  {
   "cell_type": "code",
   "execution_count": null,
   "id": "576579d5-8402-496f-b97f-4cf2ea1c32fc",
   "metadata": {},
   "outputs": [],
   "source": [
    "replace_comma('4,5')"
   ]
  },
  {
   "cell_type": "code",
   "execution_count": null,
   "id": "177b5ba9-735b-49a1-8ac7-12808c73dc88",
   "metadata": {},
   "outputs": [],
   "source": [
    "ls_mixed_data = [1.2, '1,2', 5, 7, '4,5', 7]"
   ]
  },
  {
   "cell_type": "code",
   "execution_count": null,
   "id": "5205a3a3-f91d-4f47-9923-5d2612d83fc4",
   "metadata": {},
   "outputs": [],
   "source": [
    "[replace_comma(x) if isinstance(x, str) else x for x in ls_mixed_data]"
   ]
  }
 ],
 "metadata": {
  "kernelspec": {
   "display_name": "Python 3 (ipykernel)",
   "language": "python",
   "name": "python3"
  },
  "language_info": {
   "codemirror_mode": {
    "name": "ipython",
    "version": 3
   },
   "file_extension": ".py",
   "mimetype": "text/x-python",
   "name": "python",
   "nbconvert_exporter": "python",
   "pygments_lexer": "ipython3",
   "version": "3.9.12"
  }
 },
 "nbformat": 4,
 "nbformat_minor": 5
}
