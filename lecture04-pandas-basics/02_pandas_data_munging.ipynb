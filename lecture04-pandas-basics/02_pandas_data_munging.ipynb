{
 "cells": [
  {
   "cell_type": "markdown",
   "id": "94926c33",
   "metadata": {},
   "source": [
    "# Lecture 04 – part II\n",
    "                                       \n",
    "## Introduction to Data-munging\n",
    "                                       \n",
    "   - Add new manipulated variables     \n",
    "   - Separate char to new variables    \n",
    "   - Convert variables to numeric or factor               \n",
    "   - Some string manipulations         \n",
    "   - Rename variables                  \n",
    "   - Filter out different observations \n",
    "     - conditional selection           \n",
    "     - tabulate frequency of a var     \n",
    "     - missing values                  \n",
    "     - replace values                  \n",
    "     - duplicates                      \n",
    "   - Using pipes                \n",
    "   - Sorting data                      \n",
    "                                       \n",
    "#### Case-study \n",
    "\n",
    "- Based on: Chapter 02, A:              \n",
    "    - Finding a good deal among hotels: data preparation              \n",
    "                                      \n",
    "#### Dataset:                              \n",
    "- hotels-europe \n",
    "---"
   ]
  },
  {
   "cell_type": "code",
   "execution_count": 1,
   "id": "34a37609",
   "metadata": {},
   "outputs": [],
   "source": [
    "import pandas as pd\n",
    "import numpy as np\n",
    "import warnings\n",
    "\n",
    "warnings.filterwarnings(\"ignore\")"
   ]
  },
  {
   "cell_type": "markdown",
   "id": "13d25ef0",
   "metadata": {},
   "source": [
    "Import raw data"
   ]
  },
  {
   "cell_type": "code",
   "execution_count": 4,
   "id": "209ca467",
   "metadata": {},
   "outputs": [],
   "source": [
    "raw_df = pd.read_csv(\"https://osf.io/yzntm/download\")"
   ]
  },
  {
   "cell_type": "markdown",
   "id": "9b5bff82",
   "metadata": {},
   "source": [
    "Have a look at the data"
   ]
  },
  {
   "cell_type": "code",
   "execution_count": 5,
   "id": "b013ba45",
   "metadata": {},
   "outputs": [
    {
     "data": {
      "text/html": [
       "<div>\n",
       "<style scoped>\n",
       "    .dataframe tbody tr th:only-of-type {\n",
       "        vertical-align: middle;\n",
       "    }\n",
       "\n",
       "    .dataframe tbody tr th {\n",
       "        vertical-align: top;\n",
       "    }\n",
       "\n",
       "    .dataframe thead th {\n",
       "        text-align: right;\n",
       "    }\n",
       "</style>\n",
       "<table border=\"1\" class=\"dataframe\">\n",
       "  <thead>\n",
       "    <tr style=\"text-align: right;\">\n",
       "      <th></th>\n",
       "      <th>addresscountryname</th>\n",
       "      <th>city_actual</th>\n",
       "      <th>rating_reviewcount</th>\n",
       "      <th>center1distance</th>\n",
       "      <th>center1label</th>\n",
       "      <th>center2distance</th>\n",
       "      <th>center2label</th>\n",
       "      <th>neighbourhood</th>\n",
       "      <th>price</th>\n",
       "      <th>price_night</th>\n",
       "      <th>...</th>\n",
       "      <th>accommodationtype</th>\n",
       "      <th>guestreviewsrating</th>\n",
       "      <th>scarce_room</th>\n",
       "      <th>hotel_id</th>\n",
       "      <th>offer</th>\n",
       "      <th>offer_cat</th>\n",
       "      <th>year</th>\n",
       "      <th>month</th>\n",
       "      <th>weekend</th>\n",
       "      <th>holiday</th>\n",
       "    </tr>\n",
       "  </thead>\n",
       "  <tbody>\n",
       "    <tr>\n",
       "      <th>0</th>\n",
       "      <td>Netherlands</td>\n",
       "      <td>Amsterdam</td>\n",
       "      <td>1030.0</td>\n",
       "      <td>3.1 miles</td>\n",
       "      <td>City centre</td>\n",
       "      <td>3.6 miles</td>\n",
       "      <td>Montelbaanstoren</td>\n",
       "      <td>Amsterdam</td>\n",
       "      <td>172</td>\n",
       "      <td>price for 1 night</td>\n",
       "      <td>...</td>\n",
       "      <td>_ACCOM_TYPE@Hotel</td>\n",
       "      <td>4.3 /5</td>\n",
       "      <td>0</td>\n",
       "      <td>1.0</td>\n",
       "      <td>0</td>\n",
       "      <td>0% no offer</td>\n",
       "      <td>2017</td>\n",
       "      <td>11</td>\n",
       "      <td>1</td>\n",
       "      <td>0</td>\n",
       "    </tr>\n",
       "    <tr>\n",
       "      <th>1</th>\n",
       "      <td>Netherlands</td>\n",
       "      <td>Amsterdam</td>\n",
       "      <td>1030.0</td>\n",
       "      <td>3.1 miles</td>\n",
       "      <td>City centre</td>\n",
       "      <td>3.6 miles</td>\n",
       "      <td>Montelbaanstoren</td>\n",
       "      <td>Amsterdam</td>\n",
       "      <td>122</td>\n",
       "      <td>price for 1 night</td>\n",
       "      <td>...</td>\n",
       "      <td>_ACCOM_TYPE@Hotel</td>\n",
       "      <td>4.3 /5</td>\n",
       "      <td>0</td>\n",
       "      <td>1.0</td>\n",
       "      <td>1</td>\n",
       "      <td>15-50% offer</td>\n",
       "      <td>2018</td>\n",
       "      <td>1</td>\n",
       "      <td>1</td>\n",
       "      <td>0</td>\n",
       "    </tr>\n",
       "    <tr>\n",
       "      <th>2</th>\n",
       "      <td>Netherlands</td>\n",
       "      <td>Amsterdam</td>\n",
       "      <td>1030.0</td>\n",
       "      <td>3.1 miles</td>\n",
       "      <td>City centre</td>\n",
       "      <td>3.6 miles</td>\n",
       "      <td>Montelbaanstoren</td>\n",
       "      <td>Amsterdam</td>\n",
       "      <td>122</td>\n",
       "      <td>price for 1 night</td>\n",
       "      <td>...</td>\n",
       "      <td>_ACCOM_TYPE@Hotel</td>\n",
       "      <td>4.3 /5</td>\n",
       "      <td>0</td>\n",
       "      <td>1.0</td>\n",
       "      <td>1</td>\n",
       "      <td>15-50% offer</td>\n",
       "      <td>2017</td>\n",
       "      <td>12</td>\n",
       "      <td>0</td>\n",
       "      <td>1</td>\n",
       "    </tr>\n",
       "    <tr>\n",
       "      <th>3</th>\n",
       "      <td>Netherlands</td>\n",
       "      <td>Amsterdam</td>\n",
       "      <td>1030.0</td>\n",
       "      <td>3.1 miles</td>\n",
       "      <td>City centre</td>\n",
       "      <td>3.6 miles</td>\n",
       "      <td>Montelbaanstoren</td>\n",
       "      <td>Amsterdam</td>\n",
       "      <td>552</td>\n",
       "      <td>price for 4 nights</td>\n",
       "      <td>...</td>\n",
       "      <td>_ACCOM_TYPE@Hotel</td>\n",
       "      <td>4.3 /5</td>\n",
       "      <td>0</td>\n",
       "      <td>1.0</td>\n",
       "      <td>1</td>\n",
       "      <td>1-15% offer</td>\n",
       "      <td>2017</td>\n",
       "      <td>12</td>\n",
       "      <td>0</td>\n",
       "      <td>1</td>\n",
       "    </tr>\n",
       "    <tr>\n",
       "      <th>4</th>\n",
       "      <td>Netherlands</td>\n",
       "      <td>Amsterdam</td>\n",
       "      <td>1030.0</td>\n",
       "      <td>3.1 miles</td>\n",
       "      <td>City centre</td>\n",
       "      <td>3.6 miles</td>\n",
       "      <td>Montelbaanstoren</td>\n",
       "      <td>Amsterdam</td>\n",
       "      <td>122</td>\n",
       "      <td>price for 1 night</td>\n",
       "      <td>...</td>\n",
       "      <td>_ACCOM_TYPE@Hotel</td>\n",
       "      <td>4.3 /5</td>\n",
       "      <td>0</td>\n",
       "      <td>1.0</td>\n",
       "      <td>1</td>\n",
       "      <td>15-50% offer</td>\n",
       "      <td>2018</td>\n",
       "      <td>2</td>\n",
       "      <td>1</td>\n",
       "      <td>0</td>\n",
       "    </tr>\n",
       "  </tbody>\n",
       "</table>\n",
       "<p>5 rows × 24 columns</p>\n",
       "</div>"
      ],
      "text/plain": [
       "  addresscountryname city_actual  rating_reviewcount center1distance  \\\n",
       "0        Netherlands   Amsterdam              1030.0       3.1 miles   \n",
       "1        Netherlands   Amsterdam              1030.0       3.1 miles   \n",
       "2        Netherlands   Amsterdam              1030.0       3.1 miles   \n",
       "3        Netherlands   Amsterdam              1030.0       3.1 miles   \n",
       "4        Netherlands   Amsterdam              1030.0       3.1 miles   \n",
       "\n",
       "  center1label center2distance      center2label neighbourhood  price  \\\n",
       "0  City centre       3.6 miles  Montelbaanstoren     Amsterdam    172   \n",
       "1  City centre       3.6 miles  Montelbaanstoren     Amsterdam    122   \n",
       "2  City centre       3.6 miles  Montelbaanstoren     Amsterdam    122   \n",
       "3  City centre       3.6 miles  Montelbaanstoren     Amsterdam    552   \n",
       "4  City centre       3.6 miles  Montelbaanstoren     Amsterdam    122   \n",
       "\n",
       "          price_night  ...  accommodationtype  guestreviewsrating  \\\n",
       "0   price for 1 night  ...  _ACCOM_TYPE@Hotel              4.3 /5   \n",
       "1   price for 1 night  ...  _ACCOM_TYPE@Hotel              4.3 /5   \n",
       "2   price for 1 night  ...  _ACCOM_TYPE@Hotel              4.3 /5   \n",
       "3  price for 4 nights  ...  _ACCOM_TYPE@Hotel              4.3 /5   \n",
       "4   price for 1 night  ...  _ACCOM_TYPE@Hotel              4.3 /5   \n",
       "\n",
       "   scarce_room  hotel_id offer     offer_cat  year  month  weekend holiday  \n",
       "0            0       1.0     0   0% no offer  2017     11        1       0  \n",
       "1            0       1.0     1  15-50% offer  2018      1        1       0  \n",
       "2            0       1.0     1  15-50% offer  2017     12        0       1  \n",
       "3            0       1.0     1   1-15% offer  2017     12        0       1  \n",
       "4            0       1.0     1  15-50% offer  2018      2        1       0  \n",
       "\n",
       "[5 rows x 24 columns]"
      ]
     },
     "execution_count": 5,
     "metadata": {},
     "output_type": "execute_result"
    }
   ],
   "source": [
    "raw_df.head()"
   ]
  },
  {
   "cell_type": "markdown",
   "id": "b1591577",
   "metadata": {},
   "source": [
    "### 1) Adding a new variable\n",
    "\n",
    "Let us add nnights variable, which shows the number of nights spent in the hotel\\\n",
    "As the data was collected in such way, it is 1 for each observations."
   ]
  },
  {
   "cell_type": "markdown",
   "id": "020eb10a",
   "metadata": {},
   "source": [
    "You can assign a new variable using the following syntax"
   ]
  },
  {
   "cell_type": "code",
   "execution_count": null,
   "id": "9aa3b923",
   "metadata": {},
   "outputs": [],
   "source": [
    "raw_df[\"nnights\"] = 1"
   ]
  },
  {
   "cell_type": "markdown",
   "id": "96286e41",
   "metadata": {},
   "source": [
    "Or use the `assign` function of pandas and also create a new variable, lets call it `df`"
   ]
  },
  {
   "cell_type": "code",
   "execution_count": null,
   "id": "4b400185",
   "metadata": {},
   "outputs": [],
   "source": [
    "df = raw_df.assign(nnights = 1)"
   ]
  },
  {
   "cell_type": "markdown",
   "id": "84831ffc",
   "metadata": {},
   "source": [
    "Lets remove the raw data"
   ]
  },
  {
   "cell_type": "code",
   "execution_count": null,
   "id": "4e730e05",
   "metadata": {},
   "outputs": [],
   "source": [
    "del raw_df"
   ]
  },
  {
   "cell_type": "markdown",
   "id": "72c9c2db",
   "metadata": {},
   "source": [
    "### 2) Data cleaning - selecting a variable"
   ]
  },
  {
   "cell_type": "markdown",
   "id": "28ffa713",
   "metadata": {},
   "source": [
    "You can select variables with `[]` brackets after the DataFrame object"
   ]
  },
  {
   "cell_type": "code",
   "execution_count": null,
   "id": "578ede79",
   "metadata": {},
   "outputs": [],
   "source": [
    "df[[\"accommodationtype\" , \"price\"]]"
   ]
  },
  {
   "cell_type": "markdown",
   "id": "7e423017",
   "metadata": {},
   "source": [
    "Or use the `filter` function"
   ]
  },
  {
   "cell_type": "code",
   "execution_count": null,
   "id": "e2f8767d",
   "metadata": {},
   "outputs": [],
   "source": [
    "df.filter([\"accommodationtype\" , \"price\"])"
   ]
  },
  {
   "cell_type": "markdown",
   "id": "8be9a5e6",
   "metadata": {},
   "source": [
    "You can also select columns with `filter` using Regular Expressions aka regex"
   ]
  },
  {
   "cell_type": "code",
   "execution_count": null,
   "id": "28692ecb",
   "metadata": {},
   "outputs": [],
   "source": [
    "df.filter(regex=\"rating\")"
   ]
  },
  {
   "cell_type": "markdown",
   "id": "2b20c4d1",
   "metadata": {},
   "source": [
    "### 3) separating character vector with a unique sign "
   ]
  },
  {
   "cell_type": "markdown",
   "id": "eb165a79",
   "metadata": {},
   "source": [
    " Check accomotationtype: it is a character with a clear separator \"@\"\n",
    "\n",
    " To clean accommodationtype column: separate the characters at @ \n",
    "   and create two new variables: \"garbage\" and \"acc_type\".\n",
    " garbage will contain all characters before @ sign and acc_type will take everything after!"
   ]
  },
  {
   "cell_type": "code",
   "execution_count": null,
   "id": "d6de42b2",
   "metadata": {},
   "outputs": [],
   "source": [
    "df[\"accommodationtype\"]"
   ]
  },
  {
   "cell_type": "markdown",
   "id": "070f8494",
   "metadata": {},
   "source": [
    "You can easily split and strip character columns wiht pandas with attaching the `str` function after column name"
   ]
  },
  {
   "cell_type": "code",
   "execution_count": null,
   "id": "86a9be4e",
   "metadata": {},
   "outputs": [],
   "source": [
    "df[\"accommodationtype\"].str.split(\"@\")"
   ]
  },
  {
   "cell_type": "markdown",
   "id": "23fc5e25",
   "metadata": {},
   "source": [
    "This results in a Series of lists, each list contains the splitted parts of the original string. You can access the with the following syntax"
   ]
  },
  {
   "cell_type": "code",
   "execution_count": null,
   "id": "c4799360",
   "metadata": {},
   "outputs": [],
   "source": [
    "df[\"accommodationtype\"].str.split(\"@\").str[0]"
   ]
  },
  {
   "cell_type": "code",
   "execution_count": null,
   "id": "1f697081",
   "metadata": {},
   "outputs": [],
   "source": [
    "df[\"accommodationtype\"].str.split(\"@\").str[1].str.strip()"
   ]
  },
  {
   "cell_type": "markdown",
   "id": "49efe2ac",
   "metadata": {},
   "source": [
    "The second value in the lists contains the type of information about the accomodation type, lets create a new variable out of it."
   ]
  },
  {
   "cell_type": "code",
   "execution_count": null,
   "id": "4f907afd",
   "metadata": {},
   "outputs": [],
   "source": [
    "df[\"acc_type\"] = df[\"accommodationtype\"].str.split(\"@\").str[1].str.strip()\n",
    "df[\"acc_type\"].value_counts()"
   ]
  },
  {
   "cell_type": "markdown",
   "id": "1042c56f",
   "metadata": {},
   "source": [
    "Its a good idea to use the `strip` function when splitting string variables as it removes any unnecessary white space"
   ]
  },
  {
   "cell_type": "markdown",
   "id": "2b1da0fd",
   "metadata": {},
   "source": [
    "### Task - creating a numeric vector w simple separation\n",
    "\n",
    "  1) Correct the `guestreviewsrating` variable into simple numeric variable\\\n",
    "  2) Check with `.dtypes` method\\\n",
    "  3) Convert the variable into a numeric variable\n"
   ]
  },
  {
   "cell_type": "code",
   "execution_count": null,
   "id": "1fd8eea5",
   "metadata": {},
   "outputs": [],
   "source": [
    "df[\"guestreviewsrating\"].value_counts(dropna=False)"
   ]
  },
  {
   "cell_type": "code",
   "execution_count": null,
   "id": "a1076a59",
   "metadata": {},
   "outputs": [],
   "source": [
    "df[\"ratings\"] = df[\"guestreviewsrating\"].str.split('/').str[0].str.strip()\n",
    "df[\"ratings\"].dtypes"
   ]
  },
  {
   "cell_type": "code",
   "execution_count": null,
   "id": "ada12513",
   "metadata": {},
   "outputs": [],
   "source": [
    "df[\"ratings\"] = df[\"ratings\"].astype(float)"
   ]
  },
  {
   "cell_type": "code",
   "execution_count": null,
   "id": "262c72a5",
   "metadata": {},
   "outputs": [],
   "source": [
    "df[\"ratings\"].dtypes"
   ]
  },
  {
   "cell_type": "markdown",
   "id": "b89d6a6c",
   "metadata": {},
   "source": [
    "### Task\n",
    "\n",
    "Create numerical variables from the two distance measures:"
   ]
  },
  {
   "cell_type": "code",
   "execution_count": null,
   "id": "bd48f907",
   "metadata": {},
   "outputs": [],
   "source": [
    "df[[\"center1distance\", \"center2distance\"]]"
   ]
  },
  {
   "cell_type": "markdown",
   "id": "7f94e341",
   "metadata": {},
   "source": [
    "We have two numeric values than the format of the distance \"miles\""
   ]
  },
  {
   "cell_type": "code",
   "execution_count": null,
   "id": "e075137e",
   "metadata": {},
   "outputs": [],
   "source": [
    "df[\"distance\"] = df[\"center1distance\"].str.strip().str.split().str[0].astype(float)\n",
    "df[\"distance_alter\"] = df[\"center2distance\"].str.strip().str.split().str[0].astype(float)"
   ]
  },
  {
   "cell_type": "markdown",
   "id": "8a593dac",
   "metadata": {},
   "source": [
    "Check results"
   ]
  },
  {
   "cell_type": "code",
   "execution_count": null,
   "id": "8169d1cf",
   "metadata": {},
   "outputs": [],
   "source": [
    "df[\"distance\"].hist(bins=20)"
   ]
  },
  {
   "cell_type": "markdown",
   "id": "a597656c",
   "metadata": {},
   "source": [
    "### Rename variables"
   ]
  },
  {
   "cell_type": "markdown",
   "id": "8ebbe263",
   "metadata": {},
   "source": [
    "Using the `rename` function, you have to specify in a dictionary that which columns you want to rename and their new names"
   ]
  },
  {
   "cell_type": "code",
   "execution_count": null,
   "id": "fb991ae8",
   "metadata": {},
   "outputs": [],
   "source": [
    "df.filter(regex=\"rating\")"
   ]
  },
  {
   "cell_type": "code",
   "execution_count": null,
   "id": "a28f094f",
   "metadata": {},
   "outputs": [],
   "source": [
    "df = df.rename(columns={\"rating_reviewcount\": \"rating_count\", \"rating2_ta\": \"ratingta\"})"
   ]
  },
  {
   "cell_type": "code",
   "execution_count": null,
   "id": "24406b17",
   "metadata": {},
   "outputs": [],
   "source": [
    "df.filter(regex=\"rating\")"
   ]
  },
  {
   "cell_type": "markdown",
   "id": "c734c89d",
   "metadata": {},
   "source": [
    "### Task:\n",
    "   \n",
    "also rename the following variables as follows:\n",
    "     \n",
    "    rating2_ta_reviewcount: ratingta_count\n",
    "    addresscountryname: \"country\n",
    "    starrating: stars\n",
    "    s_city\": city"
   ]
  },
  {
   "cell_type": "code",
   "execution_count": null,
   "id": "05dd03e8",
   "metadata": {},
   "outputs": [],
   "source": [
    "df = df.rename(columns={\n",
    "    \"rating2_ta_reviewcount\": \"ratingta_count\",\n",
    "    \"addresscountryname\": \"country\",\n",
    "    \"starrating\": \"stars\",\n",
    "    \"s_city\": \"city\",\n",
    "})"
   ]
  },
  {
   "cell_type": "markdown",
   "id": "8899df85",
   "metadata": {},
   "source": [
    "### Filtering observations"
   ]
  },
  {
   "cell_type": "markdown",
   "id": "bb101449",
   "metadata": {},
   "source": [
    "Use the `loc` function"
   ]
  },
  {
   "cell_type": "code",
   "execution_count": null,
   "id": "15e7f13d",
   "metadata": {},
   "outputs": [],
   "source": [
    "df.shape"
   ]
  },
  {
   "cell_type": "markdown",
   "id": "482006bb",
   "metadata": {},
   "source": [
    "let us have only hotels"
   ]
  },
  {
   "cell_type": "code",
   "execution_count": null,
   "id": "b96b12c4",
   "metadata": {},
   "outputs": [],
   "source": [
    "df.loc[df[\"acc_type\"] == \"Hotel\"]"
   ]
  },
  {
   "cell_type": "markdown",
   "id": "013fb46d",
   "metadata": {},
   "source": [
    "Filtering: find missing values\\\n",
    "look at one of our key variable: ratings\\\n",
    "we can calculate the frequencies of the ratings\n"
   ]
  },
  {
   "cell_type": "code",
   "execution_count": null,
   "id": "aae9b1f6",
   "metadata": {},
   "outputs": [],
   "source": [
    "df[\"ratings\"].isnull().sum()"
   ]
  },
  {
   "cell_type": "markdown",
   "id": "c19d0cbe",
   "metadata": {},
   "source": [
    "What can we do with the NA values?\\\n",
    "First check them with 'loc'\n"
   ]
  },
  {
   "cell_type": "code",
   "execution_count": null,
   "id": "8d7e394c",
   "metadata": {},
   "outputs": [],
   "source": [
    "df.loc[df[\"ratings\"].isnull()]"
   ]
  },
  {
   "cell_type": "markdown",
   "id": "0f8a8cb0",
   "metadata": {},
   "source": [
    "if reasonable we can drop them, but there needs to be good reason for that!\n"
   ]
  },
  {
   "cell_type": "code",
   "execution_count": null,
   "id": "0c94abab",
   "metadata": {},
   "outputs": [],
   "source": [
    "df = df.loc[df[\"ratings\"].notnull()]"
   ]
  },
  {
   "cell_type": "markdown",
   "id": "92246f08",
   "metadata": {},
   "source": [
    "Or alternatively ose `dropna`"
   ]
  },
  {
   "cell_type": "code",
   "execution_count": null,
   "id": "096da8ea",
   "metadata": {},
   "outputs": [],
   "source": [
    "df = df.dropna(subset=[\"ratings\"])"
   ]
  },
  {
   "cell_type": "code",
   "execution_count": null,
   "id": "3e0aca90",
   "metadata": {},
   "outputs": [],
   "source": [
    "df"
   ]
  },
  {
   "cell_type": "markdown",
   "id": "cf47c018",
   "metadata": {},
   "source": [
    "### Correcting wrongly documented observations:\n",
    " In case of `stars` there are only values from 0-5"
   ]
  },
  {
   "cell_type": "code",
   "execution_count": null,
   "id": "17fe8971",
   "metadata": {},
   "outputs": [],
   "source": [
    "df[\"stars\"].value_counts(dropna=False)"
   ]
  },
  {
   "cell_type": "markdown",
   "id": "ab5418bb",
   "metadata": {},
   "source": [
    "What does 0 star means? It is missing, but recorded as 0...\\\n",
    "We need to set these values to `None`: re-define the stars variable:"
   ]
  },
  {
   "cell_type": "code",
   "execution_count": null,
   "id": "fc4ae32d",
   "metadata": {},
   "outputs": [],
   "source": [
    "df[\"stars\"] = np.where(df[\"stars\"] == 0, None, df[\"stars\"])"
   ]
  },
  {
   "cell_type": "code",
   "execution_count": null,
   "id": "d7e34859",
   "metadata": {},
   "outputs": [],
   "source": [
    "df[\"stars\"].value_counts(dropna=False)"
   ]
  },
  {
   "cell_type": "markdown",
   "id": "1fd3979c",
   "metadata": {},
   "source": [
    "### Duplicates:\n",
    "\n",
    "1.) exact match for each values for a given observations\\\n",
    " \n",
    "Count the number of duplicates"
   ]
  },
  {
   "cell_type": "code",
   "execution_count": null,
   "id": "9ee03943",
   "metadata": {},
   "outputs": [],
   "source": [
    "df.duplicated().sum()"
   ]
  },
  {
   "cell_type": "markdown",
   "id": "e1e32b9c",
   "metadata": {},
   "source": [
    "Remove them"
   ]
  },
  {
   "cell_type": "code",
   "execution_count": null,
   "id": "4a813963",
   "metadata": {},
   "outputs": [],
   "source": [
    "df = df.drop_duplicates()"
   ]
  },
  {
   "cell_type": "markdown",
   "id": "63b3eaf2",
   "metadata": {},
   "source": [
    "2.) Remove duplicates to specific variables, that are important to us\n",
    "\n",
    "To make sense, let us take this into two steps: \n",
    "\n",
    "    a) select certain variables:\n"
   ]
  },
  {
   "cell_type": "code",
   "execution_count": null,
   "id": "628e8895",
   "metadata": {},
   "outputs": [],
   "source": [
    "important_variables = [\n",
    "    \"country\",\n",
    "    \"hotel_id\",\n",
    "    \"distance\",\n",
    "    \"stars\",\n",
    "    \"ratings\",\n",
    "    \"price\",\n",
    "    \"year\",\n",
    "    \"month\",\n",
    "    \"weekend\",\n",
    "    \"holiday\",\n",
    "]"
   ]
  },
  {
   "cell_type": "markdown",
   "id": "9ba6f00e",
   "metadata": {},
   "source": [
    " Now we can filter out only duplicates in these variables:"
   ]
  },
  {
   "cell_type": "code",
   "execution_count": null,
   "id": "b06a4979",
   "metadata": {},
   "outputs": [],
   "source": [
    "df = df.drop_duplicates(subset=important_variables)"
   ]
  },
  {
   "cell_type": "markdown",
   "id": "eacc51a9",
   "metadata": {},
   "source": [
    "### Task: Get specific data used in DA1 course:\n",
    "       1) Get hotels only from Vienna\n",
    "       2) Filter out the following observations:\n",
    "           - in date: 2017, November and 0s week (multiple conditions)\n",
    "           - with Hotel types which has stars between 3 and 4\n",
    "           - and drop observations which has price more than 1000 EUR.\n"
   ]
  },
  {
   "cell_type": "code",
   "execution_count": null,
   "id": "b286093d",
   "metadata": {},
   "outputs": [],
   "source": [
    "hotel_vienna = df.loc[df[\"city\"] == \"Vienna\"]\n",
    "hotel_vienna = hotel_vienna.loc[\n",
    "    (hotel_vienna[\"year\"] == 2017)\n",
    "    & (hotel_vienna[\"month\"] == 11)\n",
    "    & (hotel_vienna[\"weekend\"] == 0)\n",
    "]  # use | and & for bitwise operations\n",
    "hotel_vienna = hotel_vienna.loc[hotel_vienna[\"acc_type\"] == \"Hotel\"]\n",
    "hotel_vienna = hotel_vienna.loc[\n",
    "    (hotel_vienna[\"stars\"] >= 3) & (hotel_vienna[\"stars\"] <= 4)\n",
    "]\n",
    "hotel_vienna = hotel_vienna.loc[hotel_vienna[\"price\"] < 1000]"
   ]
  },
  {
   "cell_type": "code",
   "execution_count": null,
   "id": "f49ecc95",
   "metadata": {},
   "outputs": [],
   "source": [
    "hotel_vienna"
   ]
  },
  {
   "cell_type": "markdown",
   "id": "bcd26aca",
   "metadata": {},
   "source": [
    "### Pipes with pandas"
   ]
  },
  {
   "cell_type": "markdown",
   "id": "fe1ecd9b",
   "metadata": {},
   "source": [
    "You can also do the above procedure in a pipe, which allows to make multiple sequential manipulations with one command:"
   ]
  },
  {
   "cell_type": "code",
   "execution_count": null,
   "id": "d3e5fe4b",
   "metadata": {},
   "outputs": [],
   "source": [
    "(\n",
    "    df.loc[df[\"city\"] == \"Vienna\"]\n",
    "    .loc[(df[\"year\"] == 2017) & (df[\"month\"] == 11) & (df[\"weekend\"] == 0)]\n",
    "    .loc[df[\"acc_type\"] == \"Hotel\"]\n",
    "    .loc[(df[\"stars\"] >= 3) & (df[\"stars\"] <= 4)]\n",
    "    .loc[df[\"price\"] < 1000]\n",
    ")"
   ]
  },
  {
   "cell_type": "markdown",
   "id": "a4c9ba40",
   "metadata": {},
   "source": [
    "with pipeing, you can lace several different functions in one pipe, eg."
   ]
  },
  {
   "cell_type": "code",
   "execution_count": null,
   "id": "f19e7447",
   "metadata": {},
   "outputs": [],
   "source": [
    "(\n",
    "    df.loc[(df[\"year\"] == 2017) & (df[\"month\"] == 11) & (df[\"weekend\"] == 0)]\n",
    "    .rename(columns={\"city\": \"town\"})\n",
    "    .filter([\"hotel_id\", \"country\", \"town\", \"price\", \"acc_type\"])\n",
    "    .groupby(\"town\")\n",
    "    .agg(n_hotels=(\"hotel_id\", \"nunique\"), mean_price=(\"price\", \"mean\"))\n",
    "    .sort_values(by=[\"mean_price\"], ascending=False)\n",
    "    .head(10)\n",
    ")"
   ]
  },
  {
   "cell_type": "markdown",
   "id": "cf6ba9ad",
   "metadata": {},
   "source": [
    "Make data table more \"pretty\"\n",
    "\n",
    "Can arrange the values in increasing order"
   ]
  },
  {
   "cell_type": "code",
   "execution_count": null,
   "id": "3cdf3907",
   "metadata": {},
   "outputs": [],
   "source": [
    "hotel_vienna.sort_values(by=[\"price\"], ascending=True)"
   ]
  },
  {
   "cell_type": "markdown",
   "id": "a9780221",
   "metadata": {},
   "source": [
    "Or decreasing order"
   ]
  },
  {
   "cell_type": "code",
   "execution_count": null,
   "id": "a89c05f1",
   "metadata": {},
   "outputs": [],
   "source": [
    "hotel_vienna.sort_values(by=[\"price\"], ascending=False)"
   ]
  },
  {
   "cell_type": "markdown",
   "id": "f937c5cb",
   "metadata": {},
   "source": [
    "### Task: writing out csv as clean data"
   ]
  },
  {
   "cell_type": "code",
   "execution_count": null,
   "id": "3880d832",
   "metadata": {},
   "outputs": [],
   "source": [
    "hotel_vienna.to_csv(\"hotel_vienna_restricted.csv\", index=False)"
   ]
  },
  {
   "cell_type": "code",
   "execution_count": null,
   "id": "b9aa6c2d",
   "metadata": {},
   "outputs": [],
   "source": []
  }
 ],
 "metadata": {
  "kernelspec": {
   "display_name": "Python 3 (ipykernel)",
   "language": "python",
   "name": "python3"
  },
  "language_info": {
   "codemirror_mode": {
    "name": "ipython",
    "version": 3
   },
   "file_extension": ".py",
   "mimetype": "text/x-python",
   "name": "python",
   "nbconvert_exporter": "python",
   "pygments_lexer": "ipython3",
   "version": "3.9.12"
  },
  "vscode": {
   "interpreter": {
    "hash": "02379600d2c1f831ab2aaa73197210a962cfb04f271ff099e74c1844ff770bad"
   }
  }
 },
 "nbformat": 4,
 "nbformat_minor": 5
}
