{
 "cells": [
  {
   "cell_type": "markdown",
   "id": "373b2ba3-04d6-49ee-8e57-b8d232c7ce5c",
   "metadata": {
    "tags": []
   },
   "source": [
    "# Lecture 04 – part I\n",
    "\n",
    "## Pandas Basics"
   ]
  },
  {
   "cell_type": "markdown",
   "id": "06c6c857-df70-4d42-bebd-9b41694fd260",
   "metadata": {},
   "source": [
    "[Pandas](#https://pandas.pydata.org/) is the most popular data container in Python for data manipulation and analysis. Pandas has two primary data structures: `Series` and `DataFrames`. Series are similar to Python lists or numpy vectors: they are one dimensional. They are more flexible asy can contain mixed types! A Series object  also has an index which is printed along the values when it goes _toString_. Pandas Series are the main building blocks of the Pandas DataFrames."
   ]
  },
  {
   "cell_type": "code",
   "execution_count": 1,
   "id": "425765b1",
   "metadata": {},
   "outputs": [],
   "source": [
    "import pandas as pd\n",
    "import numpy as np\n",
    "import warnings\n",
    "\n",
    "warnings.filterwarnings(\"ignore\")"
   ]
  },
  {
   "cell_type": "code",
   "execution_count": 2,
   "id": "143be156-2ca6-4cef-acd6-b187c1964688",
   "metadata": {},
   "outputs": [
    {
     "name": "stdout",
     "output_type": "stream",
     "text": [
      "0           a\n",
      "1           2\n",
      "2    3.141593\n",
      "3          36\n",
      "dtype: object\n"
     ]
    }
   ],
   "source": [
    "ps = pd.Series([\"a\", 2, np.pi, 36])\n",
    "print(ps)"
   ]
  },
  {
   "cell_type": "code",
   "execution_count": 3,
   "id": "353aa0e3-536c-4b69-a54e-c732c0161e6e",
   "metadata": {},
   "outputs": [
    {
     "name": "stdout",
     "output_type": "stream",
     "text": [
      "['a' 2 3.141592653589793 36]\n"
     ]
    }
   ],
   "source": [
    "# values only\n",
    "print(ps.values)"
   ]
  },
  {
   "cell_type": "code",
   "execution_count": 4,
   "id": "3785141a-f6f0-44ad-a28e-5b15f03d7b93",
   "metadata": {},
   "outputs": [
    {
     "name": "stdout",
     "output_type": "stream",
     "text": [
      "RangeIndex(start=0, stop=4, step=1)\n"
     ]
    }
   ],
   "source": [
    "# indices only\n",
    "print(ps.index)"
   ]
  },
  {
   "cell_type": "markdown",
   "id": "55a65437-c159-491d-9395-7df16adb7ebf",
   "metadata": {},
   "source": [
    "We can use the list slicing indices to acces data..."
   ]
  },
  {
   "cell_type": "code",
   "execution_count": 5,
   "id": "57f4e896-fb79-4af6-89d9-8d01a9013c80",
   "metadata": {},
   "outputs": [
    {
     "name": "stdout",
     "output_type": "stream",
     "text": [
      "1           2\n",
      "2    3.141593\n",
      "dtype: object\n"
     ]
    }
   ],
   "source": [
    "print(ps[1:3])"
   ]
  },
  {
   "cell_type": "markdown",
   "id": "17b9d843-98d6-459b-8120-2c0247b31959",
   "metadata": {},
   "source": [
    "There are two other syntax options for data access:\n",
    "- `.loc[]` provides access using the _index values_\n",
    "- `iloc[]` uses the index positions"
   ]
  },
  {
   "cell_type": "code",
   "execution_count": 6,
   "id": "84f34d17-392a-4e89-b8de-434c616afdfc",
   "metadata": {},
   "outputs": [],
   "source": [
    "ps = pd.Series(\n",
    "    data=[\n",
    "        \"mozzarella caprese\",\n",
    "        \"Wiener Schnitzel\",\n",
    "        \"Schwartwalder Kirschtorte\",\n",
    "        \"lemonade\",\n",
    "        \"whiskey\",\n",
    "    ],\n",
    "    index=[\"appetizer\", \"main course\", \"dessert\", \"beverage\", \"alcohol\"],\n",
    ")"
   ]
  },
  {
   "cell_type": "code",
   "execution_count": 7,
   "id": "0d065e58-856f-47a7-bad8-413ddd1bba87",
   "metadata": {},
   "outputs": [
    {
     "data": {
      "text/plain": [
       "appetizer             mozzarella caprese\n",
       "main course             Wiener Schnitzel\n",
       "dessert        Schwartwalder Kirschtorte\n",
       "beverage                        lemonade\n",
       "alcohol                          whiskey\n",
       "dtype: object"
      ]
     },
     "execution_count": 7,
     "metadata": {},
     "output_type": "execute_result"
    }
   ],
   "source": [
    "ps"
   ]
  },
  {
   "cell_type": "code",
   "execution_count": 8,
   "id": "c00d5a97-8d52-4efc-aa93-3507ecb3826c",
   "metadata": {},
   "outputs": [
    {
     "data": {
      "text/plain": [
       "appetizer           mozzarella caprese\n",
       "dessert      Schwartwalder Kirschtorte\n",
       "beverage                      lemonade\n",
       "dtype: object"
      ]
     },
     "execution_count": 8,
     "metadata": {},
     "output_type": "execute_result"
    }
   ],
   "source": [
    "ps.loc[[\"appetizer\", \"dessert\", \"beverage\"]]"
   ]
  },
  {
   "cell_type": "code",
   "execution_count": 9,
   "id": "e6f198a6-b5cd-4047-a15e-bb77c6aa2c39",
   "metadata": {},
   "outputs": [
    {
     "data": {
      "text/plain": [
       "main course             Wiener Schnitzel\n",
       "dessert        Schwartwalder Kirschtorte\n",
       "dtype: object"
      ]
     },
     "execution_count": 9,
     "metadata": {},
     "output_type": "execute_result"
    }
   ],
   "source": [
    "ps.iloc[1:3]"
   ]
  },
  {
   "cell_type": "markdown",
   "id": "decaa2f6-7955-41fe-aaad-3d0b0faabc47",
   "metadata": {},
   "source": [
    "DataFrames are 'two-dimensional, size-mutable, potentially heterogeneous tabular data'. Each DataFrame is eventually a collection of Pandas Series.\n",
    "\n",
    "There are mupltiple ways to create Pandas dataframes."
   ]
  },
  {
   "cell_type": "code",
   "execution_count": 10,
   "id": "2f00e15d-0ac8-4dfc-acee-123abedbcc43",
   "metadata": {},
   "outputs": [],
   "source": [
    "dc_city_pop = {\n",
    "    'Tokyo': 37339804,\n",
    "    'Delhi': 31181376,\n",
    "    'Shanghai': 27795702,\n",
    "    'Sao Paulo': 22237472,\n",
    "    'Mexico City': 21918936,\n",
    "    'Dhaka': 21741090,\n",
    "    'Cairo': 21322750,\n",
    "    'Beijing': 20896820,\n",
    "    'Mumbai': 20667656,\n",
    "    'Osaka': 19110616\n",
    "}"
   ]
  },
  {
   "cell_type": "markdown",
   "id": "aa99fcd0-c84b-4255-8c7c-72214e93f4ab",
   "metadata": {},
   "source": [
    "Note: population numbers are from [2018](https://www.archdaily.com/906605/the-20-largest-cities-in-the-world-of-2018)."
   ]
  },
  {
   "cell_type": "code",
   "execution_count": 11,
   "id": "65b01f99-81b6-4aef-b529-9770964c3078",
   "metadata": {},
   "outputs": [
    {
     "data": {
      "text/plain": [
       "Tokyo          37339804\n",
       "Delhi          31181376\n",
       "Shanghai       27795702\n",
       "Sao Paulo      22237472\n",
       "Mexico City    21918936\n",
       "Dhaka          21741090\n",
       "Cairo          21322750\n",
       "Beijing        20896820\n",
       "Mumbai         20667656\n",
       "Osaka          19110616\n",
       "dtype: int64"
      ]
     },
     "execution_count": 11,
     "metadata": {},
     "output_type": "execute_result"
    }
   ],
   "source": [
    "ps_city_pop = pd.Series(dc_city_pop)\n",
    "ps_city_pop"
   ]
  },
  {
   "cell_type": "code",
   "execution_count": 12,
   "id": "994f4c5b-7cda-4cab-aa08-a28648beb910",
   "metadata": {},
   "outputs": [
    {
     "name": "stdout",
     "output_type": "stream",
     "text": [
      "Index(['Tokyo', 'Delhi', 'Shanghai', 'Sao Paulo', 'Mexico City', 'Dhaka',\n",
      "       'Cairo', 'Beijing', 'Mumbai', 'Osaka'],\n",
      "      dtype='object')\n",
      "[37339804 31181376 27795702 22237472 21918936 21741090 21322750 20896820\n",
      " 20667656 19110616]\n"
     ]
    }
   ],
   "source": [
    "print(ps_city_pop.index)\n",
    "print(ps_city_pop.values)"
   ]
  },
  {
   "cell_type": "code",
   "execution_count": 13,
   "id": "dff01c0c-eb0b-417a-a1ad-80c64d7da666",
   "metadata": {},
   "outputs": [],
   "source": [
    "dc_city_countries = {\n",
    "    \"Tokyo\": \"Japan\",\n",
    "    \"Delhi\": \"India\",\n",
    "    \"Shanghai\": \"China\",\n",
    "    \"Sao Paulo\": \"Brazil\",\n",
    "    \"Mexico City\": \"Mexico\",\n",
    "    \"Dhaka\": \"Bangladesh\",\n",
    "    \"Cairo\": \"Egypt\",\n",
    "    \"Beijing\": \"China\",\n",
    "    \"Mumbai\": \"India\",\n",
    "    \"Osaka\": \"Japan\",\n",
    "}"
   ]
  },
  {
   "cell_type": "code",
   "execution_count": 14,
   "id": "270b79f2-ccbb-433e-907d-c8245e708029",
   "metadata": {},
   "outputs": [
    {
     "data": {
      "text/plain": [
       "Tokyo               Japan\n",
       "Delhi               India\n",
       "Shanghai            China\n",
       "Sao Paulo          Brazil\n",
       "Mexico City        Mexico\n",
       "Dhaka          Bangladesh\n",
       "Cairo               Egypt\n",
       "Beijing             China\n",
       "Mumbai              India\n",
       "Osaka               Japan\n",
       "dtype: object"
      ]
     },
     "execution_count": 14,
     "metadata": {},
     "output_type": "execute_result"
    }
   ],
   "source": [
    "ps_city_countries = pd.Series(dc_city_countries)\n",
    "ps_city_countries"
   ]
  },
  {
   "cell_type": "code",
   "execution_count": 15,
   "id": "b409e722-6624-4259-b60f-94ed3b139067",
   "metadata": {},
   "outputs": [
    {
     "name": "stdout",
     "output_type": "stream",
     "text": [
      "Index(['Tokyo', 'Delhi', 'Shanghai', 'Sao Paulo', 'Mexico City', 'Dhaka',\n",
      "       'Cairo', 'Beijing', 'Mumbai', 'Osaka'],\n",
      "      dtype='object')\n",
      "['Japan' 'India' 'China' 'Brazil' 'Mexico' 'Bangladesh' 'Egypt' 'China'\n",
      " 'India' 'Japan']\n"
     ]
    }
   ],
   "source": [
    "print(ps_city_countries.index)\n",
    "print(ps_city_countries.values)"
   ]
  },
  {
   "cell_type": "code",
   "execution_count": 16,
   "id": "b6269cdd-052c-41c6-84c4-303acfbeb624",
   "metadata": {},
   "outputs": [
    {
     "data": {
      "text/html": [
       "<div>\n",
       "<style scoped>\n",
       "    .dataframe tbody tr th:only-of-type {\n",
       "        vertical-align: middle;\n",
       "    }\n",
       "\n",
       "    .dataframe tbody tr th {\n",
       "        vertical-align: top;\n",
       "    }\n",
       "\n",
       "    .dataframe thead th {\n",
       "        text-align: right;\n",
       "    }\n",
       "</style>\n",
       "<table border=\"1\" class=\"dataframe\">\n",
       "  <thead>\n",
       "    <tr style=\"text-align: right;\">\n",
       "      <th></th>\n",
       "      <th>0</th>\n",
       "      <th>1</th>\n",
       "    </tr>\n",
       "  </thead>\n",
       "  <tbody>\n",
       "    <tr>\n",
       "      <th>Tokyo</th>\n",
       "      <td>37339804</td>\n",
       "      <td>Japan</td>\n",
       "    </tr>\n",
       "    <tr>\n",
       "      <th>Delhi</th>\n",
       "      <td>31181376</td>\n",
       "      <td>India</td>\n",
       "    </tr>\n",
       "    <tr>\n",
       "      <th>Shanghai</th>\n",
       "      <td>27795702</td>\n",
       "      <td>China</td>\n",
       "    </tr>\n",
       "    <tr>\n",
       "      <th>Sao Paulo</th>\n",
       "      <td>22237472</td>\n",
       "      <td>Brazil</td>\n",
       "    </tr>\n",
       "    <tr>\n",
       "      <th>Mexico City</th>\n",
       "      <td>21918936</td>\n",
       "      <td>Mexico</td>\n",
       "    </tr>\n",
       "    <tr>\n",
       "      <th>Dhaka</th>\n",
       "      <td>21741090</td>\n",
       "      <td>Bangladesh</td>\n",
       "    </tr>\n",
       "    <tr>\n",
       "      <th>Cairo</th>\n",
       "      <td>21322750</td>\n",
       "      <td>Egypt</td>\n",
       "    </tr>\n",
       "    <tr>\n",
       "      <th>Beijing</th>\n",
       "      <td>20896820</td>\n",
       "      <td>China</td>\n",
       "    </tr>\n",
       "    <tr>\n",
       "      <th>Mumbai</th>\n",
       "      <td>20667656</td>\n",
       "      <td>India</td>\n",
       "    </tr>\n",
       "    <tr>\n",
       "      <th>Osaka</th>\n",
       "      <td>19110616</td>\n",
       "      <td>Japan</td>\n",
       "    </tr>\n",
       "  </tbody>\n",
       "</table>\n",
       "</div>"
      ],
      "text/plain": [
       "                    0           1\n",
       "Tokyo        37339804       Japan\n",
       "Delhi        31181376       India\n",
       "Shanghai     27795702       China\n",
       "Sao Paulo    22237472      Brazil\n",
       "Mexico City  21918936      Mexico\n",
       "Dhaka        21741090  Bangladesh\n",
       "Cairo        21322750       Egypt\n",
       "Beijing      20896820       China\n",
       "Mumbai       20667656       India\n",
       "Osaka        19110616       Japan"
      ]
     },
     "execution_count": 16,
     "metadata": {},
     "output_type": "execute_result"
    }
   ],
   "source": [
    "df_cities = pd.concat([ps_city_pop, ps_city_countries], axis=1)\n",
    "df_cities"
   ]
  },
  {
   "cell_type": "code",
   "execution_count": 17,
   "id": "7914a006-fe0a-41eb-91a5-7c8609a34c21",
   "metadata": {},
   "outputs": [
    {
     "data": {
      "text/html": [
       "<div>\n",
       "<style scoped>\n",
       "    .dataframe tbody tr th:only-of-type {\n",
       "        vertical-align: middle;\n",
       "    }\n",
       "\n",
       "    .dataframe tbody tr th {\n",
       "        vertical-align: top;\n",
       "    }\n",
       "\n",
       "    .dataframe thead th {\n",
       "        text-align: right;\n",
       "    }\n",
       "</style>\n",
       "<table border=\"1\" class=\"dataframe\">\n",
       "  <thead>\n",
       "    <tr style=\"text-align: right;\">\n",
       "      <th></th>\n",
       "      <th>population</th>\n",
       "      <th>country</th>\n",
       "    </tr>\n",
       "  </thead>\n",
       "  <tbody>\n",
       "    <tr>\n",
       "      <th>Tokyo</th>\n",
       "      <td>37339804</td>\n",
       "      <td>Japan</td>\n",
       "    </tr>\n",
       "    <tr>\n",
       "      <th>Delhi</th>\n",
       "      <td>31181376</td>\n",
       "      <td>India</td>\n",
       "    </tr>\n",
       "    <tr>\n",
       "      <th>Shanghai</th>\n",
       "      <td>27795702</td>\n",
       "      <td>China</td>\n",
       "    </tr>\n",
       "    <tr>\n",
       "      <th>Sao Paulo</th>\n",
       "      <td>22237472</td>\n",
       "      <td>Brazil</td>\n",
       "    </tr>\n",
       "    <tr>\n",
       "      <th>Mexico City</th>\n",
       "      <td>21918936</td>\n",
       "      <td>Mexico</td>\n",
       "    </tr>\n",
       "    <tr>\n",
       "      <th>Dhaka</th>\n",
       "      <td>21741090</td>\n",
       "      <td>Bangladesh</td>\n",
       "    </tr>\n",
       "    <tr>\n",
       "      <th>Cairo</th>\n",
       "      <td>21322750</td>\n",
       "      <td>Egypt</td>\n",
       "    </tr>\n",
       "    <tr>\n",
       "      <th>Beijing</th>\n",
       "      <td>20896820</td>\n",
       "      <td>China</td>\n",
       "    </tr>\n",
       "    <tr>\n",
       "      <th>Mumbai</th>\n",
       "      <td>20667656</td>\n",
       "      <td>India</td>\n",
       "    </tr>\n",
       "    <tr>\n",
       "      <th>Osaka</th>\n",
       "      <td>19110616</td>\n",
       "      <td>Japan</td>\n",
       "    </tr>\n",
       "  </tbody>\n",
       "</table>\n",
       "</div>"
      ],
      "text/plain": [
       "             population     country\n",
       "Tokyo          37339804       Japan\n",
       "Delhi          31181376       India\n",
       "Shanghai       27795702       China\n",
       "Sao Paulo      22237472      Brazil\n",
       "Mexico City    21918936      Mexico\n",
       "Dhaka          21741090  Bangladesh\n",
       "Cairo          21322750       Egypt\n",
       "Beijing        20896820       China\n",
       "Mumbai         20667656       India\n",
       "Osaka          19110616       Japan"
      ]
     },
     "execution_count": 17,
     "metadata": {},
     "output_type": "execute_result"
    }
   ],
   "source": [
    "df_cities.columns = ['population', 'country']\n",
    "df_cities"
   ]
  },
  {
   "cell_type": "markdown",
   "id": "01b2b6c5-7718-45af-9a87-58819e077f95",
   "metadata": {},
   "source": [
    "<br>Slicing based on index and/or column.\n",
    "- using `.iloc[]` based on position"
   ]
  },
  {
   "cell_type": "code",
   "execution_count": null,
   "id": "33c3d33a-e295-4c79-a230-9cd44c415c7c",
   "metadata": {},
   "outputs": [],
   "source": [
    "# some rows\n",
    "df_cities.iloc[2:5]"
   ]
  },
  {
   "cell_type": "code",
   "execution_count": null,
   "id": "98df9e2c-41b7-48b7-8605-e743167209ea",
   "metadata": {},
   "outputs": [],
   "source": [
    "# some rows and some columns\n",
    "df_cities.iloc[2:5, 1]"
   ]
  },
  {
   "cell_type": "markdown",
   "id": "c0c53799-bb62-45aa-8455-c861bc539c78",
   "metadata": {},
   "source": [
    "- using `.loc[]` based on the index value and/or column name"
   ]
  },
  {
   "cell_type": "code",
   "execution_count": null,
   "id": "bbf5013b-4e05-413d-8b3b-20ecd4fe4652",
   "metadata": {},
   "outputs": [],
   "source": [
    "# list of cities (note the double squared brackets)\n",
    "df_cities.loc[[\"Shanghai\", \"Dhaka\", \"Osaka\"]]"
   ]
  },
  {
   "cell_type": "code",
   "execution_count": null,
   "id": "d78798e4-504b-4c9a-a977-afa8bb882c12",
   "metadata": {},
   "outputs": [],
   "source": [
    "# list of cities + a column\n",
    "df_cities.loc[[\"Shanghai\", \"Dhaka\", \"Osaka\"], \"country\"]"
   ]
  },
  {
   "cell_type": "code",
   "execution_count": null,
   "id": "2146293f-4091-4fd9-abd0-b8ffb955a1fb",
   "metadata": {},
   "outputs": [],
   "source": [
    "# a range of cities from the index\n",
    "df_cities.loc[\"Tokyo\":\"Sao Paulo\"]"
   ]
  },
  {
   "cell_type": "markdown",
   "id": "098374e9-8860-470c-964c-3f8e7dd27275",
   "metadata": {},
   "source": [
    "- sicing/filtering based on cell value"
   ]
  },
  {
   "cell_type": "code",
   "execution_count": null,
   "id": "e67284dd-96aa-41fb-8e37-1d8c0605bebe",
   "metadata": {},
   "outputs": [],
   "source": [
    "df_cities[df_cities.population > 30_000_000] # for human readibility you can use underscore as thousand separator"
   ]
  },
  {
   "cell_type": "code",
   "execution_count": null,
   "id": "b187b0a1-e371-4fef-8160-aea217b5f1e2",
   "metadata": {},
   "outputs": [],
   "source": [
    "df_cities[df_cities.country.isin([\"Japan\", \"India\", \"Brazil\"])]"
   ]
  },
  {
   "cell_type": "code",
   "execution_count": null,
   "id": "c97c3133-6554-4a82-b938-b350b7097416",
   "metadata": {},
   "outputs": [],
   "source": [
    "df_cities[\n",
    "    ~df_cities.country.isin([\"Japan\", \"India\", \"Brazil\"])\n",
    "]  # tilde (~) for 'not in'"
   ]
  },
  {
   "cell_type": "markdown",
   "id": "287b0e64-ea45-4a70-b1d0-4a4d5f941f4f",
   "metadata": {},
   "source": [
    "<br>Move index to column"
   ]
  },
  {
   "cell_type": "code",
   "execution_count": null,
   "id": "728a7482-f66b-46f8-a238-6bc70cb7f38b",
   "metadata": {},
   "outputs": [],
   "source": [
    "df_cities.reset_index(drop=False, inplace=True)\n",
    "df_cities"
   ]
  },
  {
   "cell_type": "markdown",
   "id": "125c5d9c-d77e-4c28-a32c-36cf3ddf8dba",
   "metadata": {},
   "source": [
    "<br>You can rename certain columns using a dictionary with _old name_ as key and _new name_ as value."
   ]
  },
  {
   "cell_type": "code",
   "execution_count": null,
   "id": "6c3d1a00-68ba-4aed-9267-8c5eb197f6d6",
   "metadata": {},
   "outputs": [],
   "source": [
    "df_cities.rename({\"index\": \"city\"}, axis=\"columns\", inplace=True)\n",
    "df_cities"
   ]
  },
  {
   "cell_type": "markdown",
   "id": "a1ad5878-9631-45bc-a1f9-c8347284934a",
   "metadata": {},
   "source": [
    "We can also create a dataframe from a list of lists."
   ]
  },
  {
   "cell_type": "code",
   "execution_count": null,
   "id": "d1bc95fa-80ba-4dec-be8b-705c50fb66bd",
   "metadata": {},
   "outputs": [],
   "source": [
    "data = []\n",
    "data.append([\"Tokyo\", 37339804, \"Japan\"])\n",
    "data.append([\"Delhi\", 31181376, \"India\"])\n",
    "data.append([\"Shanghai\", 27795702, \"China\"])\n",
    "data.append([\"Sao Paulo\", 22237472, \"Brazil\"])\n",
    "data.append([\"Mexico City\", 21918936, \"Mexico\"])\n",
    "data.append([\"Dhaka\", 21741090, \"Bangladesh\"])\n",
    "data.append([\"Cairo\", 21322750, \"Egypt\"])\n",
    "data.append([\"Beijing\", 20896820, \"China\"])\n",
    "data.append([\"Mumbai\", 20667656, \"India\"])\n",
    "data.append([\"Osaka\", 19110616, \"Japan\"])"
   ]
  },
  {
   "cell_type": "code",
   "execution_count": null,
   "id": "46893b4d-5580-41f5-ab65-cee805bec3ba",
   "metadata": {},
   "outputs": [],
   "source": [
    "data"
   ]
  },
  {
   "cell_type": "code",
   "execution_count": null,
   "id": "f15531bf-1f5e-4eb1-b4d4-f5a7900b9434",
   "metadata": {},
   "outputs": [],
   "source": [
    "df_cities_ = pd.DataFrame(data=data, columns=[\"city\", \"population\", \"country\"])\n",
    "df_cities_"
   ]
  },
  {
   "cell_type": "markdown",
   "id": "2ce73031-d755-48bf-8bcc-fb276102163b",
   "metadata": {},
   "source": [
    "Reorder columns "
   ]
  },
  {
   "cell_type": "code",
   "execution_count": null,
   "id": "466c8d1f-a08a-4571-97e7-b3720fb6816f",
   "metadata": {},
   "outputs": [],
   "source": [
    "df_cities_ = df_cities_[[\"city\", \"country\", \"population\"]]\n",
    "df_cities_"
   ]
  },
  {
   "cell_type": "markdown",
   "id": "1e2caa0b-4343-45b6-a5d9-3649c8d5ecaf",
   "metadata": {},
   "source": [
    "Metadata on the dataframe colums"
   ]
  },
  {
   "cell_type": "code",
   "execution_count": null,
   "id": "5d4f7872-8791-48e4-af8e-f0f0582a1f2c",
   "metadata": {},
   "outputs": [],
   "source": [
    "df_cities.info()"
   ]
  },
  {
   "cell_type": "code",
   "execution_count": null,
   "id": "d714a74a-f6da-4d38-8e9b-5b982fb65610",
   "metadata": {},
   "outputs": [],
   "source": [
    "df_cities.shape # results in a tuple"
   ]
  },
  {
   "cell_type": "code",
   "execution_count": null,
   "id": "afb94144-78c7-4ef9-a51c-9c14b7f90f17",
   "metadata": {},
   "outputs": [],
   "source": [
    "df_cities.shape[0] # rowcount"
   ]
  }
 ],
 "metadata": {
  "kernelspec": {
   "display_name": "Python 3 (ipykernel)",
   "language": "python",
   "name": "python3"
  },
  "language_info": {
   "codemirror_mode": {
    "name": "ipython",
    "version": 3
   },
   "file_extension": ".py",
   "mimetype": "text/x-python",
   "name": "python",
   "nbconvert_exporter": "python",
   "pygments_lexer": "ipython3",
   "version": "3.9.12"
  }
 },
 "nbformat": 4,
 "nbformat_minor": 5
}
